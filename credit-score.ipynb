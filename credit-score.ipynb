{
 "cells": [
  {
   "cell_type": "markdown",
   "id": "33b3960e",
   "metadata": {
    "_cell_guid": "b1076dfc-b9ad-4769-8c92-a6c4dae69d19",
    "_uuid": "8f2839f25d086af736a60e9eeb907d3b93b6e0e5",
    "papermill": {
     "duration": 0.022155,
     "end_time": "2024-04-30T14:36:00.462996",
     "exception": false,
     "start_time": "2024-04-30T14:36:00.440841",
     "status": "completed"
    },
    "tags": []
   },
   "source": [
    "# Classificação de Crédito\n",
    "\n",
    "Iremos trabalhar com duas base de dados e realizaremos as seguintes operações:\n",
    "- Tratamento de dados\n",
    "- Construir variável de resposta\n",
    "- Criar modelo de classificação\n",
    "\n",
    "\n",
    "## O Problema\n",
    "Uma empresa fictícia provedora de crédito deseja um modelo capaz de prever quais dos seus clientes serão bons ou maus pagadores, para isso eles forneceram duas base de dados. Uma com informações dos clientes e outra com informações dos pagamentos realizados dos créditos obtidos.\n",
    "\n",
    "## Objetivo\n",
    "Criar um modelo de classificação usando árvores de decisão"
   ]
  },
  {
   "cell_type": "markdown",
   "id": "b5dbdb57",
   "metadata": {
    "papermill": {
     "duration": 0.022419,
     "end_time": "2024-04-30T14:36:00.506695",
     "exception": false,
     "start_time": "2024-04-30T14:36:00.484276",
     "status": "completed"
    },
    "tags": []
   },
   "source": [
    "# 1. Preparando Base de Treino"
   ]
  },
  {
   "cell_type": "code",
   "execution_count": 1,
   "id": "3e1258db",
   "metadata": {
    "execution": {
     "iopub.execute_input": "2024-04-30T14:36:00.552519Z",
     "iopub.status.busy": "2024-04-30T14:36:00.551766Z",
     "iopub.status.idle": "2024-04-30T14:36:03.789520Z",
     "shell.execute_reply": "2024-04-30T14:36:03.788434Z"
    },
    "papermill": {
     "duration": 3.26335,
     "end_time": "2024-04-30T14:36:03.792273",
     "exception": false,
     "start_time": "2024-04-30T14:36:00.528923",
     "status": "completed"
    },
    "tags": []
   },
   "outputs": [],
   "source": [
    "# Importando bibliotecas\n",
    "import numpy as np\n",
    "import pandas as pd\n",
    "import seaborn as sns\n",
    "import matplotlib.pyplot as plt\n",
    "\n",
    "from sklearn.model_selection import train_test_split\n",
    "from sklearn.tree import DecisionTreeClassifier, plot_tree\n",
    "from sklearn.metrics import accuracy_score, confusion_matrix\n",
    "\n",
    "pd.options.mode.copy_on_write = True"
   ]
  },
  {
   "cell_type": "code",
   "execution_count": 2,
   "id": "4ba4451d",
   "metadata": {
    "execution": {
     "iopub.execute_input": "2024-04-30T14:36:03.837566Z",
     "iopub.status.busy": "2024-04-30T14:36:03.836991Z",
     "iopub.status.idle": "2024-04-30T14:36:05.654018Z",
     "shell.execute_reply": "2024-04-30T14:36:05.652888Z"
    },
    "papermill": {
     "duration": 1.842886,
     "end_time": "2024-04-30T14:36:05.657290",
     "exception": false,
     "start_time": "2024-04-30T14:36:03.814404",
     "status": "completed"
    },
    "tags": []
   },
   "outputs": [
    {
     "data": {
      "text/html": [
       "<div>\n",
       "<style scoped>\n",
       "    .dataframe tbody tr th:only-of-type {\n",
       "        vertical-align: middle;\n",
       "    }\n",
       "\n",
       "    .dataframe tbody tr th {\n",
       "        vertical-align: top;\n",
       "    }\n",
       "\n",
       "    .dataframe thead th {\n",
       "        text-align: right;\n",
       "    }\n",
       "</style>\n",
       "<table border=\"1\" class=\"dataframe\">\n",
       "  <thead>\n",
       "    <tr style=\"text-align: right;\">\n",
       "      <th></th>\n",
       "      <th>ID</th>\n",
       "      <th>CODE_GENDER</th>\n",
       "      <th>FLAG_OWN_CAR</th>\n",
       "      <th>FLAG_OWN_REALTY</th>\n",
       "      <th>CNT_CHILDREN</th>\n",
       "      <th>AMT_INCOME_TOTAL</th>\n",
       "      <th>NAME_INCOME_TYPE</th>\n",
       "      <th>NAME_EDUCATION_TYPE</th>\n",
       "      <th>NAME_FAMILY_STATUS</th>\n",
       "      <th>NAME_HOUSING_TYPE</th>\n",
       "      <th>DAYS_BIRTH</th>\n",
       "      <th>DAYS_EMPLOYED</th>\n",
       "      <th>FLAG_MOBIL</th>\n",
       "      <th>FLAG_WORK_PHONE</th>\n",
       "      <th>FLAG_PHONE</th>\n",
       "      <th>FLAG_EMAIL</th>\n",
       "      <th>OCCUPATION_TYPE</th>\n",
       "      <th>CNT_FAM_MEMBERS</th>\n",
       "    </tr>\n",
       "  </thead>\n",
       "  <tbody>\n",
       "    <tr>\n",
       "      <th>0</th>\n",
       "      <td>5008804</td>\n",
       "      <td>M</td>\n",
       "      <td>Y</td>\n",
       "      <td>Y</td>\n",
       "      <td>0</td>\n",
       "      <td>427500.0</td>\n",
       "      <td>Working</td>\n",
       "      <td>Higher education</td>\n",
       "      <td>Civil marriage</td>\n",
       "      <td>Rented apartment</td>\n",
       "      <td>-12005</td>\n",
       "      <td>-4542</td>\n",
       "      <td>1</td>\n",
       "      <td>1</td>\n",
       "      <td>0</td>\n",
       "      <td>0</td>\n",
       "      <td>NaN</td>\n",
       "      <td>2.0</td>\n",
       "    </tr>\n",
       "    <tr>\n",
       "      <th>1</th>\n",
       "      <td>5008805</td>\n",
       "      <td>M</td>\n",
       "      <td>Y</td>\n",
       "      <td>Y</td>\n",
       "      <td>0</td>\n",
       "      <td>427500.0</td>\n",
       "      <td>Working</td>\n",
       "      <td>Higher education</td>\n",
       "      <td>Civil marriage</td>\n",
       "      <td>Rented apartment</td>\n",
       "      <td>-12005</td>\n",
       "      <td>-4542</td>\n",
       "      <td>1</td>\n",
       "      <td>1</td>\n",
       "      <td>0</td>\n",
       "      <td>0</td>\n",
       "      <td>NaN</td>\n",
       "      <td>2.0</td>\n",
       "    </tr>\n",
       "    <tr>\n",
       "      <th>2</th>\n",
       "      <td>5008806</td>\n",
       "      <td>M</td>\n",
       "      <td>Y</td>\n",
       "      <td>Y</td>\n",
       "      <td>0</td>\n",
       "      <td>112500.0</td>\n",
       "      <td>Working</td>\n",
       "      <td>Secondary / secondary special</td>\n",
       "      <td>Married</td>\n",
       "      <td>House / apartment</td>\n",
       "      <td>-21474</td>\n",
       "      <td>-1134</td>\n",
       "      <td>1</td>\n",
       "      <td>0</td>\n",
       "      <td>0</td>\n",
       "      <td>0</td>\n",
       "      <td>Security staff</td>\n",
       "      <td>2.0</td>\n",
       "    </tr>\n",
       "    <tr>\n",
       "      <th>3</th>\n",
       "      <td>5008808</td>\n",
       "      <td>F</td>\n",
       "      <td>N</td>\n",
       "      <td>Y</td>\n",
       "      <td>0</td>\n",
       "      <td>270000.0</td>\n",
       "      <td>Commercial associate</td>\n",
       "      <td>Secondary / secondary special</td>\n",
       "      <td>Single / not married</td>\n",
       "      <td>House / apartment</td>\n",
       "      <td>-19110</td>\n",
       "      <td>-3051</td>\n",
       "      <td>1</td>\n",
       "      <td>0</td>\n",
       "      <td>1</td>\n",
       "      <td>1</td>\n",
       "      <td>Sales staff</td>\n",
       "      <td>1.0</td>\n",
       "    </tr>\n",
       "    <tr>\n",
       "      <th>4</th>\n",
       "      <td>5008809</td>\n",
       "      <td>F</td>\n",
       "      <td>N</td>\n",
       "      <td>Y</td>\n",
       "      <td>0</td>\n",
       "      <td>270000.0</td>\n",
       "      <td>Commercial associate</td>\n",
       "      <td>Secondary / secondary special</td>\n",
       "      <td>Single / not married</td>\n",
       "      <td>House / apartment</td>\n",
       "      <td>-19110</td>\n",
       "      <td>-3051</td>\n",
       "      <td>1</td>\n",
       "      <td>0</td>\n",
       "      <td>1</td>\n",
       "      <td>1</td>\n",
       "      <td>Sales staff</td>\n",
       "      <td>1.0</td>\n",
       "    </tr>\n",
       "  </tbody>\n",
       "</table>\n",
       "</div>"
      ],
      "text/plain": [
       "        ID CODE_GENDER FLAG_OWN_CAR FLAG_OWN_REALTY  CNT_CHILDREN  \\\n",
       "0  5008804           M            Y               Y             0   \n",
       "1  5008805           M            Y               Y             0   \n",
       "2  5008806           M            Y               Y             0   \n",
       "3  5008808           F            N               Y             0   \n",
       "4  5008809           F            N               Y             0   \n",
       "\n",
       "   AMT_INCOME_TOTAL      NAME_INCOME_TYPE            NAME_EDUCATION_TYPE  \\\n",
       "0          427500.0               Working               Higher education   \n",
       "1          427500.0               Working               Higher education   \n",
       "2          112500.0               Working  Secondary / secondary special   \n",
       "3          270000.0  Commercial associate  Secondary / secondary special   \n",
       "4          270000.0  Commercial associate  Secondary / secondary special   \n",
       "\n",
       "     NAME_FAMILY_STATUS  NAME_HOUSING_TYPE  DAYS_BIRTH  DAYS_EMPLOYED  \\\n",
       "0        Civil marriage   Rented apartment      -12005          -4542   \n",
       "1        Civil marriage   Rented apartment      -12005          -4542   \n",
       "2               Married  House / apartment      -21474          -1134   \n",
       "3  Single / not married  House / apartment      -19110          -3051   \n",
       "4  Single / not married  House / apartment      -19110          -3051   \n",
       "\n",
       "   FLAG_MOBIL  FLAG_WORK_PHONE  FLAG_PHONE  FLAG_EMAIL OCCUPATION_TYPE  \\\n",
       "0           1                1           0           0             NaN   \n",
       "1           1                1           0           0             NaN   \n",
       "2           1                0           0           0  Security staff   \n",
       "3           1                0           1           1     Sales staff   \n",
       "4           1                0           1           1     Sales staff   \n",
       "\n",
       "   CNT_FAM_MEMBERS  \n",
       "0              2.0  \n",
       "1              2.0  \n",
       "2              2.0  \n",
       "3              1.0  \n",
       "4              1.0  "
      ]
     },
     "execution_count": 2,
     "metadata": {},
     "output_type": "execute_result"
    }
   ],
   "source": [
    "# Coletando dados\n",
    "apr = pd.read_csv('/kaggle/input/credit-card-approval-prediction/application_record.csv')\n",
    "apr.head(5)"
   ]
  },
  {
   "cell_type": "markdown",
   "id": "a62091c8",
   "metadata": {
    "papermill": {
     "duration": 0.022475,
     "end_time": "2024-04-30T14:36:05.702232",
     "exception": false,
     "start_time": "2024-04-30T14:36:05.679757",
     "status": "completed"
    },
    "tags": []
   },
   "source": [
    "## 1.1 Preparando Dados"
   ]
  },
  {
   "cell_type": "code",
   "execution_count": 3,
   "id": "adda436b",
   "metadata": {
    "execution": {
     "iopub.execute_input": "2024-04-30T14:36:05.749030Z",
     "iopub.status.busy": "2024-04-30T14:36:05.748591Z",
     "iopub.status.idle": "2024-04-30T14:36:06.149830Z",
     "shell.execute_reply": "2024-04-30T14:36:06.148660Z"
    },
    "papermill": {
     "duration": 0.428138,
     "end_time": "2024-04-30T14:36:06.152676",
     "exception": false,
     "start_time": "2024-04-30T14:36:05.724538",
     "status": "completed"
    },
    "tags": []
   },
   "outputs": [
    {
     "name": "stdout",
     "output_type": "stream",
     "text": [
      "<class 'pandas.core.frame.DataFrame'>\n",
      "RangeIndex: 438557 entries, 0 to 438556\n",
      "Data columns (total 18 columns):\n",
      " #   Column               Non-Null Count   Dtype  \n",
      "---  ------               --------------   -----  \n",
      " 0   ID                   438557 non-null  int64  \n",
      " 1   CODE_GENDER          438557 non-null  object \n",
      " 2   FLAG_OWN_CAR         438557 non-null  object \n",
      " 3   FLAG_OWN_REALTY      438557 non-null  object \n",
      " 4   CNT_CHILDREN         438557 non-null  int64  \n",
      " 5   AMT_INCOME_TOTAL     438557 non-null  float64\n",
      " 6   NAME_INCOME_TYPE     438557 non-null  object \n",
      " 7   NAME_EDUCATION_TYPE  438557 non-null  object \n",
      " 8   NAME_FAMILY_STATUS   438557 non-null  object \n",
      " 9   NAME_HOUSING_TYPE    438557 non-null  object \n",
      " 10  DAYS_BIRTH           438557 non-null  int64  \n",
      " 11  DAYS_EMPLOYED        438557 non-null  int64  \n",
      " 12  FLAG_MOBIL           438557 non-null  int64  \n",
      " 13  FLAG_WORK_PHONE      438557 non-null  int64  \n",
      " 14  FLAG_PHONE           438557 non-null  int64  \n",
      " 15  FLAG_EMAIL           438557 non-null  int64  \n",
      " 16  OCCUPATION_TYPE      304354 non-null  object \n",
      " 17  CNT_FAM_MEMBERS      438557 non-null  float64\n",
      "dtypes: float64(2), int64(8), object(8)\n",
      "memory usage: 60.2+ MB\n"
     ]
    }
   ],
   "source": [
    "# Levantando informações sobre conjunto de dados\n",
    "apr.info()"
   ]
  },
  {
   "cell_type": "markdown",
   "id": "2c7f92a1",
   "metadata": {
    "papermill": {
     "duration": 0.021529,
     "end_time": "2024-04-30T14:36:06.197339",
     "exception": false,
     "start_time": "2024-04-30T14:36:06.175810",
     "status": "completed"
    },
    "tags": []
   },
   "source": [
    "### Observações\n",
    "A partir do leventamento de informações do conjunto de dados visto acima, é possível notar o seguinte:\n",
    "- CODE_GENDER, FLAG_OWN_CAR, FLAG_OWN_REALTY e CNT_FAM_MEMBERS podem ser convertidos para **int**\n",
    "- OCCUPATION_TYPE é a única coluna com dados faltantes"
   ]
  },
  {
   "cell_type": "markdown",
   "id": "35a9f312",
   "metadata": {
    "papermill": {
     "duration": 0.02753,
     "end_time": "2024-04-30T14:36:06.247060",
     "exception": false,
     "start_time": "2024-04-30T14:36:06.219530",
     "status": "completed"
    },
    "tags": []
   },
   "source": [
    "Para treinar o modelo usando o conjunto de dados, alguns ajustes são necessários, o primeiro desse é transformar as variáveis do tipo **object** para **int** através do método **map** e **astype** visto abaixo:"
   ]
  },
  {
   "cell_type": "code",
   "execution_count": 4,
   "id": "ab4c0a35",
   "metadata": {
    "execution": {
     "iopub.execute_input": "2024-04-30T14:36:06.319108Z",
     "iopub.status.busy": "2024-04-30T14:36:06.317913Z",
     "iopub.status.idle": "2024-04-30T14:36:06.455523Z",
     "shell.execute_reply": "2024-04-30T14:36:06.454392Z"
    },
    "papermill": {
     "duration": 0.174872,
     "end_time": "2024-04-30T14:36:06.458111",
     "exception": false,
     "start_time": "2024-04-30T14:36:06.283239",
     "status": "completed"
    },
    "tags": []
   },
   "outputs": [
    {
     "data": {
      "text/html": [
       "<div>\n",
       "<style scoped>\n",
       "    .dataframe tbody tr th:only-of-type {\n",
       "        vertical-align: middle;\n",
       "    }\n",
       "\n",
       "    .dataframe tbody tr th {\n",
       "        vertical-align: top;\n",
       "    }\n",
       "\n",
       "    .dataframe thead th {\n",
       "        text-align: right;\n",
       "    }\n",
       "</style>\n",
       "<table border=\"1\" class=\"dataframe\">\n",
       "  <thead>\n",
       "    <tr style=\"text-align: right;\">\n",
       "      <th></th>\n",
       "      <th>ID</th>\n",
       "      <th>CODE_GENDER</th>\n",
       "      <th>FLAG_OWN_CAR</th>\n",
       "      <th>FLAG_OWN_REALTY</th>\n",
       "      <th>CNT_CHILDREN</th>\n",
       "      <th>AMT_INCOME_TOTAL</th>\n",
       "      <th>NAME_INCOME_TYPE</th>\n",
       "      <th>NAME_EDUCATION_TYPE</th>\n",
       "      <th>NAME_FAMILY_STATUS</th>\n",
       "      <th>NAME_HOUSING_TYPE</th>\n",
       "      <th>DAYS_BIRTH</th>\n",
       "      <th>DAYS_EMPLOYED</th>\n",
       "      <th>FLAG_MOBIL</th>\n",
       "      <th>FLAG_WORK_PHONE</th>\n",
       "      <th>FLAG_PHONE</th>\n",
       "      <th>FLAG_EMAIL</th>\n",
       "      <th>OCCUPATION_TYPE</th>\n",
       "      <th>CNT_FAM_MEMBERS</th>\n",
       "    </tr>\n",
       "  </thead>\n",
       "  <tbody>\n",
       "    <tr>\n",
       "      <th>0</th>\n",
       "      <td>5008804</td>\n",
       "      <td>0</td>\n",
       "      <td>1</td>\n",
       "      <td>1</td>\n",
       "      <td>0</td>\n",
       "      <td>427500.0</td>\n",
       "      <td>Working</td>\n",
       "      <td>Higher education</td>\n",
       "      <td>Civil marriage</td>\n",
       "      <td>Rented apartment</td>\n",
       "      <td>-12005</td>\n",
       "      <td>-4542</td>\n",
       "      <td>1</td>\n",
       "      <td>1</td>\n",
       "      <td>0</td>\n",
       "      <td>0</td>\n",
       "      <td>NaN</td>\n",
       "      <td>2</td>\n",
       "    </tr>\n",
       "    <tr>\n",
       "      <th>1</th>\n",
       "      <td>5008805</td>\n",
       "      <td>0</td>\n",
       "      <td>1</td>\n",
       "      <td>1</td>\n",
       "      <td>0</td>\n",
       "      <td>427500.0</td>\n",
       "      <td>Working</td>\n",
       "      <td>Higher education</td>\n",
       "      <td>Civil marriage</td>\n",
       "      <td>Rented apartment</td>\n",
       "      <td>-12005</td>\n",
       "      <td>-4542</td>\n",
       "      <td>1</td>\n",
       "      <td>1</td>\n",
       "      <td>0</td>\n",
       "      <td>0</td>\n",
       "      <td>NaN</td>\n",
       "      <td>2</td>\n",
       "    </tr>\n",
       "    <tr>\n",
       "      <th>2</th>\n",
       "      <td>5008806</td>\n",
       "      <td>0</td>\n",
       "      <td>1</td>\n",
       "      <td>1</td>\n",
       "      <td>0</td>\n",
       "      <td>112500.0</td>\n",
       "      <td>Working</td>\n",
       "      <td>Secondary / secondary special</td>\n",
       "      <td>Married</td>\n",
       "      <td>House / apartment</td>\n",
       "      <td>-21474</td>\n",
       "      <td>-1134</td>\n",
       "      <td>1</td>\n",
       "      <td>0</td>\n",
       "      <td>0</td>\n",
       "      <td>0</td>\n",
       "      <td>Security staff</td>\n",
       "      <td>2</td>\n",
       "    </tr>\n",
       "    <tr>\n",
       "      <th>3</th>\n",
       "      <td>5008808</td>\n",
       "      <td>1</td>\n",
       "      <td>0</td>\n",
       "      <td>1</td>\n",
       "      <td>0</td>\n",
       "      <td>270000.0</td>\n",
       "      <td>Commercial associate</td>\n",
       "      <td>Secondary / secondary special</td>\n",
       "      <td>Single / not married</td>\n",
       "      <td>House / apartment</td>\n",
       "      <td>-19110</td>\n",
       "      <td>-3051</td>\n",
       "      <td>1</td>\n",
       "      <td>0</td>\n",
       "      <td>1</td>\n",
       "      <td>1</td>\n",
       "      <td>Sales staff</td>\n",
       "      <td>1</td>\n",
       "    </tr>\n",
       "    <tr>\n",
       "      <th>4</th>\n",
       "      <td>5008809</td>\n",
       "      <td>1</td>\n",
       "      <td>0</td>\n",
       "      <td>1</td>\n",
       "      <td>0</td>\n",
       "      <td>270000.0</td>\n",
       "      <td>Commercial associate</td>\n",
       "      <td>Secondary / secondary special</td>\n",
       "      <td>Single / not married</td>\n",
       "      <td>House / apartment</td>\n",
       "      <td>-19110</td>\n",
       "      <td>-3051</td>\n",
       "      <td>1</td>\n",
       "      <td>0</td>\n",
       "      <td>1</td>\n",
       "      <td>1</td>\n",
       "      <td>Sales staff</td>\n",
       "      <td>1</td>\n",
       "    </tr>\n",
       "  </tbody>\n",
       "</table>\n",
       "</div>"
      ],
      "text/plain": [
       "        ID  CODE_GENDER  FLAG_OWN_CAR  FLAG_OWN_REALTY  CNT_CHILDREN  \\\n",
       "0  5008804            0             1                1             0   \n",
       "1  5008805            0             1                1             0   \n",
       "2  5008806            0             1                1             0   \n",
       "3  5008808            1             0                1             0   \n",
       "4  5008809            1             0                1             0   \n",
       "\n",
       "   AMT_INCOME_TOTAL      NAME_INCOME_TYPE            NAME_EDUCATION_TYPE  \\\n",
       "0          427500.0               Working               Higher education   \n",
       "1          427500.0               Working               Higher education   \n",
       "2          112500.0               Working  Secondary / secondary special   \n",
       "3          270000.0  Commercial associate  Secondary / secondary special   \n",
       "4          270000.0  Commercial associate  Secondary / secondary special   \n",
       "\n",
       "     NAME_FAMILY_STATUS  NAME_HOUSING_TYPE  DAYS_BIRTH  DAYS_EMPLOYED  \\\n",
       "0        Civil marriage   Rented apartment      -12005          -4542   \n",
       "1        Civil marriage   Rented apartment      -12005          -4542   \n",
       "2               Married  House / apartment      -21474          -1134   \n",
       "3  Single / not married  House / apartment      -19110          -3051   \n",
       "4  Single / not married  House / apartment      -19110          -3051   \n",
       "\n",
       "   FLAG_MOBIL  FLAG_WORK_PHONE  FLAG_PHONE  FLAG_EMAIL OCCUPATION_TYPE  \\\n",
       "0           1                1           0           0             NaN   \n",
       "1           1                1           0           0             NaN   \n",
       "2           1                0           0           0  Security staff   \n",
       "3           1                0           1           1     Sales staff   \n",
       "4           1                0           1           1     Sales staff   \n",
       "\n",
       "   CNT_FAM_MEMBERS  \n",
       "0                2  \n",
       "1                2  \n",
       "2                2  \n",
       "3                1  \n",
       "4                1  "
      ]
     },
     "execution_count": 4,
     "metadata": {},
     "output_type": "execute_result"
    }
   ],
   "source": [
    "# Transformando variáveis 'object' em 'int'\n",
    "apr['CODE_GENDER'] = apr['CODE_GENDER'].map({'F': 1, 'M': 0}) \n",
    "apr['FLAG_OWN_CAR'] = apr['FLAG_OWN_CAR'].map({'Y': 1, 'N': 0})\n",
    "apr['FLAG_OWN_REALTY'] = apr['FLAG_OWN_REALTY'].map({'Y': 1, 'N': 0})\n",
    "\n",
    "# Mudando do tipo 'float' para 'int'\n",
    "apr['CNT_FAM_MEMBERS'] = apr['CNT_FAM_MEMBERS'].astype(np.int64)\n",
    "apr.head(5)"
   ]
  },
  {
   "cell_type": "markdown",
   "id": "1db630e1",
   "metadata": {
    "papermill": {
     "duration": 0.023679,
     "end_time": "2024-04-30T14:36:06.504096",
     "exception": false,
     "start_time": "2024-04-30T14:36:06.480417",
     "status": "completed"
    },
    "tags": []
   },
   "source": [
    "O segundo ajuste necessário é remover linhas com alguma coluna com dados faltantes, uma vez que o **sklearn** não consegue processar dados nulos."
   ]
  },
  {
   "cell_type": "code",
   "execution_count": 5,
   "id": "9643f62a",
   "metadata": {
    "execution": {
     "iopub.execute_input": "2024-04-30T14:36:06.549956Z",
     "iopub.status.busy": "2024-04-30T14:36:06.549546Z",
     "iopub.status.idle": "2024-04-30T14:36:06.897409Z",
     "shell.execute_reply": "2024-04-30T14:36:06.896193Z"
    },
    "papermill": {
     "duration": 0.374172,
     "end_time": "2024-04-30T14:36:06.900352",
     "exception": false,
     "start_time": "2024-04-30T14:36:06.526180",
     "status": "completed"
    },
    "tags": []
   },
   "outputs": [
    {
     "name": "stdout",
     "output_type": "stream",
     "text": [
      "Foram eliminadas 134203 linhas com colunas vazias.\n",
      "(304354, 18)\n"
     ]
    },
    {
     "data": {
      "text/html": [
       "<div>\n",
       "<style scoped>\n",
       "    .dataframe tbody tr th:only-of-type {\n",
       "        vertical-align: middle;\n",
       "    }\n",
       "\n",
       "    .dataframe tbody tr th {\n",
       "        vertical-align: top;\n",
       "    }\n",
       "\n",
       "    .dataframe thead th {\n",
       "        text-align: right;\n",
       "    }\n",
       "</style>\n",
       "<table border=\"1\" class=\"dataframe\">\n",
       "  <thead>\n",
       "    <tr style=\"text-align: right;\">\n",
       "      <th></th>\n",
       "      <th>ID</th>\n",
       "      <th>CODE_GENDER</th>\n",
       "      <th>FLAG_OWN_CAR</th>\n",
       "      <th>FLAG_OWN_REALTY</th>\n",
       "      <th>CNT_CHILDREN</th>\n",
       "      <th>AMT_INCOME_TOTAL</th>\n",
       "      <th>NAME_INCOME_TYPE</th>\n",
       "      <th>NAME_EDUCATION_TYPE</th>\n",
       "      <th>NAME_FAMILY_STATUS</th>\n",
       "      <th>NAME_HOUSING_TYPE</th>\n",
       "      <th>DAYS_BIRTH</th>\n",
       "      <th>DAYS_EMPLOYED</th>\n",
       "      <th>FLAG_MOBIL</th>\n",
       "      <th>FLAG_WORK_PHONE</th>\n",
       "      <th>FLAG_PHONE</th>\n",
       "      <th>FLAG_EMAIL</th>\n",
       "      <th>OCCUPATION_TYPE</th>\n",
       "      <th>CNT_FAM_MEMBERS</th>\n",
       "    </tr>\n",
       "  </thead>\n",
       "  <tbody>\n",
       "    <tr>\n",
       "      <th>2</th>\n",
       "      <td>5008806</td>\n",
       "      <td>0</td>\n",
       "      <td>1</td>\n",
       "      <td>1</td>\n",
       "      <td>0</td>\n",
       "      <td>112500.0</td>\n",
       "      <td>Working</td>\n",
       "      <td>Secondary / secondary special</td>\n",
       "      <td>Married</td>\n",
       "      <td>House / apartment</td>\n",
       "      <td>-21474</td>\n",
       "      <td>-1134</td>\n",
       "      <td>1</td>\n",
       "      <td>0</td>\n",
       "      <td>0</td>\n",
       "      <td>0</td>\n",
       "      <td>Security staff</td>\n",
       "      <td>2</td>\n",
       "    </tr>\n",
       "    <tr>\n",
       "      <th>3</th>\n",
       "      <td>5008808</td>\n",
       "      <td>1</td>\n",
       "      <td>0</td>\n",
       "      <td>1</td>\n",
       "      <td>0</td>\n",
       "      <td>270000.0</td>\n",
       "      <td>Commercial associate</td>\n",
       "      <td>Secondary / secondary special</td>\n",
       "      <td>Single / not married</td>\n",
       "      <td>House / apartment</td>\n",
       "      <td>-19110</td>\n",
       "      <td>-3051</td>\n",
       "      <td>1</td>\n",
       "      <td>0</td>\n",
       "      <td>1</td>\n",
       "      <td>1</td>\n",
       "      <td>Sales staff</td>\n",
       "      <td>1</td>\n",
       "    </tr>\n",
       "    <tr>\n",
       "      <th>4</th>\n",
       "      <td>5008809</td>\n",
       "      <td>1</td>\n",
       "      <td>0</td>\n",
       "      <td>1</td>\n",
       "      <td>0</td>\n",
       "      <td>270000.0</td>\n",
       "      <td>Commercial associate</td>\n",
       "      <td>Secondary / secondary special</td>\n",
       "      <td>Single / not married</td>\n",
       "      <td>House / apartment</td>\n",
       "      <td>-19110</td>\n",
       "      <td>-3051</td>\n",
       "      <td>1</td>\n",
       "      <td>0</td>\n",
       "      <td>1</td>\n",
       "      <td>1</td>\n",
       "      <td>Sales staff</td>\n",
       "      <td>1</td>\n",
       "    </tr>\n",
       "    <tr>\n",
       "      <th>5</th>\n",
       "      <td>5008810</td>\n",
       "      <td>1</td>\n",
       "      <td>0</td>\n",
       "      <td>1</td>\n",
       "      <td>0</td>\n",
       "      <td>270000.0</td>\n",
       "      <td>Commercial associate</td>\n",
       "      <td>Secondary / secondary special</td>\n",
       "      <td>Single / not married</td>\n",
       "      <td>House / apartment</td>\n",
       "      <td>-19110</td>\n",
       "      <td>-3051</td>\n",
       "      <td>1</td>\n",
       "      <td>0</td>\n",
       "      <td>1</td>\n",
       "      <td>1</td>\n",
       "      <td>Sales staff</td>\n",
       "      <td>1</td>\n",
       "    </tr>\n",
       "    <tr>\n",
       "      <th>6</th>\n",
       "      <td>5008811</td>\n",
       "      <td>1</td>\n",
       "      <td>0</td>\n",
       "      <td>1</td>\n",
       "      <td>0</td>\n",
       "      <td>270000.0</td>\n",
       "      <td>Commercial associate</td>\n",
       "      <td>Secondary / secondary special</td>\n",
       "      <td>Single / not married</td>\n",
       "      <td>House / apartment</td>\n",
       "      <td>-19110</td>\n",
       "      <td>-3051</td>\n",
       "      <td>1</td>\n",
       "      <td>0</td>\n",
       "      <td>1</td>\n",
       "      <td>1</td>\n",
       "      <td>Sales staff</td>\n",
       "      <td>1</td>\n",
       "    </tr>\n",
       "  </tbody>\n",
       "</table>\n",
       "</div>"
      ],
      "text/plain": [
       "        ID  CODE_GENDER  FLAG_OWN_CAR  FLAG_OWN_REALTY  CNT_CHILDREN  \\\n",
       "2  5008806            0             1                1             0   \n",
       "3  5008808            1             0                1             0   \n",
       "4  5008809            1             0                1             0   \n",
       "5  5008810            1             0                1             0   \n",
       "6  5008811            1             0                1             0   \n",
       "\n",
       "   AMT_INCOME_TOTAL      NAME_INCOME_TYPE            NAME_EDUCATION_TYPE  \\\n",
       "2          112500.0               Working  Secondary / secondary special   \n",
       "3          270000.0  Commercial associate  Secondary / secondary special   \n",
       "4          270000.0  Commercial associate  Secondary / secondary special   \n",
       "5          270000.0  Commercial associate  Secondary / secondary special   \n",
       "6          270000.0  Commercial associate  Secondary / secondary special   \n",
       "\n",
       "     NAME_FAMILY_STATUS  NAME_HOUSING_TYPE  DAYS_BIRTH  DAYS_EMPLOYED  \\\n",
       "2               Married  House / apartment      -21474          -1134   \n",
       "3  Single / not married  House / apartment      -19110          -3051   \n",
       "4  Single / not married  House / apartment      -19110          -3051   \n",
       "5  Single / not married  House / apartment      -19110          -3051   \n",
       "6  Single / not married  House / apartment      -19110          -3051   \n",
       "\n",
       "   FLAG_MOBIL  FLAG_WORK_PHONE  FLAG_PHONE  FLAG_EMAIL OCCUPATION_TYPE  \\\n",
       "2           1                0           0           0  Security staff   \n",
       "3           1                0           1           1     Sales staff   \n",
       "4           1                0           1           1     Sales staff   \n",
       "5           1                0           1           1     Sales staff   \n",
       "6           1                0           1           1     Sales staff   \n",
       "\n",
       "   CNT_FAM_MEMBERS  \n",
       "2                2  \n",
       "3                1  \n",
       "4                1  \n",
       "5                1  \n",
       "6                1  "
      ]
     },
     "execution_count": 5,
     "metadata": {},
     "output_type": "execute_result"
    }
   ],
   "source": [
    "# Removendo dados nulos\n",
    "before, _ = apr.shape\n",
    "apr.dropna(inplace=True)\n",
    "after, _ = apr.shape\n",
    "print(f'Foram eliminadas {before-after} linhas com colunas vazias.')\n",
    "print(apr.shape)\n",
    "apr.head(5)"
   ]
  },
  {
   "cell_type": "markdown",
   "id": "6fa853e3",
   "metadata": {
    "papermill": {
     "duration": 0.022317,
     "end_time": "2024-04-30T14:36:06.945109",
     "exception": false,
     "start_time": "2024-04-30T14:36:06.922792",
     "status": "completed"
    },
    "tags": []
   },
   "source": [
    "Um último ajusto, vamos verificar a existência de linhas duplicadas no conjunto de dados utilizando da coluna 'ID'."
   ]
  },
  {
   "cell_type": "code",
   "execution_count": 6,
   "id": "8d377b13",
   "metadata": {
    "execution": {
     "iopub.execute_input": "2024-04-30T14:36:07.001248Z",
     "iopub.status.busy": "2024-04-30T14:36:07.000818Z",
     "iopub.status.idle": "2024-04-30T14:36:07.084226Z",
     "shell.execute_reply": "2024-04-30T14:36:07.082786Z"
    },
    "papermill": {
     "duration": 0.118948,
     "end_time": "2024-04-30T14:36:07.087011",
     "exception": false,
     "start_time": "2024-04-30T14:36:06.968063",
     "status": "completed"
    },
    "tags": []
   },
   "outputs": [
    {
     "name": "stdout",
     "output_type": "stream",
     "text": [
      "Existe um total de 23 linhas duplicadas.\n"
     ]
    }
   ],
   "source": [
    "# Verificando se existe linhas duplicadas e sua quantidade\n",
    "if apr['ID'].nunique() == apr.shape[0]:\n",
    "    print('Não existem linhas duplicadas.')\n",
    "else:\n",
    "    vector = apr['ID'].value_counts() > 1\n",
    "    print(f'Existe um total de {vector.value_counts().iloc[1]} linhas duplicadas.')"
   ]
  },
  {
   "cell_type": "code",
   "execution_count": 7,
   "id": "d3a11813",
   "metadata": {
    "execution": {
     "iopub.execute_input": "2024-04-30T14:36:07.134925Z",
     "iopub.status.busy": "2024-04-30T14:36:07.134552Z",
     "iopub.status.idle": "2024-04-30T14:36:07.215972Z",
     "shell.execute_reply": "2024-04-30T14:36:07.214897Z"
    },
    "papermill": {
     "duration": 0.108337,
     "end_time": "2024-04-30T14:36:07.218811",
     "exception": false,
     "start_time": "2024-04-30T14:36:07.110474",
     "status": "completed"
    },
    "tags": []
   },
   "outputs": [
    {
     "name": "stdout",
     "output_type": "stream",
     "text": [
      "Foi removido 23 linhas duplicadas.\n"
     ]
    }
   ],
   "source": [
    "# Removendo linhas duplicadas\n",
    "before, _ = apr.shape\n",
    "apr.drop_duplicates(subset='ID', inplace=True)\n",
    "after, _ = apr.shape\n",
    "print(f'Foi removido {before-after} linhas duplicadas.')"
   ]
  },
  {
   "cell_type": "markdown",
   "id": "7ae25b14",
   "metadata": {
    "papermill": {
     "duration": 0.02408,
     "end_time": "2024-04-30T14:36:07.266957",
     "exception": false,
     "start_time": "2024-04-30T14:36:07.242877",
     "status": "completed"
    },
    "tags": []
   },
   "source": [
    "Por fim, vamos reajustar o indíce do conjunto de dados."
   ]
  },
  {
   "cell_type": "code",
   "execution_count": 8,
   "id": "023712cf",
   "metadata": {
    "execution": {
     "iopub.execute_input": "2024-04-30T14:36:07.318666Z",
     "iopub.status.busy": "2024-04-30T14:36:07.318271Z",
     "iopub.status.idle": "2024-04-30T14:36:07.340434Z",
     "shell.execute_reply": "2024-04-30T14:36:07.339586Z"
    },
    "papermill": {
     "duration": 0.052569,
     "end_time": "2024-04-30T14:36:07.342603",
     "exception": false,
     "start_time": "2024-04-30T14:36:07.290034",
     "status": "completed"
    },
    "tags": []
   },
   "outputs": [
    {
     "data": {
      "text/html": [
       "<div>\n",
       "<style scoped>\n",
       "    .dataframe tbody tr th:only-of-type {\n",
       "        vertical-align: middle;\n",
       "    }\n",
       "\n",
       "    .dataframe tbody tr th {\n",
       "        vertical-align: top;\n",
       "    }\n",
       "\n",
       "    .dataframe thead th {\n",
       "        text-align: right;\n",
       "    }\n",
       "</style>\n",
       "<table border=\"1\" class=\"dataframe\">\n",
       "  <thead>\n",
       "    <tr style=\"text-align: right;\">\n",
       "      <th></th>\n",
       "      <th>ID</th>\n",
       "      <th>CODE_GENDER</th>\n",
       "      <th>FLAG_OWN_CAR</th>\n",
       "      <th>FLAG_OWN_REALTY</th>\n",
       "      <th>CNT_CHILDREN</th>\n",
       "      <th>AMT_INCOME_TOTAL</th>\n",
       "      <th>NAME_INCOME_TYPE</th>\n",
       "      <th>NAME_EDUCATION_TYPE</th>\n",
       "      <th>NAME_FAMILY_STATUS</th>\n",
       "      <th>NAME_HOUSING_TYPE</th>\n",
       "      <th>DAYS_BIRTH</th>\n",
       "      <th>DAYS_EMPLOYED</th>\n",
       "      <th>FLAG_MOBIL</th>\n",
       "      <th>FLAG_WORK_PHONE</th>\n",
       "      <th>FLAG_PHONE</th>\n",
       "      <th>FLAG_EMAIL</th>\n",
       "      <th>OCCUPATION_TYPE</th>\n",
       "      <th>CNT_FAM_MEMBERS</th>\n",
       "    </tr>\n",
       "  </thead>\n",
       "  <tbody>\n",
       "    <tr>\n",
       "      <th>0</th>\n",
       "      <td>5008806</td>\n",
       "      <td>0</td>\n",
       "      <td>1</td>\n",
       "      <td>1</td>\n",
       "      <td>0</td>\n",
       "      <td>112500.0</td>\n",
       "      <td>Working</td>\n",
       "      <td>Secondary / secondary special</td>\n",
       "      <td>Married</td>\n",
       "      <td>House / apartment</td>\n",
       "      <td>-21474</td>\n",
       "      <td>-1134</td>\n",
       "      <td>1</td>\n",
       "      <td>0</td>\n",
       "      <td>0</td>\n",
       "      <td>0</td>\n",
       "      <td>Security staff</td>\n",
       "      <td>2</td>\n",
       "    </tr>\n",
       "    <tr>\n",
       "      <th>1</th>\n",
       "      <td>5008808</td>\n",
       "      <td>1</td>\n",
       "      <td>0</td>\n",
       "      <td>1</td>\n",
       "      <td>0</td>\n",
       "      <td>270000.0</td>\n",
       "      <td>Commercial associate</td>\n",
       "      <td>Secondary / secondary special</td>\n",
       "      <td>Single / not married</td>\n",
       "      <td>House / apartment</td>\n",
       "      <td>-19110</td>\n",
       "      <td>-3051</td>\n",
       "      <td>1</td>\n",
       "      <td>0</td>\n",
       "      <td>1</td>\n",
       "      <td>1</td>\n",
       "      <td>Sales staff</td>\n",
       "      <td>1</td>\n",
       "    </tr>\n",
       "    <tr>\n",
       "      <th>2</th>\n",
       "      <td>5008809</td>\n",
       "      <td>1</td>\n",
       "      <td>0</td>\n",
       "      <td>1</td>\n",
       "      <td>0</td>\n",
       "      <td>270000.0</td>\n",
       "      <td>Commercial associate</td>\n",
       "      <td>Secondary / secondary special</td>\n",
       "      <td>Single / not married</td>\n",
       "      <td>House / apartment</td>\n",
       "      <td>-19110</td>\n",
       "      <td>-3051</td>\n",
       "      <td>1</td>\n",
       "      <td>0</td>\n",
       "      <td>1</td>\n",
       "      <td>1</td>\n",
       "      <td>Sales staff</td>\n",
       "      <td>1</td>\n",
       "    </tr>\n",
       "    <tr>\n",
       "      <th>3</th>\n",
       "      <td>5008810</td>\n",
       "      <td>1</td>\n",
       "      <td>0</td>\n",
       "      <td>1</td>\n",
       "      <td>0</td>\n",
       "      <td>270000.0</td>\n",
       "      <td>Commercial associate</td>\n",
       "      <td>Secondary / secondary special</td>\n",
       "      <td>Single / not married</td>\n",
       "      <td>House / apartment</td>\n",
       "      <td>-19110</td>\n",
       "      <td>-3051</td>\n",
       "      <td>1</td>\n",
       "      <td>0</td>\n",
       "      <td>1</td>\n",
       "      <td>1</td>\n",
       "      <td>Sales staff</td>\n",
       "      <td>1</td>\n",
       "    </tr>\n",
       "    <tr>\n",
       "      <th>4</th>\n",
       "      <td>5008811</td>\n",
       "      <td>1</td>\n",
       "      <td>0</td>\n",
       "      <td>1</td>\n",
       "      <td>0</td>\n",
       "      <td>270000.0</td>\n",
       "      <td>Commercial associate</td>\n",
       "      <td>Secondary / secondary special</td>\n",
       "      <td>Single / not married</td>\n",
       "      <td>House / apartment</td>\n",
       "      <td>-19110</td>\n",
       "      <td>-3051</td>\n",
       "      <td>1</td>\n",
       "      <td>0</td>\n",
       "      <td>1</td>\n",
       "      <td>1</td>\n",
       "      <td>Sales staff</td>\n",
       "      <td>1</td>\n",
       "    </tr>\n",
       "  </tbody>\n",
       "</table>\n",
       "</div>"
      ],
      "text/plain": [
       "        ID  CODE_GENDER  FLAG_OWN_CAR  FLAG_OWN_REALTY  CNT_CHILDREN  \\\n",
       "0  5008806            0             1                1             0   \n",
       "1  5008808            1             0                1             0   \n",
       "2  5008809            1             0                1             0   \n",
       "3  5008810            1             0                1             0   \n",
       "4  5008811            1             0                1             0   \n",
       "\n",
       "   AMT_INCOME_TOTAL      NAME_INCOME_TYPE            NAME_EDUCATION_TYPE  \\\n",
       "0          112500.0               Working  Secondary / secondary special   \n",
       "1          270000.0  Commercial associate  Secondary / secondary special   \n",
       "2          270000.0  Commercial associate  Secondary / secondary special   \n",
       "3          270000.0  Commercial associate  Secondary / secondary special   \n",
       "4          270000.0  Commercial associate  Secondary / secondary special   \n",
       "\n",
       "     NAME_FAMILY_STATUS  NAME_HOUSING_TYPE  DAYS_BIRTH  DAYS_EMPLOYED  \\\n",
       "0               Married  House / apartment      -21474          -1134   \n",
       "1  Single / not married  House / apartment      -19110          -3051   \n",
       "2  Single / not married  House / apartment      -19110          -3051   \n",
       "3  Single / not married  House / apartment      -19110          -3051   \n",
       "4  Single / not married  House / apartment      -19110          -3051   \n",
       "\n",
       "   FLAG_MOBIL  FLAG_WORK_PHONE  FLAG_PHONE  FLAG_EMAIL OCCUPATION_TYPE  \\\n",
       "0           1                0           0           0  Security staff   \n",
       "1           1                0           1           1     Sales staff   \n",
       "2           1                0           1           1     Sales staff   \n",
       "3           1                0           1           1     Sales staff   \n",
       "4           1                0           1           1     Sales staff   \n",
       "\n",
       "   CNT_FAM_MEMBERS  \n",
       "0                2  \n",
       "1                1  \n",
       "2                1  \n",
       "3                1  \n",
       "4                1  "
      ]
     },
     "execution_count": 8,
     "metadata": {},
     "output_type": "execute_result"
    }
   ],
   "source": [
    "apr.reset_index(drop=True, inplace=True)\n",
    "apr.head(5)"
   ]
  },
  {
   "cell_type": "markdown",
   "id": "d1a12a99",
   "metadata": {
    "papermill": {
     "duration": 0.023916,
     "end_time": "2024-04-30T14:36:07.390638",
     "exception": false,
     "start_time": "2024-04-30T14:36:07.366722",
     "status": "completed"
    },
    "tags": []
   },
   "source": [
    "Antes de rosseguirmos para a próxima etapa, vamos coletar os metadados do conjunto de dados atual e armazenar numa variável para comparação futura."
   ]
  },
  {
   "cell_type": "code",
   "execution_count": 9,
   "id": "6c1c9053",
   "metadata": {
    "execution": {
     "iopub.execute_input": "2024-04-30T14:36:07.442850Z",
     "iopub.status.busy": "2024-04-30T14:36:07.442477Z",
     "iopub.status.idle": "2024-04-30T14:36:07.456821Z",
     "shell.execute_reply": "2024-04-30T14:36:07.455870Z"
    },
    "papermill": {
     "duration": 0.043747,
     "end_time": "2024-04-30T14:36:07.458941",
     "exception": false,
     "start_time": "2024-04-30T14:36:07.415194",
     "status": "completed"
    },
    "tags": []
   },
   "outputs": [
    {
     "data": {
      "text/html": [
       "<div>\n",
       "<style scoped>\n",
       "    .dataframe tbody tr th:only-of-type {\n",
       "        vertical-align: middle;\n",
       "    }\n",
       "\n",
       "    .dataframe tbody tr th {\n",
       "        vertical-align: top;\n",
       "    }\n",
       "\n",
       "    .dataframe thead th {\n",
       "        text-align: right;\n",
       "    }\n",
       "</style>\n",
       "<table border=\"1\" class=\"dataframe\">\n",
       "  <thead>\n",
       "    <tr style=\"text-align: right;\">\n",
       "      <th></th>\n",
       "      <th>column</th>\n",
       "      <th>dtype</th>\n",
       "    </tr>\n",
       "  </thead>\n",
       "  <tbody>\n",
       "    <tr>\n",
       "      <th>0</th>\n",
       "      <td>ID</td>\n",
       "      <td>int64</td>\n",
       "    </tr>\n",
       "    <tr>\n",
       "      <th>1</th>\n",
       "      <td>CODE_GENDER</td>\n",
       "      <td>int64</td>\n",
       "    </tr>\n",
       "    <tr>\n",
       "      <th>2</th>\n",
       "      <td>FLAG_OWN_CAR</td>\n",
       "      <td>int64</td>\n",
       "    </tr>\n",
       "    <tr>\n",
       "      <th>3</th>\n",
       "      <td>FLAG_OWN_REALTY</td>\n",
       "      <td>int64</td>\n",
       "    </tr>\n",
       "    <tr>\n",
       "      <th>4</th>\n",
       "      <td>CNT_CHILDREN</td>\n",
       "      <td>int64</td>\n",
       "    </tr>\n",
       "    <tr>\n",
       "      <th>5</th>\n",
       "      <td>AMT_INCOME_TOTAL</td>\n",
       "      <td>float64</td>\n",
       "    </tr>\n",
       "    <tr>\n",
       "      <th>6</th>\n",
       "      <td>NAME_INCOME_TYPE</td>\n",
       "      <td>object</td>\n",
       "    </tr>\n",
       "    <tr>\n",
       "      <th>7</th>\n",
       "      <td>NAME_EDUCATION_TYPE</td>\n",
       "      <td>object</td>\n",
       "    </tr>\n",
       "    <tr>\n",
       "      <th>8</th>\n",
       "      <td>NAME_FAMILY_STATUS</td>\n",
       "      <td>object</td>\n",
       "    </tr>\n",
       "    <tr>\n",
       "      <th>9</th>\n",
       "      <td>NAME_HOUSING_TYPE</td>\n",
       "      <td>object</td>\n",
       "    </tr>\n",
       "    <tr>\n",
       "      <th>10</th>\n",
       "      <td>DAYS_BIRTH</td>\n",
       "      <td>int64</td>\n",
       "    </tr>\n",
       "    <tr>\n",
       "      <th>11</th>\n",
       "      <td>DAYS_EMPLOYED</td>\n",
       "      <td>int64</td>\n",
       "    </tr>\n",
       "    <tr>\n",
       "      <th>12</th>\n",
       "      <td>FLAG_MOBIL</td>\n",
       "      <td>int64</td>\n",
       "    </tr>\n",
       "    <tr>\n",
       "      <th>13</th>\n",
       "      <td>FLAG_WORK_PHONE</td>\n",
       "      <td>int64</td>\n",
       "    </tr>\n",
       "    <tr>\n",
       "      <th>14</th>\n",
       "      <td>FLAG_PHONE</td>\n",
       "      <td>int64</td>\n",
       "    </tr>\n",
       "    <tr>\n",
       "      <th>15</th>\n",
       "      <td>FLAG_EMAIL</td>\n",
       "      <td>int64</td>\n",
       "    </tr>\n",
       "    <tr>\n",
       "      <th>16</th>\n",
       "      <td>OCCUPATION_TYPE</td>\n",
       "      <td>object</td>\n",
       "    </tr>\n",
       "    <tr>\n",
       "      <th>17</th>\n",
       "      <td>CNT_FAM_MEMBERS</td>\n",
       "      <td>int64</td>\n",
       "    </tr>\n",
       "  </tbody>\n",
       "</table>\n",
       "</div>"
      ],
      "text/plain": [
       "                 column    dtype\n",
       "0                    ID    int64\n",
       "1           CODE_GENDER    int64\n",
       "2          FLAG_OWN_CAR    int64\n",
       "3       FLAG_OWN_REALTY    int64\n",
       "4          CNT_CHILDREN    int64\n",
       "5      AMT_INCOME_TOTAL  float64\n",
       "6      NAME_INCOME_TYPE   object\n",
       "7   NAME_EDUCATION_TYPE   object\n",
       "8    NAME_FAMILY_STATUS   object\n",
       "9     NAME_HOUSING_TYPE   object\n",
       "10           DAYS_BIRTH    int64\n",
       "11        DAYS_EMPLOYED    int64\n",
       "12           FLAG_MOBIL    int64\n",
       "13      FLAG_WORK_PHONE    int64\n",
       "14           FLAG_PHONE    int64\n",
       "15           FLAG_EMAIL    int64\n",
       "16      OCCUPATION_TYPE   object\n",
       "17      CNT_FAM_MEMBERS    int64"
      ]
     },
     "execution_count": 9,
     "metadata": {},
     "output_type": "execute_result"
    }
   ],
   "source": [
    "def metadata(df):\n",
    "    return pd.DataFrame({'column': [col for col in df.columns], 'dtype': [df[col].dtype for col in df.columns]})\n",
    "\n",
    "apr_before = metadata(apr)\n",
    "apr_before"
   ]
  },
  {
   "cell_type": "markdown",
   "id": "f1485cf0",
   "metadata": {
    "papermill": {
     "duration": 0.023254,
     "end_time": "2024-04-30T14:36:07.506994",
     "exception": false,
     "start_time": "2024-04-30T14:36:07.483740",
     "status": "completed"
    },
    "tags": []
   },
   "source": [
    "Através desse podemos notar que ainda existe transformações a serem feitas no conjunto de dados. "
   ]
  },
  {
   "cell_type": "markdown",
   "id": "4162255f",
   "metadata": {
    "papermill": {
     "duration": 0.083987,
     "end_time": "2024-04-30T14:36:07.614626",
     "exception": false,
     "start_time": "2024-04-30T14:36:07.530639",
     "status": "completed"
    },
    "tags": []
   },
   "source": [
    "## 1.2 Transformando Variáveis Qualitativas\n",
    "Para que os dados sejam processados pelo modelo, é necessário transformar as variáveis **qualitativas** em **quantitativas discretas**, em outras palavras, transformar **variáveis categóricas** em **flags/dummies** para que o algoritmo de árvore de decisão consiga processar adequadamente esses dados.\n",
    "\n",
    "Observando os metadados do conjunto, existem cinco colunas que devem passar por esse processo de transformação, são elas:\n",
    "- NAME_INCOME_TYPE\n",
    "- NAME_EDUCATION_TYPE\n",
    "- NAME_FAMILY_STATUS\n",
    "- NAME_HOUSING_TYPE\n",
    "- OCCUPATION_TYPE"
   ]
  },
  {
   "cell_type": "code",
   "execution_count": 10,
   "id": "3c183719",
   "metadata": {
    "execution": {
     "iopub.execute_input": "2024-04-30T14:36:07.663964Z",
     "iopub.status.busy": "2024-04-30T14:36:07.663212Z",
     "iopub.status.idle": "2024-04-30T14:36:07.893268Z",
     "shell.execute_reply": "2024-04-30T14:36:07.892075Z"
    },
    "papermill": {
     "duration": 0.25765,
     "end_time": "2024-04-30T14:36:07.895858",
     "exception": false,
     "start_time": "2024-04-30T14:36:07.638208",
     "status": "completed"
    },
    "tags": []
   },
   "outputs": [
    {
     "data": {
      "text/html": [
       "<div>\n",
       "<style scoped>\n",
       "    .dataframe tbody tr th:only-of-type {\n",
       "        vertical-align: middle;\n",
       "    }\n",
       "\n",
       "    .dataframe tbody tr th {\n",
       "        vertical-align: top;\n",
       "    }\n",
       "\n",
       "    .dataframe thead th {\n",
       "        text-align: right;\n",
       "    }\n",
       "</style>\n",
       "<table border=\"1\" class=\"dataframe\">\n",
       "  <thead>\n",
       "    <tr style=\"text-align: right;\">\n",
       "      <th></th>\n",
       "      <th>NAME_INCOME_TYPE_Commercial associate</th>\n",
       "      <th>NAME_INCOME_TYPE_Pensioner</th>\n",
       "      <th>NAME_INCOME_TYPE_State servant</th>\n",
       "      <th>NAME_INCOME_TYPE_Student</th>\n",
       "      <th>NAME_INCOME_TYPE_Working</th>\n",
       "      <th>NAME_EDUCATION_TYPE_Academic degree</th>\n",
       "      <th>NAME_EDUCATION_TYPE_Higher education</th>\n",
       "      <th>NAME_EDUCATION_TYPE_Incomplete higher</th>\n",
       "      <th>NAME_EDUCATION_TYPE_Lower secondary</th>\n",
       "      <th>NAME_EDUCATION_TYPE_Secondary / secondary special</th>\n",
       "      <th>...</th>\n",
       "      <th>OCCUPATION_TYPE_Laborers</th>\n",
       "      <th>OCCUPATION_TYPE_Low-skill Laborers</th>\n",
       "      <th>OCCUPATION_TYPE_Managers</th>\n",
       "      <th>OCCUPATION_TYPE_Medicine staff</th>\n",
       "      <th>OCCUPATION_TYPE_Private service staff</th>\n",
       "      <th>OCCUPATION_TYPE_Realty agents</th>\n",
       "      <th>OCCUPATION_TYPE_Sales staff</th>\n",
       "      <th>OCCUPATION_TYPE_Secretaries</th>\n",
       "      <th>OCCUPATION_TYPE_Security staff</th>\n",
       "      <th>OCCUPATION_TYPE_Waiters/barmen staff</th>\n",
       "    </tr>\n",
       "  </thead>\n",
       "  <tbody>\n",
       "    <tr>\n",
       "      <th>0</th>\n",
       "      <td>0</td>\n",
       "      <td>0</td>\n",
       "      <td>0</td>\n",
       "      <td>0</td>\n",
       "      <td>1</td>\n",
       "      <td>0</td>\n",
       "      <td>0</td>\n",
       "      <td>0</td>\n",
       "      <td>0</td>\n",
       "      <td>1</td>\n",
       "      <td>...</td>\n",
       "      <td>0</td>\n",
       "      <td>0</td>\n",
       "      <td>0</td>\n",
       "      <td>0</td>\n",
       "      <td>0</td>\n",
       "      <td>0</td>\n",
       "      <td>0</td>\n",
       "      <td>0</td>\n",
       "      <td>1</td>\n",
       "      <td>0</td>\n",
       "    </tr>\n",
       "    <tr>\n",
       "      <th>1</th>\n",
       "      <td>1</td>\n",
       "      <td>0</td>\n",
       "      <td>0</td>\n",
       "      <td>0</td>\n",
       "      <td>0</td>\n",
       "      <td>0</td>\n",
       "      <td>0</td>\n",
       "      <td>0</td>\n",
       "      <td>0</td>\n",
       "      <td>1</td>\n",
       "      <td>...</td>\n",
       "      <td>0</td>\n",
       "      <td>0</td>\n",
       "      <td>0</td>\n",
       "      <td>0</td>\n",
       "      <td>0</td>\n",
       "      <td>0</td>\n",
       "      <td>1</td>\n",
       "      <td>0</td>\n",
       "      <td>0</td>\n",
       "      <td>0</td>\n",
       "    </tr>\n",
       "    <tr>\n",
       "      <th>2</th>\n",
       "      <td>1</td>\n",
       "      <td>0</td>\n",
       "      <td>0</td>\n",
       "      <td>0</td>\n",
       "      <td>0</td>\n",
       "      <td>0</td>\n",
       "      <td>0</td>\n",
       "      <td>0</td>\n",
       "      <td>0</td>\n",
       "      <td>1</td>\n",
       "      <td>...</td>\n",
       "      <td>0</td>\n",
       "      <td>0</td>\n",
       "      <td>0</td>\n",
       "      <td>0</td>\n",
       "      <td>0</td>\n",
       "      <td>0</td>\n",
       "      <td>1</td>\n",
       "      <td>0</td>\n",
       "      <td>0</td>\n",
       "      <td>0</td>\n",
       "    </tr>\n",
       "    <tr>\n",
       "      <th>3</th>\n",
       "      <td>1</td>\n",
       "      <td>0</td>\n",
       "      <td>0</td>\n",
       "      <td>0</td>\n",
       "      <td>0</td>\n",
       "      <td>0</td>\n",
       "      <td>0</td>\n",
       "      <td>0</td>\n",
       "      <td>0</td>\n",
       "      <td>1</td>\n",
       "      <td>...</td>\n",
       "      <td>0</td>\n",
       "      <td>0</td>\n",
       "      <td>0</td>\n",
       "      <td>0</td>\n",
       "      <td>0</td>\n",
       "      <td>0</td>\n",
       "      <td>1</td>\n",
       "      <td>0</td>\n",
       "      <td>0</td>\n",
       "      <td>0</td>\n",
       "    </tr>\n",
       "    <tr>\n",
       "      <th>4</th>\n",
       "      <td>1</td>\n",
       "      <td>0</td>\n",
       "      <td>0</td>\n",
       "      <td>0</td>\n",
       "      <td>0</td>\n",
       "      <td>0</td>\n",
       "      <td>0</td>\n",
       "      <td>0</td>\n",
       "      <td>0</td>\n",
       "      <td>1</td>\n",
       "      <td>...</td>\n",
       "      <td>0</td>\n",
       "      <td>0</td>\n",
       "      <td>0</td>\n",
       "      <td>0</td>\n",
       "      <td>0</td>\n",
       "      <td>0</td>\n",
       "      <td>1</td>\n",
       "      <td>0</td>\n",
       "      <td>0</td>\n",
       "      <td>0</td>\n",
       "    </tr>\n",
       "  </tbody>\n",
       "</table>\n",
       "<p>5 rows × 39 columns</p>\n",
       "</div>"
      ],
      "text/plain": [
       "   NAME_INCOME_TYPE_Commercial associate  NAME_INCOME_TYPE_Pensioner  \\\n",
       "0                                      0                           0   \n",
       "1                                      1                           0   \n",
       "2                                      1                           0   \n",
       "3                                      1                           0   \n",
       "4                                      1                           0   \n",
       "\n",
       "   NAME_INCOME_TYPE_State servant  NAME_INCOME_TYPE_Student  \\\n",
       "0                               0                         0   \n",
       "1                               0                         0   \n",
       "2                               0                         0   \n",
       "3                               0                         0   \n",
       "4                               0                         0   \n",
       "\n",
       "   NAME_INCOME_TYPE_Working  NAME_EDUCATION_TYPE_Academic degree  \\\n",
       "0                         1                                    0   \n",
       "1                         0                                    0   \n",
       "2                         0                                    0   \n",
       "3                         0                                    0   \n",
       "4                         0                                    0   \n",
       "\n",
       "   NAME_EDUCATION_TYPE_Higher education  \\\n",
       "0                                     0   \n",
       "1                                     0   \n",
       "2                                     0   \n",
       "3                                     0   \n",
       "4                                     0   \n",
       "\n",
       "   NAME_EDUCATION_TYPE_Incomplete higher  NAME_EDUCATION_TYPE_Lower secondary  \\\n",
       "0                                      0                                    0   \n",
       "1                                      0                                    0   \n",
       "2                                      0                                    0   \n",
       "3                                      0                                    0   \n",
       "4                                      0                                    0   \n",
       "\n",
       "   NAME_EDUCATION_TYPE_Secondary / secondary special  ...  \\\n",
       "0                                                  1  ...   \n",
       "1                                                  1  ...   \n",
       "2                                                  1  ...   \n",
       "3                                                  1  ...   \n",
       "4                                                  1  ...   \n",
       "\n",
       "   OCCUPATION_TYPE_Laborers  OCCUPATION_TYPE_Low-skill Laborers  \\\n",
       "0                         0                                   0   \n",
       "1                         0                                   0   \n",
       "2                         0                                   0   \n",
       "3                         0                                   0   \n",
       "4                         0                                   0   \n",
       "\n",
       "   OCCUPATION_TYPE_Managers  OCCUPATION_TYPE_Medicine staff  \\\n",
       "0                         0                               0   \n",
       "1                         0                               0   \n",
       "2                         0                               0   \n",
       "3                         0                               0   \n",
       "4                         0                               0   \n",
       "\n",
       "   OCCUPATION_TYPE_Private service staff  OCCUPATION_TYPE_Realty agents  \\\n",
       "0                                      0                              0   \n",
       "1                                      0                              0   \n",
       "2                                      0                              0   \n",
       "3                                      0                              0   \n",
       "4                                      0                              0   \n",
       "\n",
       "   OCCUPATION_TYPE_Sales staff  OCCUPATION_TYPE_Secretaries  \\\n",
       "0                            0                            0   \n",
       "1                            1                            0   \n",
       "2                            1                            0   \n",
       "3                            1                            0   \n",
       "4                            1                            0   \n",
       "\n",
       "   OCCUPATION_TYPE_Security staff  OCCUPATION_TYPE_Waiters/barmen staff  \n",
       "0                               1                                     0  \n",
       "1                               0                                     0  \n",
       "2                               0                                     0  \n",
       "3                               0                                     0  \n",
       "4                               0                                     0  \n",
       "\n",
       "[5 rows x 39 columns]"
      ]
     },
     "execution_count": 10,
     "metadata": {},
     "output_type": "execute_result"
    }
   ],
   "source": [
    "# Criando dummies (v. quantitativas discretas)\n",
    "v_qual = apr.loc[:, apr.dtypes == object]\n",
    "dummies = pd.get_dummies(data=v_qual)\n",
    "dummies = dummies.astype(np.int64)\n",
    "dummies.head(5)"
   ]
  },
  {
   "cell_type": "markdown",
   "id": "72c0311e",
   "metadata": {
    "papermill": {
     "duration": 0.0236,
     "end_time": "2024-04-30T14:36:07.943509",
     "exception": false,
     "start_time": "2024-04-30T14:36:07.919909",
     "status": "completed"
    },
    "tags": []
   },
   "source": [
    "Agora que temos um conjunto de dados com todas as flags necessárias, podemos substituir elas no conjunto de dados inicial."
   ]
  },
  {
   "cell_type": "code",
   "execution_count": 11,
   "id": "5505702c",
   "metadata": {
    "execution": {
     "iopub.execute_input": "2024-04-30T14:36:07.993368Z",
     "iopub.status.busy": "2024-04-30T14:36:07.992901Z",
     "iopub.status.idle": "2024-04-30T14:36:08.018150Z",
     "shell.execute_reply": "2024-04-30T14:36:08.016879Z"
    },
    "papermill": {
     "duration": 0.053071,
     "end_time": "2024-04-30T14:36:08.020690",
     "exception": false,
     "start_time": "2024-04-30T14:36:07.967619",
     "status": "completed"
    },
    "tags": []
   },
   "outputs": [
    {
     "data": {
      "text/html": [
       "<div>\n",
       "<style scoped>\n",
       "    .dataframe tbody tr th:only-of-type {\n",
       "        vertical-align: middle;\n",
       "    }\n",
       "\n",
       "    .dataframe tbody tr th {\n",
       "        vertical-align: top;\n",
       "    }\n",
       "\n",
       "    .dataframe thead th {\n",
       "        text-align: right;\n",
       "    }\n",
       "</style>\n",
       "<table border=\"1\" class=\"dataframe\">\n",
       "  <thead>\n",
       "    <tr style=\"text-align: right;\">\n",
       "      <th></th>\n",
       "      <th>ID</th>\n",
       "      <th>CODE_GENDER</th>\n",
       "      <th>FLAG_OWN_CAR</th>\n",
       "      <th>FLAG_OWN_REALTY</th>\n",
       "      <th>CNT_CHILDREN</th>\n",
       "      <th>AMT_INCOME_TOTAL</th>\n",
       "      <th>DAYS_BIRTH</th>\n",
       "      <th>DAYS_EMPLOYED</th>\n",
       "      <th>FLAG_MOBIL</th>\n",
       "      <th>FLAG_WORK_PHONE</th>\n",
       "      <th>...</th>\n",
       "      <th>OCCUPATION_TYPE_Laborers</th>\n",
       "      <th>OCCUPATION_TYPE_Low-skill Laborers</th>\n",
       "      <th>OCCUPATION_TYPE_Managers</th>\n",
       "      <th>OCCUPATION_TYPE_Medicine staff</th>\n",
       "      <th>OCCUPATION_TYPE_Private service staff</th>\n",
       "      <th>OCCUPATION_TYPE_Realty agents</th>\n",
       "      <th>OCCUPATION_TYPE_Sales staff</th>\n",
       "      <th>OCCUPATION_TYPE_Secretaries</th>\n",
       "      <th>OCCUPATION_TYPE_Security staff</th>\n",
       "      <th>OCCUPATION_TYPE_Waiters/barmen staff</th>\n",
       "    </tr>\n",
       "  </thead>\n",
       "  <tbody>\n",
       "    <tr>\n",
       "      <th>0</th>\n",
       "      <td>5008806</td>\n",
       "      <td>0</td>\n",
       "      <td>1</td>\n",
       "      <td>1</td>\n",
       "      <td>0</td>\n",
       "      <td>112500.0</td>\n",
       "      <td>-21474</td>\n",
       "      <td>-1134</td>\n",
       "      <td>1</td>\n",
       "      <td>0</td>\n",
       "      <td>...</td>\n",
       "      <td>0</td>\n",
       "      <td>0</td>\n",
       "      <td>0</td>\n",
       "      <td>0</td>\n",
       "      <td>0</td>\n",
       "      <td>0</td>\n",
       "      <td>0</td>\n",
       "      <td>0</td>\n",
       "      <td>1</td>\n",
       "      <td>0</td>\n",
       "    </tr>\n",
       "    <tr>\n",
       "      <th>1</th>\n",
       "      <td>5008808</td>\n",
       "      <td>1</td>\n",
       "      <td>0</td>\n",
       "      <td>1</td>\n",
       "      <td>0</td>\n",
       "      <td>270000.0</td>\n",
       "      <td>-19110</td>\n",
       "      <td>-3051</td>\n",
       "      <td>1</td>\n",
       "      <td>0</td>\n",
       "      <td>...</td>\n",
       "      <td>0</td>\n",
       "      <td>0</td>\n",
       "      <td>0</td>\n",
       "      <td>0</td>\n",
       "      <td>0</td>\n",
       "      <td>0</td>\n",
       "      <td>1</td>\n",
       "      <td>0</td>\n",
       "      <td>0</td>\n",
       "      <td>0</td>\n",
       "    </tr>\n",
       "    <tr>\n",
       "      <th>2</th>\n",
       "      <td>5008809</td>\n",
       "      <td>1</td>\n",
       "      <td>0</td>\n",
       "      <td>1</td>\n",
       "      <td>0</td>\n",
       "      <td>270000.0</td>\n",
       "      <td>-19110</td>\n",
       "      <td>-3051</td>\n",
       "      <td>1</td>\n",
       "      <td>0</td>\n",
       "      <td>...</td>\n",
       "      <td>0</td>\n",
       "      <td>0</td>\n",
       "      <td>0</td>\n",
       "      <td>0</td>\n",
       "      <td>0</td>\n",
       "      <td>0</td>\n",
       "      <td>1</td>\n",
       "      <td>0</td>\n",
       "      <td>0</td>\n",
       "      <td>0</td>\n",
       "    </tr>\n",
       "    <tr>\n",
       "      <th>3</th>\n",
       "      <td>5008810</td>\n",
       "      <td>1</td>\n",
       "      <td>0</td>\n",
       "      <td>1</td>\n",
       "      <td>0</td>\n",
       "      <td>270000.0</td>\n",
       "      <td>-19110</td>\n",
       "      <td>-3051</td>\n",
       "      <td>1</td>\n",
       "      <td>0</td>\n",
       "      <td>...</td>\n",
       "      <td>0</td>\n",
       "      <td>0</td>\n",
       "      <td>0</td>\n",
       "      <td>0</td>\n",
       "      <td>0</td>\n",
       "      <td>0</td>\n",
       "      <td>1</td>\n",
       "      <td>0</td>\n",
       "      <td>0</td>\n",
       "      <td>0</td>\n",
       "    </tr>\n",
       "    <tr>\n",
       "      <th>4</th>\n",
       "      <td>5008811</td>\n",
       "      <td>1</td>\n",
       "      <td>0</td>\n",
       "      <td>1</td>\n",
       "      <td>0</td>\n",
       "      <td>270000.0</td>\n",
       "      <td>-19110</td>\n",
       "      <td>-3051</td>\n",
       "      <td>1</td>\n",
       "      <td>0</td>\n",
       "      <td>...</td>\n",
       "      <td>0</td>\n",
       "      <td>0</td>\n",
       "      <td>0</td>\n",
       "      <td>0</td>\n",
       "      <td>0</td>\n",
       "      <td>0</td>\n",
       "      <td>1</td>\n",
       "      <td>0</td>\n",
       "      <td>0</td>\n",
       "      <td>0</td>\n",
       "    </tr>\n",
       "  </tbody>\n",
       "</table>\n",
       "<p>5 rows × 52 columns</p>\n",
       "</div>"
      ],
      "text/plain": [
       "        ID  CODE_GENDER  FLAG_OWN_CAR  FLAG_OWN_REALTY  CNT_CHILDREN  \\\n",
       "0  5008806            0             1                1             0   \n",
       "1  5008808            1             0                1             0   \n",
       "2  5008809            1             0                1             0   \n",
       "3  5008810            1             0                1             0   \n",
       "4  5008811            1             0                1             0   \n",
       "\n",
       "   AMT_INCOME_TOTAL  DAYS_BIRTH  DAYS_EMPLOYED  FLAG_MOBIL  FLAG_WORK_PHONE  \\\n",
       "0          112500.0      -21474          -1134           1                0   \n",
       "1          270000.0      -19110          -3051           1                0   \n",
       "2          270000.0      -19110          -3051           1                0   \n",
       "3          270000.0      -19110          -3051           1                0   \n",
       "4          270000.0      -19110          -3051           1                0   \n",
       "\n",
       "   ...  OCCUPATION_TYPE_Laborers  OCCUPATION_TYPE_Low-skill Laborers  \\\n",
       "0  ...                         0                                   0   \n",
       "1  ...                         0                                   0   \n",
       "2  ...                         0                                   0   \n",
       "3  ...                         0                                   0   \n",
       "4  ...                         0                                   0   \n",
       "\n",
       "   OCCUPATION_TYPE_Managers  OCCUPATION_TYPE_Medicine staff  \\\n",
       "0                         0                               0   \n",
       "1                         0                               0   \n",
       "2                         0                               0   \n",
       "3                         0                               0   \n",
       "4                         0                               0   \n",
       "\n",
       "   OCCUPATION_TYPE_Private service staff  OCCUPATION_TYPE_Realty agents  \\\n",
       "0                                      0                              0   \n",
       "1                                      0                              0   \n",
       "2                                      0                              0   \n",
       "3                                      0                              0   \n",
       "4                                      0                              0   \n",
       "\n",
       "   OCCUPATION_TYPE_Sales staff  OCCUPATION_TYPE_Secretaries  \\\n",
       "0                            0                            0   \n",
       "1                            1                            0   \n",
       "2                            1                            0   \n",
       "3                            1                            0   \n",
       "4                            1                            0   \n",
       "\n",
       "   OCCUPATION_TYPE_Security staff  OCCUPATION_TYPE_Waiters/barmen staff  \n",
       "0                               1                                     0  \n",
       "1                               0                                     0  \n",
       "2                               0                                     0  \n",
       "3                               0                                     0  \n",
       "4                               0                                     0  \n",
       "\n",
       "[5 rows x 52 columns]"
      ]
     },
     "execution_count": 11,
     "metadata": {},
     "output_type": "execute_result"
    }
   ],
   "source": [
    "# Substituindo v. qualitativas por dummies\n",
    "apr.drop(labels=v_qual, axis=1, inplace=True)\n",
    "apr = pd.concat([apr, dummies], axis=1)\n",
    "apr.head(5)"
   ]
  },
  {
   "cell_type": "markdown",
   "id": "3c2b4697",
   "metadata": {
    "papermill": {
     "duration": 0.024373,
     "end_time": "2024-04-30T14:36:08.071022",
     "exception": false,
     "start_time": "2024-04-30T14:36:08.046649",
     "status": "completed"
    },
    "tags": []
   },
   "source": [
    "Para conferir as mudanças realizadas, vamos novamente retirar os metadados do conjunto de dados."
   ]
  },
  {
   "cell_type": "code",
   "execution_count": 12,
   "id": "9a04c44a",
   "metadata": {
    "execution": {
     "iopub.execute_input": "2024-04-30T14:36:08.122908Z",
     "iopub.status.busy": "2024-04-30T14:36:08.121961Z",
     "iopub.status.idle": "2024-04-30T14:36:08.141326Z",
     "shell.execute_reply": "2024-04-30T14:36:08.140094Z"
    },
    "papermill": {
     "duration": 0.048003,
     "end_time": "2024-04-30T14:36:08.143661",
     "exception": false,
     "start_time": "2024-04-30T14:36:08.095658",
     "status": "completed"
    },
    "tags": []
   },
   "outputs": [
    {
     "data": {
      "text/html": [
       "<div>\n",
       "<style scoped>\n",
       "    .dataframe tbody tr th:only-of-type {\n",
       "        vertical-align: middle;\n",
       "    }\n",
       "\n",
       "    .dataframe tbody tr th {\n",
       "        vertical-align: top;\n",
       "    }\n",
       "\n",
       "    .dataframe thead th {\n",
       "        text-align: right;\n",
       "    }\n",
       "</style>\n",
       "<table border=\"1\" class=\"dataframe\">\n",
       "  <thead>\n",
       "    <tr style=\"text-align: right;\">\n",
       "      <th></th>\n",
       "      <th>column</th>\n",
       "      <th>dtype</th>\n",
       "    </tr>\n",
       "  </thead>\n",
       "  <tbody>\n",
       "    <tr>\n",
       "      <th>0</th>\n",
       "      <td>ID</td>\n",
       "      <td>int64</td>\n",
       "    </tr>\n",
       "    <tr>\n",
       "      <th>1</th>\n",
       "      <td>CODE_GENDER</td>\n",
       "      <td>int64</td>\n",
       "    </tr>\n",
       "    <tr>\n",
       "      <th>2</th>\n",
       "      <td>FLAG_OWN_CAR</td>\n",
       "      <td>int64</td>\n",
       "    </tr>\n",
       "    <tr>\n",
       "      <th>3</th>\n",
       "      <td>FLAG_OWN_REALTY</td>\n",
       "      <td>int64</td>\n",
       "    </tr>\n",
       "    <tr>\n",
       "      <th>4</th>\n",
       "      <td>CNT_CHILDREN</td>\n",
       "      <td>int64</td>\n",
       "    </tr>\n",
       "    <tr>\n",
       "      <th>5</th>\n",
       "      <td>AMT_INCOME_TOTAL</td>\n",
       "      <td>float64</td>\n",
       "    </tr>\n",
       "    <tr>\n",
       "      <th>6</th>\n",
       "      <td>DAYS_BIRTH</td>\n",
       "      <td>int64</td>\n",
       "    </tr>\n",
       "    <tr>\n",
       "      <th>7</th>\n",
       "      <td>DAYS_EMPLOYED</td>\n",
       "      <td>int64</td>\n",
       "    </tr>\n",
       "    <tr>\n",
       "      <th>8</th>\n",
       "      <td>FLAG_MOBIL</td>\n",
       "      <td>int64</td>\n",
       "    </tr>\n",
       "    <tr>\n",
       "      <th>9</th>\n",
       "      <td>FLAG_WORK_PHONE</td>\n",
       "      <td>int64</td>\n",
       "    </tr>\n",
       "    <tr>\n",
       "      <th>10</th>\n",
       "      <td>FLAG_PHONE</td>\n",
       "      <td>int64</td>\n",
       "    </tr>\n",
       "    <tr>\n",
       "      <th>11</th>\n",
       "      <td>FLAG_EMAIL</td>\n",
       "      <td>int64</td>\n",
       "    </tr>\n",
       "    <tr>\n",
       "      <th>12</th>\n",
       "      <td>CNT_FAM_MEMBERS</td>\n",
       "      <td>int64</td>\n",
       "    </tr>\n",
       "    <tr>\n",
       "      <th>13</th>\n",
       "      <td>NAME_INCOME_TYPE_Commercial associate</td>\n",
       "      <td>int64</td>\n",
       "    </tr>\n",
       "    <tr>\n",
       "      <th>14</th>\n",
       "      <td>NAME_INCOME_TYPE_Pensioner</td>\n",
       "      <td>int64</td>\n",
       "    </tr>\n",
       "    <tr>\n",
       "      <th>15</th>\n",
       "      <td>NAME_INCOME_TYPE_State servant</td>\n",
       "      <td>int64</td>\n",
       "    </tr>\n",
       "    <tr>\n",
       "      <th>16</th>\n",
       "      <td>NAME_INCOME_TYPE_Student</td>\n",
       "      <td>int64</td>\n",
       "    </tr>\n",
       "    <tr>\n",
       "      <th>17</th>\n",
       "      <td>NAME_INCOME_TYPE_Working</td>\n",
       "      <td>int64</td>\n",
       "    </tr>\n",
       "    <tr>\n",
       "      <th>18</th>\n",
       "      <td>NAME_EDUCATION_TYPE_Academic degree</td>\n",
       "      <td>int64</td>\n",
       "    </tr>\n",
       "    <tr>\n",
       "      <th>19</th>\n",
       "      <td>NAME_EDUCATION_TYPE_Higher education</td>\n",
       "      <td>int64</td>\n",
       "    </tr>\n",
       "    <tr>\n",
       "      <th>20</th>\n",
       "      <td>NAME_EDUCATION_TYPE_Incomplete higher</td>\n",
       "      <td>int64</td>\n",
       "    </tr>\n",
       "    <tr>\n",
       "      <th>21</th>\n",
       "      <td>NAME_EDUCATION_TYPE_Lower secondary</td>\n",
       "      <td>int64</td>\n",
       "    </tr>\n",
       "    <tr>\n",
       "      <th>22</th>\n",
       "      <td>NAME_EDUCATION_TYPE_Secondary / secondary special</td>\n",
       "      <td>int64</td>\n",
       "    </tr>\n",
       "    <tr>\n",
       "      <th>23</th>\n",
       "      <td>NAME_FAMILY_STATUS_Civil marriage</td>\n",
       "      <td>int64</td>\n",
       "    </tr>\n",
       "    <tr>\n",
       "      <th>24</th>\n",
       "      <td>NAME_FAMILY_STATUS_Married</td>\n",
       "      <td>int64</td>\n",
       "    </tr>\n",
       "    <tr>\n",
       "      <th>25</th>\n",
       "      <td>NAME_FAMILY_STATUS_Separated</td>\n",
       "      <td>int64</td>\n",
       "    </tr>\n",
       "    <tr>\n",
       "      <th>26</th>\n",
       "      <td>NAME_FAMILY_STATUS_Single / not married</td>\n",
       "      <td>int64</td>\n",
       "    </tr>\n",
       "    <tr>\n",
       "      <th>27</th>\n",
       "      <td>NAME_FAMILY_STATUS_Widow</td>\n",
       "      <td>int64</td>\n",
       "    </tr>\n",
       "    <tr>\n",
       "      <th>28</th>\n",
       "      <td>NAME_HOUSING_TYPE_Co-op apartment</td>\n",
       "      <td>int64</td>\n",
       "    </tr>\n",
       "    <tr>\n",
       "      <th>29</th>\n",
       "      <td>NAME_HOUSING_TYPE_House / apartment</td>\n",
       "      <td>int64</td>\n",
       "    </tr>\n",
       "    <tr>\n",
       "      <th>30</th>\n",
       "      <td>NAME_HOUSING_TYPE_Municipal apartment</td>\n",
       "      <td>int64</td>\n",
       "    </tr>\n",
       "    <tr>\n",
       "      <th>31</th>\n",
       "      <td>NAME_HOUSING_TYPE_Office apartment</td>\n",
       "      <td>int64</td>\n",
       "    </tr>\n",
       "    <tr>\n",
       "      <th>32</th>\n",
       "      <td>NAME_HOUSING_TYPE_Rented apartment</td>\n",
       "      <td>int64</td>\n",
       "    </tr>\n",
       "    <tr>\n",
       "      <th>33</th>\n",
       "      <td>NAME_HOUSING_TYPE_With parents</td>\n",
       "      <td>int64</td>\n",
       "    </tr>\n",
       "    <tr>\n",
       "      <th>34</th>\n",
       "      <td>OCCUPATION_TYPE_Accountants</td>\n",
       "      <td>int64</td>\n",
       "    </tr>\n",
       "    <tr>\n",
       "      <th>35</th>\n",
       "      <td>OCCUPATION_TYPE_Cleaning staff</td>\n",
       "      <td>int64</td>\n",
       "    </tr>\n",
       "    <tr>\n",
       "      <th>36</th>\n",
       "      <td>OCCUPATION_TYPE_Cooking staff</td>\n",
       "      <td>int64</td>\n",
       "    </tr>\n",
       "    <tr>\n",
       "      <th>37</th>\n",
       "      <td>OCCUPATION_TYPE_Core staff</td>\n",
       "      <td>int64</td>\n",
       "    </tr>\n",
       "    <tr>\n",
       "      <th>38</th>\n",
       "      <td>OCCUPATION_TYPE_Drivers</td>\n",
       "      <td>int64</td>\n",
       "    </tr>\n",
       "    <tr>\n",
       "      <th>39</th>\n",
       "      <td>OCCUPATION_TYPE_HR staff</td>\n",
       "      <td>int64</td>\n",
       "    </tr>\n",
       "    <tr>\n",
       "      <th>40</th>\n",
       "      <td>OCCUPATION_TYPE_High skill tech staff</td>\n",
       "      <td>int64</td>\n",
       "    </tr>\n",
       "    <tr>\n",
       "      <th>41</th>\n",
       "      <td>OCCUPATION_TYPE_IT staff</td>\n",
       "      <td>int64</td>\n",
       "    </tr>\n",
       "    <tr>\n",
       "      <th>42</th>\n",
       "      <td>OCCUPATION_TYPE_Laborers</td>\n",
       "      <td>int64</td>\n",
       "    </tr>\n",
       "    <tr>\n",
       "      <th>43</th>\n",
       "      <td>OCCUPATION_TYPE_Low-skill Laborers</td>\n",
       "      <td>int64</td>\n",
       "    </tr>\n",
       "    <tr>\n",
       "      <th>44</th>\n",
       "      <td>OCCUPATION_TYPE_Managers</td>\n",
       "      <td>int64</td>\n",
       "    </tr>\n",
       "    <tr>\n",
       "      <th>45</th>\n",
       "      <td>OCCUPATION_TYPE_Medicine staff</td>\n",
       "      <td>int64</td>\n",
       "    </tr>\n",
       "    <tr>\n",
       "      <th>46</th>\n",
       "      <td>OCCUPATION_TYPE_Private service staff</td>\n",
       "      <td>int64</td>\n",
       "    </tr>\n",
       "    <tr>\n",
       "      <th>47</th>\n",
       "      <td>OCCUPATION_TYPE_Realty agents</td>\n",
       "      <td>int64</td>\n",
       "    </tr>\n",
       "    <tr>\n",
       "      <th>48</th>\n",
       "      <td>OCCUPATION_TYPE_Sales staff</td>\n",
       "      <td>int64</td>\n",
       "    </tr>\n",
       "    <tr>\n",
       "      <th>49</th>\n",
       "      <td>OCCUPATION_TYPE_Secretaries</td>\n",
       "      <td>int64</td>\n",
       "    </tr>\n",
       "    <tr>\n",
       "      <th>50</th>\n",
       "      <td>OCCUPATION_TYPE_Security staff</td>\n",
       "      <td>int64</td>\n",
       "    </tr>\n",
       "    <tr>\n",
       "      <th>51</th>\n",
       "      <td>OCCUPATION_TYPE_Waiters/barmen staff</td>\n",
       "      <td>int64</td>\n",
       "    </tr>\n",
       "  </tbody>\n",
       "</table>\n",
       "</div>"
      ],
      "text/plain": [
       "                                               column    dtype\n",
       "0                                                  ID    int64\n",
       "1                                         CODE_GENDER    int64\n",
       "2                                        FLAG_OWN_CAR    int64\n",
       "3                                     FLAG_OWN_REALTY    int64\n",
       "4                                        CNT_CHILDREN    int64\n",
       "5                                    AMT_INCOME_TOTAL  float64\n",
       "6                                          DAYS_BIRTH    int64\n",
       "7                                       DAYS_EMPLOYED    int64\n",
       "8                                          FLAG_MOBIL    int64\n",
       "9                                     FLAG_WORK_PHONE    int64\n",
       "10                                         FLAG_PHONE    int64\n",
       "11                                         FLAG_EMAIL    int64\n",
       "12                                    CNT_FAM_MEMBERS    int64\n",
       "13              NAME_INCOME_TYPE_Commercial associate    int64\n",
       "14                         NAME_INCOME_TYPE_Pensioner    int64\n",
       "15                     NAME_INCOME_TYPE_State servant    int64\n",
       "16                           NAME_INCOME_TYPE_Student    int64\n",
       "17                           NAME_INCOME_TYPE_Working    int64\n",
       "18                NAME_EDUCATION_TYPE_Academic degree    int64\n",
       "19               NAME_EDUCATION_TYPE_Higher education    int64\n",
       "20              NAME_EDUCATION_TYPE_Incomplete higher    int64\n",
       "21                NAME_EDUCATION_TYPE_Lower secondary    int64\n",
       "22  NAME_EDUCATION_TYPE_Secondary / secondary special    int64\n",
       "23                  NAME_FAMILY_STATUS_Civil marriage    int64\n",
       "24                         NAME_FAMILY_STATUS_Married    int64\n",
       "25                       NAME_FAMILY_STATUS_Separated    int64\n",
       "26            NAME_FAMILY_STATUS_Single / not married    int64\n",
       "27                           NAME_FAMILY_STATUS_Widow    int64\n",
       "28                  NAME_HOUSING_TYPE_Co-op apartment    int64\n",
       "29                NAME_HOUSING_TYPE_House / apartment    int64\n",
       "30              NAME_HOUSING_TYPE_Municipal apartment    int64\n",
       "31                 NAME_HOUSING_TYPE_Office apartment    int64\n",
       "32                 NAME_HOUSING_TYPE_Rented apartment    int64\n",
       "33                     NAME_HOUSING_TYPE_With parents    int64\n",
       "34                        OCCUPATION_TYPE_Accountants    int64\n",
       "35                     OCCUPATION_TYPE_Cleaning staff    int64\n",
       "36                      OCCUPATION_TYPE_Cooking staff    int64\n",
       "37                         OCCUPATION_TYPE_Core staff    int64\n",
       "38                            OCCUPATION_TYPE_Drivers    int64\n",
       "39                           OCCUPATION_TYPE_HR staff    int64\n",
       "40              OCCUPATION_TYPE_High skill tech staff    int64\n",
       "41                           OCCUPATION_TYPE_IT staff    int64\n",
       "42                           OCCUPATION_TYPE_Laborers    int64\n",
       "43                 OCCUPATION_TYPE_Low-skill Laborers    int64\n",
       "44                           OCCUPATION_TYPE_Managers    int64\n",
       "45                     OCCUPATION_TYPE_Medicine staff    int64\n",
       "46              OCCUPATION_TYPE_Private service staff    int64\n",
       "47                      OCCUPATION_TYPE_Realty agents    int64\n",
       "48                        OCCUPATION_TYPE_Sales staff    int64\n",
       "49                        OCCUPATION_TYPE_Secretaries    int64\n",
       "50                     OCCUPATION_TYPE_Security staff    int64\n",
       "51               OCCUPATION_TYPE_Waiters/barmen staff    int64"
      ]
     },
     "execution_count": 12,
     "metadata": {},
     "output_type": "execute_result"
    }
   ],
   "source": [
    "apr_after = metadata(apr)\n",
    "apr_after"
   ]
  },
  {
   "cell_type": "markdown",
   "id": "cb576413",
   "metadata": {
    "papermill": {
     "duration": 0.024896,
     "end_time": "2024-04-30T14:36:08.193520",
     "exception": false,
     "start_time": "2024-04-30T14:36:08.168624",
     "status": "completed"
    },
    "tags": []
   },
   "source": [
    "Se comparado com os metados de antes, fica claro que o número de colunas aumentou e existem apenas tipos númericos (int e float) no conjunto de dados atual."
   ]
  },
  {
   "cell_type": "code",
   "execution_count": 13,
   "id": "9be830d6",
   "metadata": {
    "execution": {
     "iopub.execute_input": "2024-04-30T14:36:08.245523Z",
     "iopub.status.busy": "2024-04-30T14:36:08.245077Z",
     "iopub.status.idle": "2024-04-30T14:36:08.252606Z",
     "shell.execute_reply": "2024-04-30T14:36:08.251428Z"
    },
    "papermill": {
     "duration": 0.036438,
     "end_time": "2024-04-30T14:36:08.255140",
     "exception": false,
     "start_time": "2024-04-30T14:36:08.218702",
     "status": "completed"
    },
    "tags": []
   },
   "outputs": [
    {
     "name": "stdout",
     "output_type": "stream",
     "text": [
      "Colunas do conjunto de dados antes da categorização: 18\n",
      "Colunas do conjunto de dados após a categorização: 52\n",
      "\n",
      "Tipos de dados do conjunto de dados antes da categorização: [dtype('int64') dtype('float64') dtype('O')]\n",
      "Tipos de dados do conjunto de dados após a categorização: [dtype('int64') dtype('float64')]\n"
     ]
    }
   ],
   "source": [
    "print(f\"Colunas do conjunto de dados antes da categorização: {apr_before.shape[0]}\")\n",
    "print(f\"Colunas do conjunto de dados após a categorização: {apr_after.shape[0]}\\n\")\n",
    "print(f\"Tipos de dados do conjunto de dados antes da categorização: {apr_before['dtype'].unique()}\")\n",
    "print(f\"Tipos de dados do conjunto de dados após a categorização: {apr_after['dtype'].unique()}\")"
   ]
  },
  {
   "cell_type": "markdown",
   "id": "d1a661be",
   "metadata": {
    "papermill": {
     "duration": 0.027238,
     "end_time": "2024-04-30T14:36:08.308881",
     "exception": false,
     "start_time": "2024-04-30T14:36:08.281643",
     "status": "completed"
    },
    "tags": []
   },
   "source": [
    "# 2. Construindo Variável De Resposta\n"
   ]
  },
  {
   "cell_type": "markdown",
   "id": "c133f33d",
   "metadata": {
    "papermill": {
     "duration": 0.025025,
     "end_time": "2024-04-30T14:36:08.359183",
     "exception": false,
     "start_time": "2024-04-30T14:36:08.334158",
     "status": "completed"
    },
    "tags": []
   },
   "source": [
    "Agora que conjunto de dados está adequado, vamos para a próxima etapa que é a construção da variável de resposta. Faremos isso através da manipulação do segundo conjunto de dados disponível, o registro de crédito dos clientes."
   ]
  },
  {
   "cell_type": "markdown",
   "id": "91f38020",
   "metadata": {
    "papermill": {
     "duration": 0.025001,
     "end_time": "2024-04-30T14:36:08.409519",
     "exception": false,
     "start_time": "2024-04-30T14:36:08.384518",
     "status": "completed"
    },
    "tags": []
   },
   "source": [
    "## 2.1 Preparando Dados"
   ]
  },
  {
   "cell_type": "code",
   "execution_count": 14,
   "id": "1cf01ddd",
   "metadata": {
    "execution": {
     "iopub.execute_input": "2024-04-30T14:36:08.463453Z",
     "iopub.status.busy": "2024-04-30T14:36:08.463032Z",
     "iopub.status.idle": "2024-04-30T14:36:08.998347Z",
     "shell.execute_reply": "2024-04-30T14:36:08.997084Z"
    },
    "papermill": {
     "duration": 0.56594,
     "end_time": "2024-04-30T14:36:09.001038",
     "exception": false,
     "start_time": "2024-04-30T14:36:08.435098",
     "status": "completed"
    },
    "tags": []
   },
   "outputs": [
    {
     "data": {
      "text/html": [
       "<div>\n",
       "<style scoped>\n",
       "    .dataframe tbody tr th:only-of-type {\n",
       "        vertical-align: middle;\n",
       "    }\n",
       "\n",
       "    .dataframe tbody tr th {\n",
       "        vertical-align: top;\n",
       "    }\n",
       "\n",
       "    .dataframe thead th {\n",
       "        text-align: right;\n",
       "    }\n",
       "</style>\n",
       "<table border=\"1\" class=\"dataframe\">\n",
       "  <thead>\n",
       "    <tr style=\"text-align: right;\">\n",
       "      <th></th>\n",
       "      <th>ID</th>\n",
       "      <th>MONTHS_BALANCE</th>\n",
       "      <th>STATUS</th>\n",
       "    </tr>\n",
       "  </thead>\n",
       "  <tbody>\n",
       "    <tr>\n",
       "      <th>0</th>\n",
       "      <td>5001711</td>\n",
       "      <td>0</td>\n",
       "      <td>X</td>\n",
       "    </tr>\n",
       "    <tr>\n",
       "      <th>1</th>\n",
       "      <td>5001711</td>\n",
       "      <td>-1</td>\n",
       "      <td>0</td>\n",
       "    </tr>\n",
       "    <tr>\n",
       "      <th>2</th>\n",
       "      <td>5001711</td>\n",
       "      <td>-2</td>\n",
       "      <td>0</td>\n",
       "    </tr>\n",
       "    <tr>\n",
       "      <th>3</th>\n",
       "      <td>5001711</td>\n",
       "      <td>-3</td>\n",
       "      <td>0</td>\n",
       "    </tr>\n",
       "    <tr>\n",
       "      <th>4</th>\n",
       "      <td>5001712</td>\n",
       "      <td>0</td>\n",
       "      <td>C</td>\n",
       "    </tr>\n",
       "  </tbody>\n",
       "</table>\n",
       "</div>"
      ],
      "text/plain": [
       "        ID  MONTHS_BALANCE STATUS\n",
       "0  5001711               0      X\n",
       "1  5001711              -1      0\n",
       "2  5001711              -2      0\n",
       "3  5001711              -3      0\n",
       "4  5001712               0      C"
      ]
     },
     "execution_count": 14,
     "metadata": {},
     "output_type": "execute_result"
    }
   ],
   "source": [
    "# Coletando dados\n",
    "cr = pd.read_csv('/kaggle/input/credit-card-approval-prediction/credit_record.csv')\n",
    "cr.head(5)"
   ]
  },
  {
   "cell_type": "markdown",
   "id": "1636e554",
   "metadata": {
    "papermill": {
     "duration": 0.027013,
     "end_time": "2024-04-30T14:36:09.055936",
     "exception": false,
     "start_time": "2024-04-30T14:36:09.028923",
     "status": "completed"
    },
    "tags": []
   },
   "source": [
    "Para melhor compreender o conjunto de dados, temos a variável **STATUS** que representa o quão atrasado foi efetuado o pagamento do crédito cedido, nesse caso temos:\n",
    "- X - sem crédito cedido no mês\n",
    "- C - pago dentro do prazo\n",
    "- 0 - pago 1 dia após o prazo\n",
    "- 1 - pago 30 dias após o prazo\n",
    "- 2 - pago 60 dias após o prazo\n",
    "- 3 - pago 90 dias após o prazo\n",
    "- 4 - pago 120 dias após o prazo\n",
    "- 5 - pago 150 dias após o prazo\n",
    "\n",
    "Com base nisso, vamos classificar um cliente como **mau pagador** e vamos utilizar STATUS >= 1 como nossa threshold.\n",
    "\n",
    "Mas antes, vamos agrupar os dados para que cada conjunto de variáveis corresponda a um único cliente."
   ]
  },
  {
   "cell_type": "code",
   "execution_count": 15,
   "id": "2b68f155",
   "metadata": {
    "execution": {
     "iopub.execute_input": "2024-04-30T14:36:09.109115Z",
     "iopub.status.busy": "2024-04-30T14:36:09.108714Z",
     "iopub.status.idle": "2024-04-30T14:36:12.269534Z",
     "shell.execute_reply": "2024-04-30T14:36:12.268116Z"
    },
    "papermill": {
     "duration": 3.19049,
     "end_time": "2024-04-30T14:36:12.272122",
     "exception": false,
     "start_time": "2024-04-30T14:36:09.081632",
     "status": "completed"
    },
    "tags": []
   },
   "outputs": [
    {
     "data": {
      "text/html": [
       "<div>\n",
       "<style scoped>\n",
       "    .dataframe tbody tr th:only-of-type {\n",
       "        vertical-align: middle;\n",
       "    }\n",
       "\n",
       "    .dataframe tbody tr th {\n",
       "        vertical-align: top;\n",
       "    }\n",
       "\n",
       "    .dataframe thead th {\n",
       "        text-align: right;\n",
       "    }\n",
       "</style>\n",
       "<table border=\"1\" class=\"dataframe\">\n",
       "  <thead>\n",
       "    <tr style=\"text-align: right;\">\n",
       "      <th></th>\n",
       "      <th>MONTHS_BALANCE</th>\n",
       "      <th>STATUS</th>\n",
       "    </tr>\n",
       "    <tr>\n",
       "      <th>ID</th>\n",
       "      <th></th>\n",
       "      <th></th>\n",
       "    </tr>\n",
       "  </thead>\n",
       "  <tbody>\n",
       "    <tr>\n",
       "      <th>5001711</th>\n",
       "      <td>[0, -1, -2, -3]</td>\n",
       "      <td>[X, 0, 0, 0]</td>\n",
       "    </tr>\n",
       "    <tr>\n",
       "      <th>5001712</th>\n",
       "      <td>[0, -1, -2, -3, -4, -5, -6, -7, -8, -9, -10, -...</td>\n",
       "      <td>[C, C, C, C, C, C, C, C, C, 0, 0, 0, 0, 0, 0, ...</td>\n",
       "    </tr>\n",
       "    <tr>\n",
       "      <th>5001713</th>\n",
       "      <td>[0, -1, -2, -3, -4, -5, -6, -7, -8, -9, -10, -...</td>\n",
       "      <td>[X, X, X, X, X, X, X, X, X, X, X, X, X, X, X, ...</td>\n",
       "    </tr>\n",
       "    <tr>\n",
       "      <th>5001714</th>\n",
       "      <td>[0, -1, -2, -3, -4, -5, -6, -7, -8, -9, -10, -...</td>\n",
       "      <td>[X, X, X, X, X, X, X, X, X, X, X, X, X, X, X]</td>\n",
       "    </tr>\n",
       "    <tr>\n",
       "      <th>5001715</th>\n",
       "      <td>[0, -1, -2, -3, -4, -5, -6, -7, -8, -9, -10, -...</td>\n",
       "      <td>[X, X, X, X, X, X, X, X, X, X, X, X, X, X, X, ...</td>\n",
       "    </tr>\n",
       "  </tbody>\n",
       "</table>\n",
       "</div>"
      ],
      "text/plain": [
       "                                            MONTHS_BALANCE  \\\n",
       "ID                                                           \n",
       "5001711                                    [0, -1, -2, -3]   \n",
       "5001712  [0, -1, -2, -3, -4, -5, -6, -7, -8, -9, -10, -...   \n",
       "5001713  [0, -1, -2, -3, -4, -5, -6, -7, -8, -9, -10, -...   \n",
       "5001714  [0, -1, -2, -3, -4, -5, -6, -7, -8, -9, -10, -...   \n",
       "5001715  [0, -1, -2, -3, -4, -5, -6, -7, -8, -9, -10, -...   \n",
       "\n",
       "                                                    STATUS  \n",
       "ID                                                          \n",
       "5001711                                       [X, 0, 0, 0]  \n",
       "5001712  [C, C, C, C, C, C, C, C, C, 0, 0, 0, 0, 0, 0, ...  \n",
       "5001713  [X, X, X, X, X, X, X, X, X, X, X, X, X, X, X, ...  \n",
       "5001714      [X, X, X, X, X, X, X, X, X, X, X, X, X, X, X]  \n",
       "5001715  [X, X, X, X, X, X, X, X, X, X, X, X, X, X, X, ...  "
      ]
     },
     "execution_count": 15,
     "metadata": {},
     "output_type": "execute_result"
    }
   ],
   "source": [
    "grouped = cr.groupby('ID')[['MONTHS_BALANCE', 'STATUS']].agg(list)\n",
    "grouped.head(5)"
   ]
  },
  {
   "cell_type": "markdown",
   "id": "c58282ac",
   "metadata": {
    "papermill": {
     "duration": 0.026112,
     "end_time": "2024-04-30T14:36:12.326010",
     "exception": false,
     "start_time": "2024-04-30T14:36:12.299898",
     "status": "completed"
    },
    "tags": []
   },
   "source": [
    "Para nosso treinamento, clientes que nunca receberam crédito são irrelevantes, por isso iremos removê-los do conjunto de dados."
   ]
  },
  {
   "cell_type": "code",
   "execution_count": 16,
   "id": "c1f57587",
   "metadata": {
    "execution": {
     "iopub.execute_input": "2024-04-30T14:36:12.381839Z",
     "iopub.status.busy": "2024-04-30T14:36:12.381425Z",
     "iopub.status.idle": "2024-04-30T14:36:12.452656Z",
     "shell.execute_reply": "2024-04-30T14:36:12.451377Z"
    },
    "papermill": {
     "duration": 0.102272,
     "end_time": "2024-04-30T14:36:12.455289",
     "exception": false,
     "start_time": "2024-04-30T14:36:12.353017",
     "status": "completed"
    },
    "tags": []
   },
   "outputs": [
    {
     "name": "stdout",
     "output_type": "stream",
     "text": [
      "Foi removido 4536 linhas com clientes sem crédito cedido.\n"
     ]
    }
   ],
   "source": [
    "# Removendo linhas com apenas registros 'X' em STATUS\n",
    "vector = list(map(lambda row: row.count('X') == len(row), grouped.loc[:, 'STATUS']))\n",
    "before, _ = grouped.shape\n",
    "grouped.drop(grouped[vector].index, inplace=True)\n",
    "after, _ = grouped.shape\n",
    "print(f'Foi removido {before-after} linhas com clientes sem crédito cedido.')"
   ]
  },
  {
   "cell_type": "markdown",
   "id": "ff09125e",
   "metadata": {
    "papermill": {
     "duration": 0.02717,
     "end_time": "2024-04-30T14:36:12.511871",
     "exception": false,
     "start_time": "2024-04-30T14:36:12.484701",
     "status": "completed"
    },
    "tags": []
   },
   "source": [
    "Também vamos remover clientes que não estejam dentro da janela temporal mínima de 30 dias ou mais."
   ]
  },
  {
   "cell_type": "code",
   "execution_count": 17,
   "id": "c4eccdea",
   "metadata": {
    "execution": {
     "iopub.execute_input": "2024-04-30T14:36:12.566857Z",
     "iopub.status.busy": "2024-04-30T14:36:12.566454Z",
     "iopub.status.idle": "2024-04-30T14:36:12.607150Z",
     "shell.execute_reply": "2024-04-30T14:36:12.605663Z"
    },
    "papermill": {
     "duration": 0.070375,
     "end_time": "2024-04-30T14:36:12.609515",
     "exception": false,
     "start_time": "2024-04-30T14:36:12.539140",
     "status": "completed"
    },
    "tags": []
   },
   "outputs": [
    {
     "name": "stdout",
     "output_type": "stream",
     "text": [
      "Foi removido 28499 linhas com clientes com menos de 30 registros.\n"
     ]
    }
   ],
   "source": [
    "# Removendo linhas com menos de 30 registros em STATUS\n",
    "vector = list(map(lambda row: len(row) < 30, grouped.loc[:, 'STATUS']))\n",
    "before, _ = grouped.shape\n",
    "grouped.drop(grouped[vector].index, inplace=True)\n",
    "after, _ = grouped.shape\n",
    "print(f'Foi removido {before-after} linhas com clientes com menos de 30 registros.')"
   ]
  },
  {
   "cell_type": "code",
   "execution_count": 18,
   "id": "4f476291",
   "metadata": {
    "execution": {
     "iopub.execute_input": "2024-04-30T14:36:12.665247Z",
     "iopub.status.busy": "2024-04-30T14:36:12.664003Z",
     "iopub.status.idle": "2024-04-30T14:36:12.682931Z",
     "shell.execute_reply": "2024-04-30T14:36:12.681742Z"
    },
    "papermill": {
     "duration": 0.048877,
     "end_time": "2024-04-30T14:36:12.685286",
     "exception": false,
     "start_time": "2024-04-30T14:36:12.636409",
     "status": "completed"
    },
    "tags": []
   },
   "outputs": [
    {
     "data": {
      "text/html": [
       "<div>\n",
       "<style scoped>\n",
       "    .dataframe tbody tr th:only-of-type {\n",
       "        vertical-align: middle;\n",
       "    }\n",
       "\n",
       "    .dataframe tbody tr th {\n",
       "        vertical-align: top;\n",
       "    }\n",
       "\n",
       "    .dataframe thead th {\n",
       "        text-align: right;\n",
       "    }\n",
       "</style>\n",
       "<table border=\"1\" class=\"dataframe\">\n",
       "  <thead>\n",
       "    <tr style=\"text-align: right;\">\n",
       "      <th></th>\n",
       "      <th>MONTHS_BALANCE</th>\n",
       "      <th>STATUS</th>\n",
       "    </tr>\n",
       "    <tr>\n",
       "      <th>ID</th>\n",
       "      <th></th>\n",
       "      <th></th>\n",
       "    </tr>\n",
       "  </thead>\n",
       "  <tbody>\n",
       "    <tr>\n",
       "      <th>5001718</th>\n",
       "      <td>[0, -1, -2, -3, -4, -5, -6, -7, -8, -9, -10, -...</td>\n",
       "      <td>[C, C, C, 0, 0, 0, 0, 0, 1, X, 0, X, 1, X, 0, ...</td>\n",
       "    </tr>\n",
       "    <tr>\n",
       "      <th>5001719</th>\n",
       "      <td>[0, -1, -2, -3, -4, -5, -6, -7, -8, -9, -10, -...</td>\n",
       "      <td>[C, C, C, C, C, C, C, C, C, C, C, C, C, C, C, ...</td>\n",
       "    </tr>\n",
       "    <tr>\n",
       "      <th>5001720</th>\n",
       "      <td>[0, -1, -2, -3, -4, -5, -6, -7, -8, -9, -10, -...</td>\n",
       "      <td>[1, 0, 0, 1, 1, 0, 1, 1, 0, 0, 0, 0, 0, 1, 0, ...</td>\n",
       "    </tr>\n",
       "    <tr>\n",
       "      <th>5001723</th>\n",
       "      <td>[0, -1, -2, -3, -4, -5, -6, -7, -8, -9, -10, -...</td>\n",
       "      <td>[X, X, X, X, X, X, X, X, X, X, X, X, X, X, X, ...</td>\n",
       "    </tr>\n",
       "    <tr>\n",
       "      <th>5001724</th>\n",
       "      <td>[0, -1, -2, -3, -4, -5, -6, -7, -8, -9, -10, -...</td>\n",
       "      <td>[C, C, C, C, C, C, C, C, C, C, C, C, C, C, C, ...</td>\n",
       "    </tr>\n",
       "  </tbody>\n",
       "</table>\n",
       "</div>"
      ],
      "text/plain": [
       "                                            MONTHS_BALANCE  \\\n",
       "ID                                                           \n",
       "5001718  [0, -1, -2, -3, -4, -5, -6, -7, -8, -9, -10, -...   \n",
       "5001719  [0, -1, -2, -3, -4, -5, -6, -7, -8, -9, -10, -...   \n",
       "5001720  [0, -1, -2, -3, -4, -5, -6, -7, -8, -9, -10, -...   \n",
       "5001723  [0, -1, -2, -3, -4, -5, -6, -7, -8, -9, -10, -...   \n",
       "5001724  [0, -1, -2, -3, -4, -5, -6, -7, -8, -9, -10, -...   \n",
       "\n",
       "                                                    STATUS  \n",
       "ID                                                          \n",
       "5001718  [C, C, C, 0, 0, 0, 0, 0, 1, X, 0, X, 1, X, 0, ...  \n",
       "5001719  [C, C, C, C, C, C, C, C, C, C, C, C, C, C, C, ...  \n",
       "5001720  [1, 0, 0, 1, 1, 0, 1, 1, 0, 0, 0, 0, 0, 1, 0, ...  \n",
       "5001723  [X, X, X, X, X, X, X, X, X, X, X, X, X, X, X, ...  \n",
       "5001724  [C, C, C, C, C, C, C, C, C, C, C, C, C, C, C, ...  "
      ]
     },
     "execution_count": 18,
     "metadata": {},
     "output_type": "execute_result"
    }
   ],
   "source": [
    "# Visualizando resultado final\n",
    "grouped.head(5)"
   ]
  },
  {
   "cell_type": "markdown",
   "id": "23a5110c",
   "metadata": {
    "papermill": {
     "duration": 0.02618,
     "end_time": "2024-04-30T14:36:12.737718",
     "exception": false,
     "start_time": "2024-04-30T14:36:12.711538",
     "status": "completed"
    },
    "tags": []
   },
   "source": [
    "Agora nosso conjunto de dados está pronto para ser usado para criar a variável de resposta."
   ]
  },
  {
   "cell_type": "markdown",
   "id": "37f95ee0",
   "metadata": {
    "papermill": {
     "duration": 0.026075,
     "end_time": "2024-04-30T14:36:12.790101",
     "exception": false,
     "start_time": "2024-04-30T14:36:12.764026",
     "status": "completed"
    },
    "tags": []
   },
   "source": [
    "## 2.2 Criando Variável"
   ]
  },
  {
   "cell_type": "markdown",
   "id": "79a63d36",
   "metadata": {
    "papermill": {
     "duration": 0.026792,
     "end_time": "2024-04-30T14:36:12.843899",
     "exception": false,
     "start_time": "2024-04-30T14:36:12.817107",
     "status": "completed"
    },
    "tags": []
   },
   "source": [
    "Para a criação da variável de resposta, primeiro foi considerada a frequêcia geral de atrasos de cada cliente ao longo de todo o período, clientes com uma frequência superior a média do conjunto irão atender a primeira condição para serem classificados como **maus pagadores**."
   ]
  },
  {
   "cell_type": "code",
   "execution_count": 19,
   "id": "777974b6",
   "metadata": {
    "execution": {
     "iopub.execute_input": "2024-04-30T14:36:12.899693Z",
     "iopub.status.busy": "2024-04-30T14:36:12.899267Z",
     "iopub.status.idle": "2024-04-30T14:36:13.041968Z",
     "shell.execute_reply": "2024-04-30T14:36:13.040765Z"
    },
    "papermill": {
     "duration": 0.174112,
     "end_time": "2024-04-30T14:36:13.044944",
     "exception": false,
     "start_time": "2024-04-30T14:36:12.870832",
     "status": "completed"
    },
    "tags": []
   },
   "outputs": [
    {
     "data": {
      "text/html": [
       "<div>\n",
       "<style scoped>\n",
       "    .dataframe tbody tr th:only-of-type {\n",
       "        vertical-align: middle;\n",
       "    }\n",
       "\n",
       "    .dataframe tbody tr th {\n",
       "        vertical-align: top;\n",
       "    }\n",
       "\n",
       "    .dataframe thead th {\n",
       "        text-align: right;\n",
       "    }\n",
       "</style>\n",
       "<table border=\"1\" class=\"dataframe\">\n",
       "  <thead>\n",
       "    <tr style=\"text-align: right;\">\n",
       "      <th></th>\n",
       "      <th>MONTHS_BALANCE</th>\n",
       "      <th>STATUS</th>\n",
       "      <th>FREQUENCY</th>\n",
       "    </tr>\n",
       "    <tr>\n",
       "      <th>ID</th>\n",
       "      <th></th>\n",
       "      <th></th>\n",
       "      <th></th>\n",
       "    </tr>\n",
       "  </thead>\n",
       "  <tbody>\n",
       "    <tr>\n",
       "      <th>5001718</th>\n",
       "      <td>[0, -1, -2, -3, -4, -5, -6, -7, -8, -9, -10, -...</td>\n",
       "      <td>[C, C, C, 0, 0, 0, 0, 0, 1, X, 0, X, 1, X, 0, ...</td>\n",
       "      <td>0.666667</td>\n",
       "    </tr>\n",
       "    <tr>\n",
       "      <th>5001719</th>\n",
       "      <td>[0, -1, -2, -3, -4, -5, -6, -7, -8, -9, -10, -...</td>\n",
       "      <td>[C, C, C, C, C, C, C, C, C, C, C, C, C, C, C, ...</td>\n",
       "      <td>0.046512</td>\n",
       "    </tr>\n",
       "    <tr>\n",
       "      <th>5001720</th>\n",
       "      <td>[0, -1, -2, -3, -4, -5, -6, -7, -8, -9, -10, -...</td>\n",
       "      <td>[1, 0, 0, 1, 1, 0, 1, 1, 0, 0, 0, 0, 0, 1, 0, ...</td>\n",
       "      <td>1.000000</td>\n",
       "    </tr>\n",
       "    <tr>\n",
       "      <th>5001723</th>\n",
       "      <td>[0, -1, -2, -3, -4, -5, -6, -7, -8, -9, -10, -...</td>\n",
       "      <td>[X, X, X, X, X, X, X, X, X, X, X, X, X, X, X, ...</td>\n",
       "      <td>0.258065</td>\n",
       "    </tr>\n",
       "    <tr>\n",
       "      <th>5001724</th>\n",
       "      <td>[0, -1, -2, -3, -4, -5, -6, -7, -8, -9, -10, -...</td>\n",
       "      <td>[C, C, C, C, C, C, C, C, C, C, C, C, C, C, C, ...</td>\n",
       "      <td>0.000000</td>\n",
       "    </tr>\n",
       "  </tbody>\n",
       "</table>\n",
       "</div>"
      ],
      "text/plain": [
       "                                            MONTHS_BALANCE  \\\n",
       "ID                                                           \n",
       "5001718  [0, -1, -2, -3, -4, -5, -6, -7, -8, -9, -10, -...   \n",
       "5001719  [0, -1, -2, -3, -4, -5, -6, -7, -8, -9, -10, -...   \n",
       "5001720  [0, -1, -2, -3, -4, -5, -6, -7, -8, -9, -10, -...   \n",
       "5001723  [0, -1, -2, -3, -4, -5, -6, -7, -8, -9, -10, -...   \n",
       "5001724  [0, -1, -2, -3, -4, -5, -6, -7, -8, -9, -10, -...   \n",
       "\n",
       "                                                    STATUS  FREQUENCY  \n",
       "ID                                                                     \n",
       "5001718  [C, C, C, 0, 0, 0, 0, 0, 1, X, 0, X, 1, X, 0, ...   0.666667  \n",
       "5001719  [C, C, C, C, C, C, C, C, C, C, C, C, C, C, C, ...   0.046512  \n",
       "5001720  [1, 0, 0, 1, 1, 0, 1, 1, 0, 0, 0, 0, 0, 1, 0, ...   1.000000  \n",
       "5001723  [X, X, X, X, X, X, X, X, X, X, X, X, X, X, X, ...   0.258065  \n",
       "5001724  [C, C, C, C, C, C, C, C, C, C, C, C, C, C, C, ...   0.000000  "
      ]
     },
     "execution_count": 19,
     "metadata": {},
     "output_type": "execute_result"
    }
   ],
   "source": [
    "# Coletando a frequência de defaults ao longo de todo o período para cada cliente\n",
    "def frequency(lst: list) -> float:\n",
    "    acum = lst.count('0') + lst.count('1') + lst.count('2') + lst.count('3') + lst.count('4') + lst.count('5')\n",
    "    freq = acum / len(lst)\n",
    "    return freq\n",
    "\n",
    "grouped['FREQUENCY'] = list(map(lambda row: frequency(row), grouped.loc[:, 'STATUS']))\n",
    "grouped.head(5)"
   ]
  },
  {
   "cell_type": "markdown",
   "id": "1d736ef4",
   "metadata": {
    "papermill": {
     "duration": 0.02641,
     "end_time": "2024-04-30T14:36:13.098020",
     "exception": false,
     "start_time": "2024-04-30T14:36:13.071610",
     "status": "completed"
    },
    "tags": []
   },
   "source": [
    "Para levar em conta a **gravidade** de cada atraso, uma segunda variável foi criada para representar a tendência de inadimplência do cliente, os clientes que estejam acima da média nesse valor atenderam a segunda condição para serem classificados como **maus pagadores**."
   ]
  },
  {
   "cell_type": "code",
   "execution_count": 20,
   "id": "fcd38982",
   "metadata": {
    "execution": {
     "iopub.execute_input": "2024-04-30T14:36:13.153274Z",
     "iopub.status.busy": "2024-04-30T14:36:13.152542Z",
     "iopub.status.idle": "2024-04-30T14:36:13.298869Z",
     "shell.execute_reply": "2024-04-30T14:36:13.297740Z"
    },
    "papermill": {
     "duration": 0.177162,
     "end_time": "2024-04-30T14:36:13.301720",
     "exception": false,
     "start_time": "2024-04-30T14:36:13.124558",
     "status": "completed"
    },
    "tags": []
   },
   "outputs": [
    {
     "data": {
      "text/html": [
       "<div>\n",
       "<style scoped>\n",
       "    .dataframe tbody tr th:only-of-type {\n",
       "        vertical-align: middle;\n",
       "    }\n",
       "\n",
       "    .dataframe tbody tr th {\n",
       "        vertical-align: top;\n",
       "    }\n",
       "\n",
       "    .dataframe thead th {\n",
       "        text-align: right;\n",
       "    }\n",
       "</style>\n",
       "<table border=\"1\" class=\"dataframe\">\n",
       "  <thead>\n",
       "    <tr style=\"text-align: right;\">\n",
       "      <th></th>\n",
       "      <th>MONTHS_BALANCE</th>\n",
       "      <th>STATUS</th>\n",
       "      <th>FREQUENCY</th>\n",
       "      <th>RISK_FACTOR</th>\n",
       "    </tr>\n",
       "    <tr>\n",
       "      <th>ID</th>\n",
       "      <th></th>\n",
       "      <th></th>\n",
       "      <th></th>\n",
       "      <th></th>\n",
       "    </tr>\n",
       "  </thead>\n",
       "  <tbody>\n",
       "    <tr>\n",
       "      <th>5001718</th>\n",
       "      <td>[0, -1, -2, -3, -4, -5, -6, -7, -8, -9, -10, -...</td>\n",
       "      <td>[C, C, C, 0, 0, 0, 0, 0, 1, X, 0, X, 1, X, 0, ...</td>\n",
       "      <td>0.666667</td>\n",
       "      <td>0.717949</td>\n",
       "    </tr>\n",
       "    <tr>\n",
       "      <th>5001719</th>\n",
       "      <td>[0, -1, -2, -3, -4, -5, -6, -7, -8, -9, -10, -...</td>\n",
       "      <td>[C, C, C, C, C, C, C, C, C, C, C, C, C, C, C, ...</td>\n",
       "      <td>0.046512</td>\n",
       "      <td>0.046512</td>\n",
       "    </tr>\n",
       "    <tr>\n",
       "      <th>5001720</th>\n",
       "      <td>[0, -1, -2, -3, -4, -5, -6, -7, -8, -9, -10, -...</td>\n",
       "      <td>[1, 0, 0, 1, 1, 0, 1, 1, 0, 0, 0, 0, 0, 1, 0, ...</td>\n",
       "      <td>1.000000</td>\n",
       "      <td>1.194444</td>\n",
       "    </tr>\n",
       "    <tr>\n",
       "      <th>5001723</th>\n",
       "      <td>[0, -1, -2, -3, -4, -5, -6, -7, -8, -9, -10, -...</td>\n",
       "      <td>[X, X, X, X, X, X, X, X, X, X, X, X, X, X, X, ...</td>\n",
       "      <td>0.258065</td>\n",
       "      <td>0.258065</td>\n",
       "    </tr>\n",
       "    <tr>\n",
       "      <th>5001724</th>\n",
       "      <td>[0, -1, -2, -3, -4, -5, -6, -7, -8, -9, -10, -...</td>\n",
       "      <td>[C, C, C, C, C, C, C, C, C, C, C, C, C, C, C, ...</td>\n",
       "      <td>0.000000</td>\n",
       "      <td>0.000000</td>\n",
       "    </tr>\n",
       "  </tbody>\n",
       "</table>\n",
       "</div>"
      ],
      "text/plain": [
       "                                            MONTHS_BALANCE  \\\n",
       "ID                                                           \n",
       "5001718  [0, -1, -2, -3, -4, -5, -6, -7, -8, -9, -10, -...   \n",
       "5001719  [0, -1, -2, -3, -4, -5, -6, -7, -8, -9, -10, -...   \n",
       "5001720  [0, -1, -2, -3, -4, -5, -6, -7, -8, -9, -10, -...   \n",
       "5001723  [0, -1, -2, -3, -4, -5, -6, -7, -8, -9, -10, -...   \n",
       "5001724  [0, -1, -2, -3, -4, -5, -6, -7, -8, -9, -10, -...   \n",
       "\n",
       "                                                    STATUS  FREQUENCY  \\\n",
       "ID                                                                      \n",
       "5001718  [C, C, C, 0, 0, 0, 0, 0, 1, X, 0, X, 1, X, 0, ...   0.666667   \n",
       "5001719  [C, C, C, C, C, C, C, C, C, C, C, C, C, C, C, ...   0.046512   \n",
       "5001720  [1, 0, 0, 1, 1, 0, 1, 1, 0, 0, 0, 0, 0, 1, 0, ...   1.000000   \n",
       "5001723  [X, X, X, X, X, X, X, X, X, X, X, X, X, X, X, ...   0.258065   \n",
       "5001724  [C, C, C, C, C, C, C, C, C, C, C, C, C, C, C, ...   0.000000   \n",
       "\n",
       "         RISK_FACTOR  \n",
       "ID                    \n",
       "5001718     0.717949  \n",
       "5001719     0.046512  \n",
       "5001720     1.194444  \n",
       "5001723     0.258065  \n",
       "5001724     0.000000  "
      ]
     },
     "execution_count": 20,
     "metadata": {},
     "output_type": "execute_result"
    }
   ],
   "source": [
    "def risk_factor(lst: list) -> float:\n",
    "    acum = lst.count('0') * 1 + lst.count('1') * 2 + lst.count('2') * 3 + lst.count('3') * 4 + lst.count('4') * 5 + lst.count('5') * 6\n",
    "    risk = acum / len(lst)\n",
    "    return risk\n",
    "\n",
    "grouped['RISK_FACTOR'] = list(map(lambda row: risk_factor(row), grouped.loc[:, 'STATUS']))\n",
    "grouped.head(5)"
   ]
  },
  {
   "cell_type": "markdown",
   "id": "f5c47dfe",
   "metadata": {
    "papermill": {
     "duration": 0.027535,
     "end_time": "2024-04-30T14:36:13.358701",
     "exception": false,
     "start_time": "2024-04-30T14:36:13.331166",
     "status": "completed"
    },
    "tags": []
   },
   "source": [
    "Agora vamos verificar quais clientes atendem as duas condições pré-estabelecidas:\n",
    "- Frequência de inadimplência maior que a média do grupo\n",
    "- Fator de risco maior que a média do grupo"
   ]
  },
  {
   "cell_type": "code",
   "execution_count": 21,
   "id": "ca457a1a",
   "metadata": {
    "execution": {
     "iopub.execute_input": "2024-04-30T14:36:13.416481Z",
     "iopub.status.busy": "2024-04-30T14:36:13.416049Z",
     "iopub.status.idle": "2024-04-30T14:36:13.425911Z",
     "shell.execute_reply": "2024-04-30T14:36:13.424718Z"
    },
    "papermill": {
     "duration": 0.041018,
     "end_time": "2024-04-30T14:36:13.428552",
     "exception": false,
     "start_time": "2024-04-30T14:36:13.387534",
     "status": "completed"
    },
    "tags": []
   },
   "outputs": [
    {
     "name": "stdout",
     "output_type": "stream",
     "text": [
      "Existem 4332 clientes que atendem as condições.\n"
     ]
    }
   ],
   "source": [
    "index_default = grouped[(grouped['FREQUENCY'] > grouped['FREQUENCY'].mean()) & (grouped['RISK_FACTOR'] > grouped['RISK_FACTOR'].mean())].index\n",
    "print(f'Existem {len(index_default)} clientes que atendem as condições.')"
   ]
  },
  {
   "cell_type": "markdown",
   "id": "921a604f",
   "metadata": {
    "papermill": {
     "duration": 0.028065,
     "end_time": "2024-04-30T14:36:13.485175",
     "exception": false,
     "start_time": "2024-04-30T14:36:13.457110",
     "status": "completed"
    },
    "tags": []
   },
   "source": [
    "Para armazenar quais clientes atendem essas condições e são **maus pagadores** vamos criar a variável DEFAULT e preencher ela de acordo com os ID que atendem as condições."
   ]
  },
  {
   "cell_type": "code",
   "execution_count": 22,
   "id": "56757b70",
   "metadata": {
    "execution": {
     "iopub.execute_input": "2024-04-30T14:36:13.541681Z",
     "iopub.status.busy": "2024-04-30T14:36:13.541245Z",
     "iopub.status.idle": "2024-04-30T14:36:13.564615Z",
     "shell.execute_reply": "2024-04-30T14:36:13.563365Z"
    },
    "papermill": {
     "duration": 0.054536,
     "end_time": "2024-04-30T14:36:13.567262",
     "exception": false,
     "start_time": "2024-04-30T14:36:13.512726",
     "status": "completed"
    },
    "tags": []
   },
   "outputs": [
    {
     "data": {
      "text/html": [
       "<div>\n",
       "<style scoped>\n",
       "    .dataframe tbody tr th:only-of-type {\n",
       "        vertical-align: middle;\n",
       "    }\n",
       "\n",
       "    .dataframe tbody tr th {\n",
       "        vertical-align: top;\n",
       "    }\n",
       "\n",
       "    .dataframe thead th {\n",
       "        text-align: right;\n",
       "    }\n",
       "</style>\n",
       "<table border=\"1\" class=\"dataframe\">\n",
       "  <thead>\n",
       "    <tr style=\"text-align: right;\">\n",
       "      <th></th>\n",
       "      <th>MONTHS_BALANCE</th>\n",
       "      <th>STATUS</th>\n",
       "      <th>FREQUENCY</th>\n",
       "      <th>RISK_FACTOR</th>\n",
       "      <th>DEFAULT</th>\n",
       "    </tr>\n",
       "    <tr>\n",
       "      <th>ID</th>\n",
       "      <th></th>\n",
       "      <th></th>\n",
       "      <th></th>\n",
       "      <th></th>\n",
       "      <th></th>\n",
       "    </tr>\n",
       "  </thead>\n",
       "  <tbody>\n",
       "    <tr>\n",
       "      <th>5001718</th>\n",
       "      <td>[0, -1, -2, -3, -4, -5, -6, -7, -8, -9, -10, -...</td>\n",
       "      <td>[C, C, C, 0, 0, 0, 0, 0, 1, X, 0, X, 1, X, 0, ...</td>\n",
       "      <td>0.666667</td>\n",
       "      <td>0.717949</td>\n",
       "      <td>1</td>\n",
       "    </tr>\n",
       "    <tr>\n",
       "      <th>5001719</th>\n",
       "      <td>[0, -1, -2, -3, -4, -5, -6, -7, -8, -9, -10, -...</td>\n",
       "      <td>[C, C, C, C, C, C, C, C, C, C, C, C, C, C, C, ...</td>\n",
       "      <td>0.046512</td>\n",
       "      <td>0.046512</td>\n",
       "      <td>0</td>\n",
       "    </tr>\n",
       "    <tr>\n",
       "      <th>5001720</th>\n",
       "      <td>[0, -1, -2, -3, -4, -5, -6, -7, -8, -9, -10, -...</td>\n",
       "      <td>[1, 0, 0, 1, 1, 0, 1, 1, 0, 0, 0, 0, 0, 1, 0, ...</td>\n",
       "      <td>1.000000</td>\n",
       "      <td>1.194444</td>\n",
       "      <td>1</td>\n",
       "    </tr>\n",
       "    <tr>\n",
       "      <th>5001723</th>\n",
       "      <td>[0, -1, -2, -3, -4, -5, -6, -7, -8, -9, -10, -...</td>\n",
       "      <td>[X, X, X, X, X, X, X, X, X, X, X, X, X, X, X, ...</td>\n",
       "      <td>0.258065</td>\n",
       "      <td>0.258065</td>\n",
       "      <td>0</td>\n",
       "    </tr>\n",
       "    <tr>\n",
       "      <th>5001724</th>\n",
       "      <td>[0, -1, -2, -3, -4, -5, -6, -7, -8, -9, -10, -...</td>\n",
       "      <td>[C, C, C, C, C, C, C, C, C, C, C, C, C, C, C, ...</td>\n",
       "      <td>0.000000</td>\n",
       "      <td>0.000000</td>\n",
       "      <td>0</td>\n",
       "    </tr>\n",
       "  </tbody>\n",
       "</table>\n",
       "</div>"
      ],
      "text/plain": [
       "                                            MONTHS_BALANCE  \\\n",
       "ID                                                           \n",
       "5001718  [0, -1, -2, -3, -4, -5, -6, -7, -8, -9, -10, -...   \n",
       "5001719  [0, -1, -2, -3, -4, -5, -6, -7, -8, -9, -10, -...   \n",
       "5001720  [0, -1, -2, -3, -4, -5, -6, -7, -8, -9, -10, -...   \n",
       "5001723  [0, -1, -2, -3, -4, -5, -6, -7, -8, -9, -10, -...   \n",
       "5001724  [0, -1, -2, -3, -4, -5, -6, -7, -8, -9, -10, -...   \n",
       "\n",
       "                                                    STATUS  FREQUENCY  \\\n",
       "ID                                                                      \n",
       "5001718  [C, C, C, 0, 0, 0, 0, 0, 1, X, 0, X, 1, X, 0, ...   0.666667   \n",
       "5001719  [C, C, C, C, C, C, C, C, C, C, C, C, C, C, C, ...   0.046512   \n",
       "5001720  [1, 0, 0, 1, 1, 0, 1, 1, 0, 0, 0, 0, 0, 1, 0, ...   1.000000   \n",
       "5001723  [X, X, X, X, X, X, X, X, X, X, X, X, X, X, X, ...   0.258065   \n",
       "5001724  [C, C, C, C, C, C, C, C, C, C, C, C, C, C, C, ...   0.000000   \n",
       "\n",
       "         RISK_FACTOR  DEFAULT  \n",
       "ID                             \n",
       "5001718     0.717949        1  \n",
       "5001719     0.046512        0  \n",
       "5001720     1.194444        1  \n",
       "5001723     0.258065        0  \n",
       "5001724     0.000000        0  "
      ]
     },
     "execution_count": 22,
     "metadata": {},
     "output_type": "execute_result"
    }
   ],
   "source": [
    "grouped['DEFAULT'] = 0\n",
    "grouped.loc[index_default, 'DEFAULT'] = 1\n",
    "grouped.head(5)"
   ]
  },
  {
   "cell_type": "markdown",
   "id": "2f6e6ef1",
   "metadata": {
    "papermill": {
     "duration": 0.030455,
     "end_time": "2024-04-30T14:36:13.626449",
     "exception": false,
     "start_time": "2024-04-30T14:36:13.595994",
     "status": "completed"
    },
    "tags": []
   },
   "source": [
    "## 2.3 Integrando Base de Dados"
   ]
  },
  {
   "cell_type": "markdown",
   "id": "31135794",
   "metadata": {
    "papermill": {
     "duration": 0.027551,
     "end_time": "2024-04-30T14:36:13.681924",
     "exception": false,
     "start_time": "2024-04-30T14:36:13.654373",
     "status": "completed"
    },
    "tags": []
   },
   "source": [
    "Agora que a variável de resposta foi criada, vamos integrar os dois conjuntos de dados em um só para começar o treinamento do modelo."
   ]
  },
  {
   "cell_type": "code",
   "execution_count": 23,
   "id": "b92d69b7",
   "metadata": {
    "execution": {
     "iopub.execute_input": "2024-04-30T14:36:13.740256Z",
     "iopub.status.busy": "2024-04-30T14:36:13.739861Z",
     "iopub.status.idle": "2024-04-30T14:36:13.762360Z",
     "shell.execute_reply": "2024-04-30T14:36:13.760959Z"
    },
    "papermill": {
     "duration": 0.054638,
     "end_time": "2024-04-30T14:36:13.765179",
     "exception": false,
     "start_time": "2024-04-30T14:36:13.710541",
     "status": "completed"
    },
    "tags": []
   },
   "outputs": [
    {
     "data": {
      "text/html": [
       "<div>\n",
       "<style scoped>\n",
       "    .dataframe tbody tr th:only-of-type {\n",
       "        vertical-align: middle;\n",
       "    }\n",
       "\n",
       "    .dataframe tbody tr th {\n",
       "        vertical-align: top;\n",
       "    }\n",
       "\n",
       "    .dataframe thead th {\n",
       "        text-align: right;\n",
       "    }\n",
       "</style>\n",
       "<table border=\"1\" class=\"dataframe\">\n",
       "  <thead>\n",
       "    <tr style=\"text-align: right;\">\n",
       "      <th></th>\n",
       "      <th>DEFAULT</th>\n",
       "      <th>ID</th>\n",
       "    </tr>\n",
       "  </thead>\n",
       "  <tbody>\n",
       "    <tr>\n",
       "      <th>0</th>\n",
       "      <td>0.0</td>\n",
       "      <td>5008806</td>\n",
       "    </tr>\n",
       "    <tr>\n",
       "      <th>1</th>\n",
       "      <td>NaN</td>\n",
       "      <td>5008808</td>\n",
       "    </tr>\n",
       "    <tr>\n",
       "      <th>2</th>\n",
       "      <td>NaN</td>\n",
       "      <td>5008809</td>\n",
       "    </tr>\n",
       "    <tr>\n",
       "      <th>3</th>\n",
       "      <td>NaN</td>\n",
       "      <td>5008810</td>\n",
       "    </tr>\n",
       "    <tr>\n",
       "      <th>4</th>\n",
       "      <td>0.0</td>\n",
       "      <td>5008811</td>\n",
       "    </tr>\n",
       "  </tbody>\n",
       "</table>\n",
       "</div>"
      ],
      "text/plain": [
       "   DEFAULT       ID\n",
       "0      0.0  5008806\n",
       "1      NaN  5008808\n",
       "2      NaN  5008809\n",
       "3      NaN  5008810\n",
       "4      0.0  5008811"
      ]
     },
     "execution_count": 23,
     "metadata": {},
     "output_type": "execute_result"
    }
   ],
   "source": [
    "# Cria uma nova coluna DEFAULT com valores vazios\n",
    "apr['DEFAULT'] = np.nan\n",
    "\n",
    "# Cria um vetor booleano com os indíces que pertencem ao dataframe 'grouped' dentro de 'apr'\n",
    "vector = apr['ID'].isin(grouped.index)\n",
    "\n",
    "# Preenche a coluna DEFAULT com o valor 0 para todos os valores no vetor booleano\n",
    "apr.loc[vector, 'DEFAULT'] = 0\n",
    "\n",
    "# Visualiza\n",
    "apr[['DEFAULT', 'ID']].head(5)"
   ]
  },
  {
   "cell_type": "code",
   "execution_count": 24,
   "id": "353b9300",
   "metadata": {
    "execution": {
     "iopub.execute_input": "2024-04-30T14:36:13.826246Z",
     "iopub.status.busy": "2024-04-30T14:36:13.825800Z",
     "iopub.status.idle": "2024-04-30T14:36:13.844895Z",
     "shell.execute_reply": "2024-04-30T14:36:13.843781Z"
    },
    "papermill": {
     "duration": 0.051601,
     "end_time": "2024-04-30T14:36:13.847404",
     "exception": false,
     "start_time": "2024-04-30T14:36:13.795803",
     "status": "completed"
    },
    "tags": []
   },
   "outputs": [
    {
     "data": {
      "text/html": [
       "<div>\n",
       "<style scoped>\n",
       "    .dataframe tbody tr th:only-of-type {\n",
       "        vertical-align: middle;\n",
       "    }\n",
       "\n",
       "    .dataframe tbody tr th {\n",
       "        vertical-align: top;\n",
       "    }\n",
       "\n",
       "    .dataframe thead th {\n",
       "        text-align: right;\n",
       "    }\n",
       "</style>\n",
       "<table border=\"1\" class=\"dataframe\">\n",
       "  <thead>\n",
       "    <tr style=\"text-align: right;\">\n",
       "      <th></th>\n",
       "      <th>DEFAULT</th>\n",
       "      <th>ID</th>\n",
       "    </tr>\n",
       "  </thead>\n",
       "  <tbody>\n",
       "    <tr>\n",
       "      <th>0</th>\n",
       "      <td>0</td>\n",
       "      <td>5008806</td>\n",
       "    </tr>\n",
       "    <tr>\n",
       "      <th>4</th>\n",
       "      <td>0</td>\n",
       "      <td>5008811</td>\n",
       "    </tr>\n",
       "    <tr>\n",
       "      <th>6</th>\n",
       "      <td>1</td>\n",
       "      <td>5112956</td>\n",
       "    </tr>\n",
       "    <tr>\n",
       "      <th>15</th>\n",
       "      <td>1</td>\n",
       "      <td>5008826</td>\n",
       "    </tr>\n",
       "    <tr>\n",
       "      <th>16</th>\n",
       "      <td>1</td>\n",
       "      <td>5008830</td>\n",
       "    </tr>\n",
       "  </tbody>\n",
       "</table>\n",
       "</div>"
      ],
      "text/plain": [
       "    DEFAULT       ID\n",
       "0         0  5008806\n",
       "4         0  5008811\n",
       "6         1  5112956\n",
       "15        1  5008826\n",
       "16        1  5008830"
      ]
     },
     "execution_count": 24,
     "metadata": {},
     "output_type": "execute_result"
    }
   ],
   "source": [
    "# Cria um subconjunto com os valores de DEFAULT não nulos de 'apr' e pega apenas as colunas DEFAULT e ID\n",
    "subset = apr[apr['DEFAULT'] == 0.0][['DEFAULT', 'ID']]\n",
    "\n",
    "# Cria uma serie com os valores DEFAULT de 'grouped' dos indíces correspondentes\n",
    "defaults = grouped.loc[subset['ID'], 'DEFAULT']\n",
    "\n",
    "# Mapeia o subconjunto com os valores de defaults correspondentes aos ID de 'grouped'\n",
    "subset['DEFAULT'] = subset['ID'].map(defaults)\n",
    "subset.head(5)"
   ]
  },
  {
   "cell_type": "code",
   "execution_count": 25,
   "id": "6b89cac5",
   "metadata": {
    "execution": {
     "iopub.execute_input": "2024-04-30T14:36:13.906581Z",
     "iopub.status.busy": "2024-04-30T14:36:13.906155Z",
     "iopub.status.idle": "2024-04-30T14:36:13.919118Z",
     "shell.execute_reply": "2024-04-30T14:36:13.917956Z"
    },
    "papermill": {
     "duration": 0.045037,
     "end_time": "2024-04-30T14:36:13.921461",
     "exception": false,
     "start_time": "2024-04-30T14:36:13.876424",
     "status": "completed"
    },
    "tags": []
   },
   "outputs": [
    {
     "data": {
      "text/plain": [
       "DEFAULT\n",
       "0.0    4275\n",
       "1.0    2057\n",
       "Name: count, dtype: int64"
      ]
     },
     "execution_count": 25,
     "metadata": {},
     "output_type": "execute_result"
    }
   ],
   "source": [
    "# Integra o subconjunto de volta ao dataframe original\n",
    "apr.loc[subset.index, 'DEFAULT'] = subset['DEFAULT']\n",
    "apr['DEFAULT'].value_counts()"
   ]
  },
  {
   "cell_type": "markdown",
   "id": "711816cd",
   "metadata": {
    "papermill": {
     "duration": 0.029055,
     "end_time": "2024-04-30T14:36:13.978390",
     "exception": false,
     "start_time": "2024-04-30T14:36:13.949335",
     "status": "completed"
    },
    "tags": []
   },
   "source": [
    "# 3. Treinando o Modelo"
   ]
  },
  {
   "cell_type": "markdown",
   "id": "4aedcd32",
   "metadata": {
    "papermill": {
     "duration": 0.029207,
     "end_time": "2024-04-30T14:36:14.037009",
     "exception": false,
     "start_time": "2024-04-30T14:36:14.007802",
     "status": "completed"
    },
    "tags": []
   },
   "source": [
    "Com todas as etapas de preparação concluídas, vamos dar inicio ao treinamento do modelo de árvore de decisão."
   ]
  },
  {
   "cell_type": "markdown",
   "id": "c77bf255",
   "metadata": {
    "papermill": {
     "duration": 0.027888,
     "end_time": "2024-04-30T14:36:14.096153",
     "exception": false,
     "start_time": "2024-04-30T14:36:14.068265",
     "status": "completed"
    },
    "tags": []
   },
   "source": [
    "## 3.1 Preparando Dados"
   ]
  },
  {
   "cell_type": "markdown",
   "id": "7ea299a8",
   "metadata": {
    "papermill": {
     "duration": 0.028858,
     "end_time": "2024-04-30T14:36:14.154542",
     "exception": false,
     "start_time": "2024-04-30T14:36:14.125684",
     "status": "completed"
    },
    "tags": []
   },
   "source": [
    "Vamos eliminar quaisquer linhas vazias, nesse caso, linhas no conjunto de dados original que não possuí uma correspondência dentro do conjunto de dados de registro de crédito."
   ]
  },
  {
   "cell_type": "code",
   "execution_count": 26,
   "id": "bcb9a4d2",
   "metadata": {
    "execution": {
     "iopub.execute_input": "2024-04-30T14:36:14.215144Z",
     "iopub.status.busy": "2024-04-30T14:36:14.214767Z",
     "iopub.status.idle": "2024-04-30T14:36:14.237985Z",
     "shell.execute_reply": "2024-04-30T14:36:14.236743Z"
    },
    "papermill": {
     "duration": 0.05703,
     "end_time": "2024-04-30T14:36:14.240605",
     "exception": false,
     "start_time": "2024-04-30T14:36:14.183575",
     "status": "completed"
    },
    "tags": []
   },
   "outputs": [
    {
     "name": "stdout",
     "output_type": "stream",
     "text": [
      "Foi removido 297999 linhas vazias.\n"
     ]
    }
   ],
   "source": [
    "before, _ = apr.shape\n",
    "apr.dropna(inplace=True)\n",
    "after, _ = apr.shape\n",
    "apr['DEFAULT'] = apr['DEFAULT'].astype(np.int64)\n",
    "print(f'Foi removido {before-after} linhas vazias.')"
   ]
  },
  {
   "cell_type": "markdown",
   "id": "b4412836",
   "metadata": {
    "papermill": {
     "duration": 0.02998,
     "end_time": "2024-04-30T14:36:14.301576",
     "exception": false,
     "start_time": "2024-04-30T14:36:14.271596",
     "status": "completed"
    },
    "tags": []
   },
   "source": [
    "Como a coluna ID não é uma informação útil para o treinamento do modelo, vamos nos livrar dela."
   ]
  },
  {
   "cell_type": "code",
   "execution_count": 27,
   "id": "a04f5d87",
   "metadata": {
    "execution": {
     "iopub.execute_input": "2024-04-30T14:36:14.363353Z",
     "iopub.status.busy": "2024-04-30T14:36:14.362936Z",
     "iopub.status.idle": "2024-04-30T14:36:14.386974Z",
     "shell.execute_reply": "2024-04-30T14:36:14.385631Z"
    },
    "papermill": {
     "duration": 0.056693,
     "end_time": "2024-04-30T14:36:14.389828",
     "exception": false,
     "start_time": "2024-04-30T14:36:14.333135",
     "status": "completed"
    },
    "tags": []
   },
   "outputs": [
    {
     "data": {
      "text/html": [
       "<div>\n",
       "<style scoped>\n",
       "    .dataframe tbody tr th:only-of-type {\n",
       "        vertical-align: middle;\n",
       "    }\n",
       "\n",
       "    .dataframe tbody tr th {\n",
       "        vertical-align: top;\n",
       "    }\n",
       "\n",
       "    .dataframe thead th {\n",
       "        text-align: right;\n",
       "    }\n",
       "</style>\n",
       "<table border=\"1\" class=\"dataframe\">\n",
       "  <thead>\n",
       "    <tr style=\"text-align: right;\">\n",
       "      <th></th>\n",
       "      <th>CODE_GENDER</th>\n",
       "      <th>FLAG_OWN_CAR</th>\n",
       "      <th>FLAG_OWN_REALTY</th>\n",
       "      <th>CNT_CHILDREN</th>\n",
       "      <th>AMT_INCOME_TOTAL</th>\n",
       "      <th>DAYS_BIRTH</th>\n",
       "      <th>DAYS_EMPLOYED</th>\n",
       "      <th>FLAG_MOBIL</th>\n",
       "      <th>FLAG_WORK_PHONE</th>\n",
       "      <th>FLAG_PHONE</th>\n",
       "      <th>...</th>\n",
       "      <th>OCCUPATION_TYPE_Low-skill Laborers</th>\n",
       "      <th>OCCUPATION_TYPE_Managers</th>\n",
       "      <th>OCCUPATION_TYPE_Medicine staff</th>\n",
       "      <th>OCCUPATION_TYPE_Private service staff</th>\n",
       "      <th>OCCUPATION_TYPE_Realty agents</th>\n",
       "      <th>OCCUPATION_TYPE_Sales staff</th>\n",
       "      <th>OCCUPATION_TYPE_Secretaries</th>\n",
       "      <th>OCCUPATION_TYPE_Security staff</th>\n",
       "      <th>OCCUPATION_TYPE_Waiters/barmen staff</th>\n",
       "      <th>DEFAULT</th>\n",
       "    </tr>\n",
       "  </thead>\n",
       "  <tbody>\n",
       "    <tr>\n",
       "      <th>0</th>\n",
       "      <td>0</td>\n",
       "      <td>1</td>\n",
       "      <td>1</td>\n",
       "      <td>0</td>\n",
       "      <td>112500.0</td>\n",
       "      <td>-21474</td>\n",
       "      <td>-1134</td>\n",
       "      <td>1</td>\n",
       "      <td>0</td>\n",
       "      <td>0</td>\n",
       "      <td>...</td>\n",
       "      <td>0</td>\n",
       "      <td>0</td>\n",
       "      <td>0</td>\n",
       "      <td>0</td>\n",
       "      <td>0</td>\n",
       "      <td>0</td>\n",
       "      <td>0</td>\n",
       "      <td>1</td>\n",
       "      <td>0</td>\n",
       "      <td>0</td>\n",
       "    </tr>\n",
       "    <tr>\n",
       "      <th>4</th>\n",
       "      <td>1</td>\n",
       "      <td>0</td>\n",
       "      <td>1</td>\n",
       "      <td>0</td>\n",
       "      <td>270000.0</td>\n",
       "      <td>-19110</td>\n",
       "      <td>-3051</td>\n",
       "      <td>1</td>\n",
       "      <td>0</td>\n",
       "      <td>1</td>\n",
       "      <td>...</td>\n",
       "      <td>0</td>\n",
       "      <td>0</td>\n",
       "      <td>0</td>\n",
       "      <td>0</td>\n",
       "      <td>0</td>\n",
       "      <td>1</td>\n",
       "      <td>0</td>\n",
       "      <td>0</td>\n",
       "      <td>0</td>\n",
       "      <td>0</td>\n",
       "    </tr>\n",
       "    <tr>\n",
       "      <th>6</th>\n",
       "      <td>0</td>\n",
       "      <td>1</td>\n",
       "      <td>1</td>\n",
       "      <td>0</td>\n",
       "      <td>270000.0</td>\n",
       "      <td>-16872</td>\n",
       "      <td>-769</td>\n",
       "      <td>1</td>\n",
       "      <td>1</td>\n",
       "      <td>1</td>\n",
       "      <td>...</td>\n",
       "      <td>0</td>\n",
       "      <td>0</td>\n",
       "      <td>0</td>\n",
       "      <td>0</td>\n",
       "      <td>0</td>\n",
       "      <td>0</td>\n",
       "      <td>0</td>\n",
       "      <td>0</td>\n",
       "      <td>0</td>\n",
       "      <td>1</td>\n",
       "    </tr>\n",
       "    <tr>\n",
       "      <th>15</th>\n",
       "      <td>1</td>\n",
       "      <td>1</td>\n",
       "      <td>0</td>\n",
       "      <td>0</td>\n",
       "      <td>130500.0</td>\n",
       "      <td>-10669</td>\n",
       "      <td>-1103</td>\n",
       "      <td>1</td>\n",
       "      <td>0</td>\n",
       "      <td>0</td>\n",
       "      <td>...</td>\n",
       "      <td>0</td>\n",
       "      <td>0</td>\n",
       "      <td>0</td>\n",
       "      <td>0</td>\n",
       "      <td>0</td>\n",
       "      <td>0</td>\n",
       "      <td>0</td>\n",
       "      <td>0</td>\n",
       "      <td>0</td>\n",
       "      <td>1</td>\n",
       "    </tr>\n",
       "    <tr>\n",
       "      <th>16</th>\n",
       "      <td>1</td>\n",
       "      <td>0</td>\n",
       "      <td>1</td>\n",
       "      <td>0</td>\n",
       "      <td>157500.0</td>\n",
       "      <td>-10031</td>\n",
       "      <td>-1469</td>\n",
       "      <td>1</td>\n",
       "      <td>0</td>\n",
       "      <td>1</td>\n",
       "      <td>...</td>\n",
       "      <td>0</td>\n",
       "      <td>0</td>\n",
       "      <td>0</td>\n",
       "      <td>0</td>\n",
       "      <td>0</td>\n",
       "      <td>0</td>\n",
       "      <td>0</td>\n",
       "      <td>0</td>\n",
       "      <td>0</td>\n",
       "      <td>1</td>\n",
       "    </tr>\n",
       "  </tbody>\n",
       "</table>\n",
       "<p>5 rows × 52 columns</p>\n",
       "</div>"
      ],
      "text/plain": [
       "    CODE_GENDER  FLAG_OWN_CAR  FLAG_OWN_REALTY  CNT_CHILDREN  \\\n",
       "0             0             1                1             0   \n",
       "4             1             0                1             0   \n",
       "6             0             1                1             0   \n",
       "15            1             1                0             0   \n",
       "16            1             0                1             0   \n",
       "\n",
       "    AMT_INCOME_TOTAL  DAYS_BIRTH  DAYS_EMPLOYED  FLAG_MOBIL  FLAG_WORK_PHONE  \\\n",
       "0           112500.0      -21474          -1134           1                0   \n",
       "4           270000.0      -19110          -3051           1                0   \n",
       "6           270000.0      -16872           -769           1                1   \n",
       "15          130500.0      -10669          -1103           1                0   \n",
       "16          157500.0      -10031          -1469           1                0   \n",
       "\n",
       "    FLAG_PHONE  ...  OCCUPATION_TYPE_Low-skill Laborers  \\\n",
       "0            0  ...                                   0   \n",
       "4            1  ...                                   0   \n",
       "6            1  ...                                   0   \n",
       "15           0  ...                                   0   \n",
       "16           1  ...                                   0   \n",
       "\n",
       "    OCCUPATION_TYPE_Managers  OCCUPATION_TYPE_Medicine staff  \\\n",
       "0                          0                               0   \n",
       "4                          0                               0   \n",
       "6                          0                               0   \n",
       "15                         0                               0   \n",
       "16                         0                               0   \n",
       "\n",
       "    OCCUPATION_TYPE_Private service staff  OCCUPATION_TYPE_Realty agents  \\\n",
       "0                                       0                              0   \n",
       "4                                       0                              0   \n",
       "6                                       0                              0   \n",
       "15                                      0                              0   \n",
       "16                                      0                              0   \n",
       "\n",
       "    OCCUPATION_TYPE_Sales staff  OCCUPATION_TYPE_Secretaries  \\\n",
       "0                             0                            0   \n",
       "4                             1                            0   \n",
       "6                             0                            0   \n",
       "15                            0                            0   \n",
       "16                            0                            0   \n",
       "\n",
       "    OCCUPATION_TYPE_Security staff  OCCUPATION_TYPE_Waiters/barmen staff  \\\n",
       "0                                1                                     0   \n",
       "4                                0                                     0   \n",
       "6                                0                                     0   \n",
       "15                               0                                     0   \n",
       "16                               0                                     0   \n",
       "\n",
       "    DEFAULT  \n",
       "0         0  \n",
       "4         0  \n",
       "6         1  \n",
       "15        1  \n",
       "16        1  \n",
       "\n",
       "[5 rows x 52 columns]"
      ]
     },
     "execution_count": 27,
     "metadata": {},
     "output_type": "execute_result"
    }
   ],
   "source": [
    "apr.drop('ID', inplace=True, axis=1)\n",
    "apr.head(5)"
   ]
  },
  {
   "cell_type": "markdown",
   "id": "6a0c057f",
   "metadata": {
    "papermill": {
     "duration": 0.029623,
     "end_time": "2024-04-30T14:36:14.449660",
     "exception": false,
     "start_time": "2024-04-30T14:36:14.420037",
     "status": "completed"
    },
    "tags": []
   },
   "source": [
    "Antes de treinar o modelo, vamos observar a distribuição das observações de **maus pagadores** e **bons pagadores** dentro do conjunto de dados."
   ]
  },
  {
   "cell_type": "code",
   "execution_count": 28,
   "id": "68ea8469",
   "metadata": {
    "execution": {
     "iopub.execute_input": "2024-04-30T14:36:14.510076Z",
     "iopub.status.busy": "2024-04-30T14:36:14.509666Z",
     "iopub.status.idle": "2024-04-30T14:36:14.519613Z",
     "shell.execute_reply": "2024-04-30T14:36:14.518392Z"
    },
    "papermill": {
     "duration": 0.044236,
     "end_time": "2024-04-30T14:36:14.522463",
     "exception": false,
     "start_time": "2024-04-30T14:36:14.478227",
     "status": "completed"
    },
    "tags": []
   },
   "outputs": [
    {
     "data": {
      "text/plain": [
       "DEFAULT\n",
       "0    67.514214\n",
       "1    32.485786\n",
       "Name: count, dtype: float64"
      ]
     },
     "execution_count": 28,
     "metadata": {},
     "output_type": "execute_result"
    }
   ],
   "source": [
    "apr['DEFAULT'].value_counts() / apr['DEFAULT'].shape * 100"
   ]
  },
  {
   "cell_type": "markdown",
   "id": "dc09c76a",
   "metadata": {
    "papermill": {
     "duration": 0.030502,
     "end_time": "2024-04-30T14:36:14.582212",
     "exception": false,
     "start_time": "2024-04-30T14:36:14.551710",
     "status": "completed"
    },
    "tags": []
   },
   "source": [
    "É possível notar que existem mais **bons pagadores** no nosso conjunto de dados do que **maus pagadores**."
   ]
  },
  {
   "cell_type": "markdown",
   "id": "567b7523",
   "metadata": {
    "papermill": {
     "duration": 0.030088,
     "end_time": "2024-04-30T14:36:14.642638",
     "exception": false,
     "start_time": "2024-04-30T14:36:14.612550",
     "status": "completed"
    },
    "tags": []
   },
   "source": [
    "## 3.2 Treinamento com Todas as Variáveis"
   ]
  },
  {
   "cell_type": "markdown",
   "id": "b98ff55c",
   "metadata": {
    "papermill": {
     "duration": 0.029159,
     "end_time": "2024-04-30T14:36:14.701853",
     "exception": false,
     "start_time": "2024-04-30T14:36:14.672694",
     "status": "completed"
    },
    "tags": []
   },
   "source": [
    "Primeiro, vamos tentar criar um modelo utilizando todas as variáveis do conjunto de dados."
   ]
  },
  {
   "cell_type": "code",
   "execution_count": 29,
   "id": "2d893ebe",
   "metadata": {
    "_kg_hide-input": false,
    "execution": {
     "iopub.execute_input": "2024-04-30T14:36:14.763617Z",
     "iopub.status.busy": "2024-04-30T14:36:14.763191Z",
     "iopub.status.idle": "2024-04-30T14:36:15.331826Z",
     "shell.execute_reply": "2024-04-30T14:36:15.330197Z"
    },
    "papermill": {
     "duration": 0.602681,
     "end_time": "2024-04-30T14:36:15.334247",
     "exception": false,
     "start_time": "2024-04-30T14:36:14.731566",
     "status": "completed"
    },
    "tags": []
   },
   "outputs": [
    {
     "data": {
      "text/plain": [
       "[Text(0.6, 0.875, 'DAYS_BIRTH <= -12294.5\\ngini = 0.439\\nsamples = 4432\\nvalue = [2987, 1445]\\nclass = Aprovado'),\n",
       " Text(0.4, 0.625, 'AMT_INCOME_TOTAL <= 146250.0\\ngini = 0.451\\nsamples = 3415\\nvalue = [2244, 1171]\\nclass = Aprovado'),\n",
       " Text(0.2, 0.375, 'gini = 0.422\\nsamples = 1195\\nvalue = [833, 362]\\nclass = Aprovado'),\n",
       " Text(0.6, 0.375, 'NAME_INCOME_TYPE_Working <= 0.5\\ngini = 0.463\\nsamples = 2220\\nvalue = [1411, 809]\\nclass = Aprovado'),\n",
       " Text(0.4, 0.125, 'gini = 0.478\\nsamples = 879\\nvalue = [532, 347]\\nclass = Aprovado'),\n",
       " Text(0.8, 0.125, 'gini = 0.452\\nsamples = 1341\\nvalue = [879, 462]\\nclass = Aprovado'),\n",
       " Text(0.8, 0.625, 'gini = 0.394\\nsamples = 1017\\nvalue = [743, 274]\\nclass = Aprovado')]"
      ]
     },
     "execution_count": 29,
     "metadata": {},
     "output_type": "execute_result"
    },
    {
     "data": {
      "image/png": "[encoded data removed]",
      "text/plain": [
       "<Figure size 640x480 with 1 Axes>"
      ]
     },
     "metadata": {},
     "output_type": "display_data"
    }
   ],
   "source": [
    "# Criando árvore de decisão\n",
    "clf = DecisionTreeClassifier(random_state=100, \n",
    "                             criterion=\"gini\", \n",
    "                             splitter=\"best\", \n",
    "                             max_depth=5, \n",
    "                             min_samples_split=600,\n",
    "                             min_samples_leaf=800)\n",
    "\n",
    "# Dividindo conjunto de dados em X e Y\n",
    "features = apr.loc[:, apr.columns != 'DEFAULT']\n",
    "target = apr['DEFAULT']\n",
    "\n",
    "# Subdividindo conjunto de dados em dados para treino e teste\n",
    "x_train, x_test, y_train, y_test = train_test_split(features, target, test_size=0.3)\n",
    "\n",
    "# Treinando o modelo\n",
    "clf.fit(x_train, y_train)\n",
    "\n",
    "# Visualizando a árvore\n",
    "plot_tree(clf, filled=True, feature_names=apr.columns, class_names=['Aprovado', 'Reprovado'])"
   ]
  },
  {
   "cell_type": "code",
   "execution_count": 30,
   "id": "fef40237",
   "metadata": {
    "execution": {
     "iopub.execute_input": "2024-04-30T14:36:15.396490Z",
     "iopub.status.busy": "2024-04-30T14:36:15.396043Z",
     "iopub.status.idle": "2024-04-30T14:36:15.749845Z",
     "shell.execute_reply": "2024-04-30T14:36:15.748595Z"
    },
    "papermill": {
     "duration": 0.387651,
     "end_time": "2024-04-30T14:36:15.752713",
     "exception": false,
     "start_time": "2024-04-30T14:36:15.365062",
     "status": "completed"
    },
    "tags": []
   },
   "outputs": [
    {
     "data": {
      "image/png": "[encoded data removed]",
      "text/plain": [
       "<Figure size 800x600 with 2 Axes>"
      ]
     },
     "metadata": {},
     "output_type": "display_data"
    }
   ],
   "source": [
    "# Criando previsões\n",
    "y_pred = clf.predict(x_test)\n",
    "\n",
    "# Criando matriz de confusão\n",
    "cm = confusion_matrix(y_test, y_pred)\n",
    "\n",
    "# Visualizando matriz de confusão\n",
    "classes = ['Aprovado \\n(DEFAULT=0)', 'Reprovado \\n(DEFAULT=1)']\n",
    "plt.figure(figsize=(8, 6))\n",
    "sns.heatmap(cm, annot=True, fmt='d', cmap='Blues', xticklabels=classes, yticklabels=classes)\n",
    "plt.xlabel('Valor Previsto')\n",
    "plt.ylabel('Valor Real')\n",
    "plt.title('Matriz de Confusão')\n",
    "plt.show()"
   ]
  },
  {
   "cell_type": "code",
   "execution_count": 31,
   "id": "102197dc",
   "metadata": {
    "execution": {
     "iopub.execute_input": "2024-04-30T14:36:15.817964Z",
     "iopub.status.busy": "2024-04-30T14:36:15.817537Z",
     "iopub.status.idle": "2024-04-30T14:36:15.826396Z",
     "shell.execute_reply": "2024-04-30T14:36:15.824605Z"
    },
    "papermill": {
     "duration": 0.044961,
     "end_time": "2024-04-30T14:36:15.828961",
     "exception": false,
     "start_time": "2024-04-30T14:36:15.784000",
     "status": "completed"
    },
    "tags": []
   },
   "outputs": [
    {
     "name": "stdout",
     "output_type": "stream",
     "text": [
      "A acurácia do modelo treinado com todas as variáveis é de 67.79%\n"
     ]
    }
   ],
   "source": [
    "ac_allv = accuracy_score(y_test, y_pred) * 100\n",
    "print(f'A acurácia do modelo treinado com todas as variáveis é de {ac_allv:.2f}%')"
   ]
  },
  {
   "cell_type": "markdown",
   "id": "fe9f22f1",
   "metadata": {
    "papermill": {
     "duration": 0.034423,
     "end_time": "2024-04-30T14:36:15.895222",
     "exception": false,
     "start_time": "2024-04-30T14:36:15.860799",
     "status": "completed"
    },
    "tags": []
   },
   "source": [
    "## 3.3 Treinando o Modelo com Apenas Variáveis Contínuas"
   ]
  },
  {
   "cell_type": "markdown",
   "id": "a06c7a3b",
   "metadata": {
    "papermill": {
     "duration": 0.031386,
     "end_time": "2024-04-30T14:36:15.958593",
     "exception": false,
     "start_time": "2024-04-30T14:36:15.927207",
     "status": "completed"
    },
    "tags": []
   },
   "source": [
    "Agora vamos tentar criar um modelo que utiliza apenas valores contínuos."
   ]
  },
  {
   "cell_type": "code",
   "execution_count": 32,
   "id": "62b8d241",
   "metadata": {
    "execution": {
     "iopub.execute_input": "2024-04-30T14:36:16.023679Z",
     "iopub.status.busy": "2024-04-30T14:36:16.023226Z",
     "iopub.status.idle": "2024-04-30T14:36:16.045825Z",
     "shell.execute_reply": "2024-04-30T14:36:16.044921Z"
    },
    "papermill": {
     "duration": 0.058734,
     "end_time": "2024-04-30T14:36:16.048250",
     "exception": false,
     "start_time": "2024-04-30T14:36:15.989516",
     "status": "completed"
    },
    "tags": []
   },
   "outputs": [
    {
     "data": {
      "text/html": [
       "<div>\n",
       "<style scoped>\n",
       "    .dataframe tbody tr th:only-of-type {\n",
       "        vertical-align: middle;\n",
       "    }\n",
       "\n",
       "    .dataframe tbody tr th {\n",
       "        vertical-align: top;\n",
       "    }\n",
       "\n",
       "    .dataframe thead th {\n",
       "        text-align: right;\n",
       "    }\n",
       "</style>\n",
       "<table border=\"1\" class=\"dataframe\">\n",
       "  <thead>\n",
       "    <tr style=\"text-align: right;\">\n",
       "      <th></th>\n",
       "      <th>CNT_CHILDREN</th>\n",
       "      <th>AMT_INCOME_TOTAL</th>\n",
       "      <th>DAYS_BIRTH</th>\n",
       "      <th>DAYS_EMPLOYED</th>\n",
       "      <th>CNT_FAM_MEMBERS</th>\n",
       "      <th>DEFAULT</th>\n",
       "    </tr>\n",
       "  </thead>\n",
       "  <tbody>\n",
       "    <tr>\n",
       "      <th>0</th>\n",
       "      <td>0</td>\n",
       "      <td>112500.0</td>\n",
       "      <td>-21474</td>\n",
       "      <td>-1134</td>\n",
       "      <td>2</td>\n",
       "      <td>0</td>\n",
       "    </tr>\n",
       "    <tr>\n",
       "      <th>4</th>\n",
       "      <td>0</td>\n",
       "      <td>270000.0</td>\n",
       "      <td>-19110</td>\n",
       "      <td>-3051</td>\n",
       "      <td>1</td>\n",
       "      <td>0</td>\n",
       "    </tr>\n",
       "    <tr>\n",
       "      <th>6</th>\n",
       "      <td>0</td>\n",
       "      <td>270000.0</td>\n",
       "      <td>-16872</td>\n",
       "      <td>-769</td>\n",
       "      <td>2</td>\n",
       "      <td>1</td>\n",
       "    </tr>\n",
       "    <tr>\n",
       "      <th>15</th>\n",
       "      <td>0</td>\n",
       "      <td>130500.0</td>\n",
       "      <td>-10669</td>\n",
       "      <td>-1103</td>\n",
       "      <td>2</td>\n",
       "      <td>1</td>\n",
       "    </tr>\n",
       "    <tr>\n",
       "      <th>16</th>\n",
       "      <td>0</td>\n",
       "      <td>157500.0</td>\n",
       "      <td>-10031</td>\n",
       "      <td>-1469</td>\n",
       "      <td>2</td>\n",
       "      <td>1</td>\n",
       "    </tr>\n",
       "  </tbody>\n",
       "</table>\n",
       "</div>"
      ],
      "text/plain": [
       "    CNT_CHILDREN  AMT_INCOME_TOTAL  DAYS_BIRTH  DAYS_EMPLOYED  \\\n",
       "0              0          112500.0      -21474          -1134   \n",
       "4              0          270000.0      -19110          -3051   \n",
       "6              0          270000.0      -16872           -769   \n",
       "15             0          130500.0      -10669          -1103   \n",
       "16             0          157500.0      -10031          -1469   \n",
       "\n",
       "    CNT_FAM_MEMBERS  DEFAULT  \n",
       "0                 2        0  \n",
       "4                 1        0  \n",
       "6                 2        1  \n",
       "15                2        1  \n",
       "16                2        1  "
      ]
     },
     "execution_count": 32,
     "metadata": {},
     "output_type": "execute_result"
    }
   ],
   "source": [
    "apr_c = apr.loc[:, apr[:].nunique() > 2]\n",
    "apr_c['DEFAULT'] = apr['DEFAULT']\n",
    "apr_c.head(5)"
   ]
  },
  {
   "cell_type": "code",
   "execution_count": 33,
   "id": "c2c5f57b",
   "metadata": {
    "execution": {
     "iopub.execute_input": "2024-04-30T14:36:16.113493Z",
     "iopub.status.busy": "2024-04-30T14:36:16.113003Z",
     "iopub.status.idle": "2024-04-30T14:36:16.672542Z",
     "shell.execute_reply": "2024-04-30T14:36:16.671585Z"
    },
    "papermill": {
     "duration": 0.595748,
     "end_time": "2024-04-30T14:36:16.675214",
     "exception": false,
     "start_time": "2024-04-30T14:36:16.079466",
     "status": "completed"
    },
    "tags": []
   },
   "outputs": [
    {
     "data": {
      "text/plain": [
       "[Text(0.6666666666666666, 0.875, 'DAYS_BIRTH <= -12294.5\\ngini = 0.442\\nsamples = 4432\\nvalue = [2970, 1462]\\nclass = Aprovado'),\n",
       " Text(0.5, 0.625, 'AMT_INCOME_TOTAL <= 191475.0\\ngini = 0.454\\nsamples = 3395\\nvalue = [2215, 1180]\\nclass = Aprovado'),\n",
       " Text(0.3333333333333333, 0.375, 'DAYS_EMPLOYED <= -2379.5\\ngini = 0.436\\nsamples = 1949\\nvalue = [1324, 625]\\nclass = Aprovado'),\n",
       " Text(0.16666666666666666, 0.125, 'gini = 0.413\\nsamples = 1034\\nvalue = [733, 301]\\nclass = Aprovado'),\n",
       " Text(0.5, 0.125, 'gini = 0.457\\nsamples = 915\\nvalue = [591, 324]\\nclass = Aprovado'),\n",
       " Text(0.6666666666666666, 0.375, 'gini = 0.473\\nsamples = 1446\\nvalue = [891, 555]\\nclass = Aprovado'),\n",
       " Text(0.8333333333333334, 0.625, 'gini = 0.396\\nsamples = 1037\\nvalue = [755, 282]\\nclass = Aprovado')]"
      ]
     },
     "execution_count": 33,
     "metadata": {},
     "output_type": "execute_result"
    },
    {
     "data": {
      "image/png": "[encoded data removed]",
      "text/plain": [
       "<Figure size 640x480 with 1 Axes>"
      ]
     },
     "metadata": {},
     "output_type": "display_data"
    }
   ],
   "source": [
    "# Criando árvore\n",
    "clf = DecisionTreeClassifier(random_state=100, \n",
    "                             criterion=\"gini\", \n",
    "                             splitter=\"best\", \n",
    "                             max_depth=5, \n",
    "                             min_samples_split=600,\n",
    "                             min_samples_leaf=800)\n",
    "\n",
    "# Dividindo conjunto de dados em X e Y\n",
    "features = apr_c.loc[:, apr_c.columns != 'DEFAULT']\n",
    "target = apr_c['DEFAULT']\n",
    "\n",
    "# Subdividindo conjunto de dados em dados de treino e teste\n",
    "x_train, x_test, y_train, y_test = train_test_split(features, target, test_size=0.3)\n",
    "\n",
    "# Treinando modelo\n",
    "clf.fit(x_train, y_train)\n",
    "\n",
    "# Visualizando árvore\n",
    "plot_tree(clf, filled=True, feature_names=apr_c.columns, class_names=['Aprovado', 'Reprovado'])"
   ]
  },
  {
   "cell_type": "code",
   "execution_count": 34,
   "id": "8c174f83",
   "metadata": {
    "execution": {
     "iopub.execute_input": "2024-04-30T14:36:16.741932Z",
     "iopub.status.busy": "2024-04-30T14:36:16.740883Z",
     "iopub.status.idle": "2024-04-30T14:36:17.082876Z",
     "shell.execute_reply": "2024-04-30T14:36:17.081678Z"
    },
    "papermill": {
     "duration": 0.378537,
     "end_time": "2024-04-30T14:36:17.085507",
     "exception": false,
     "start_time": "2024-04-30T14:36:16.706970",
     "status": "completed"
    },
    "tags": []
   },
   "outputs": [
    {
     "data": {
      "image/png": "[encoded data removed]",
      "text/plain": [
       "<Figure size 800x600 with 2 Axes>"
      ]
     },
     "metadata": {},
     "output_type": "display_data"
    }
   ],
   "source": [
    "# Criando previsões\n",
    "y_pred = clf.predict(x_test)\n",
    "\n",
    "# Criando matriz de confusão\n",
    "cm = confusion_matrix(y_test, y_pred)\n",
    "\n",
    "# Visualizando matriz de confusão\n",
    "classes = ['Aprovado \\n(DEFAULT=0)', 'Reprovado \\n(DEFAULT=1)']\n",
    "plt.figure(figsize=(8, 6))\n",
    "sns.heatmap(cm, annot=True, fmt='d', cmap='Blues', xticklabels=classes, yticklabels=classes)\n",
    "plt.xlabel('Valor Previsto')\n",
    "plt.ylabel('Valor Real')\n",
    "plt.title('Matriz de Confusão')\n",
    "plt.show()"
   ]
  },
  {
   "cell_type": "code",
   "execution_count": 35,
   "id": "ebff2598",
   "metadata": {
    "execution": {
     "iopub.execute_input": "2024-04-30T14:36:17.155940Z",
     "iopub.status.busy": "2024-04-30T14:36:17.155507Z",
     "iopub.status.idle": "2024-04-30T14:36:17.163175Z",
     "shell.execute_reply": "2024-04-30T14:36:17.162010Z"
    },
    "papermill": {
     "duration": 0.045908,
     "end_time": "2024-04-30T14:36:17.165641",
     "exception": false,
     "start_time": "2024-04-30T14:36:17.119733",
     "status": "completed"
    },
    "tags": []
   },
   "outputs": [
    {
     "name": "stdout",
     "output_type": "stream",
     "text": [
      "A acurácia do modelo usando apenas valores contínuos é de 68.68%\n"
     ]
    }
   ],
   "source": [
    "ac_conv = accuracy_score(y_test, y_pred) * 100\n",
    "print(f'A acurácia do modelo usando apenas valores contínuos é de {ac_conv:.2f}%')"
   ]
  },
  {
   "cell_type": "markdown",
   "id": "90479c08",
   "metadata": {
    "papermill": {
     "duration": 0.033474,
     "end_time": "2024-04-30T14:36:17.233902",
     "exception": false,
     "start_time": "2024-04-30T14:36:17.200428",
     "status": "completed"
    },
    "tags": []
   },
   "source": [
    "## 3.4 Treinando Modelo com Apenas Variáveis Discretas"
   ]
  },
  {
   "cell_type": "markdown",
   "id": "0dbbbd19",
   "metadata": {
    "papermill": {
     "duration": 0.035229,
     "end_time": "2024-04-30T14:36:17.303990",
     "exception": false,
     "start_time": "2024-04-30T14:36:17.268761",
     "status": "completed"
    },
    "tags": []
   },
   "source": [
    "Por fim, vamos criar um terceiro modelo usando apenas valores discretos."
   ]
  },
  {
   "cell_type": "code",
   "execution_count": 36,
   "id": "ecbacc40",
   "metadata": {
    "execution": {
     "iopub.execute_input": "2024-04-30T14:36:17.380888Z",
     "iopub.status.busy": "2024-04-30T14:36:17.379929Z",
     "iopub.status.idle": "2024-04-30T14:36:17.411797Z",
     "shell.execute_reply": "2024-04-30T14:36:17.410672Z"
    },
    "papermill": {
     "duration": 0.070893,
     "end_time": "2024-04-30T14:36:17.414573",
     "exception": false,
     "start_time": "2024-04-30T14:36:17.343680",
     "status": "completed"
    },
    "tags": []
   },
   "outputs": [
    {
     "data": {
      "text/html": [
       "<div>\n",
       "<style scoped>\n",
       "    .dataframe tbody tr th:only-of-type {\n",
       "        vertical-align: middle;\n",
       "    }\n",
       "\n",
       "    .dataframe tbody tr th {\n",
       "        vertical-align: top;\n",
       "    }\n",
       "\n",
       "    .dataframe thead th {\n",
       "        text-align: right;\n",
       "    }\n",
       "</style>\n",
       "<table border=\"1\" class=\"dataframe\">\n",
       "  <thead>\n",
       "    <tr style=\"text-align: right;\">\n",
       "      <th></th>\n",
       "      <th>CODE_GENDER</th>\n",
       "      <th>FLAG_OWN_CAR</th>\n",
       "      <th>FLAG_OWN_REALTY</th>\n",
       "      <th>FLAG_WORK_PHONE</th>\n",
       "      <th>FLAG_PHONE</th>\n",
       "      <th>FLAG_EMAIL</th>\n",
       "      <th>NAME_INCOME_TYPE_Commercial associate</th>\n",
       "      <th>NAME_INCOME_TYPE_Pensioner</th>\n",
       "      <th>NAME_INCOME_TYPE_State servant</th>\n",
       "      <th>NAME_INCOME_TYPE_Student</th>\n",
       "      <th>...</th>\n",
       "      <th>OCCUPATION_TYPE_Low-skill Laborers</th>\n",
       "      <th>OCCUPATION_TYPE_Managers</th>\n",
       "      <th>OCCUPATION_TYPE_Medicine staff</th>\n",
       "      <th>OCCUPATION_TYPE_Private service staff</th>\n",
       "      <th>OCCUPATION_TYPE_Realty agents</th>\n",
       "      <th>OCCUPATION_TYPE_Sales staff</th>\n",
       "      <th>OCCUPATION_TYPE_Secretaries</th>\n",
       "      <th>OCCUPATION_TYPE_Security staff</th>\n",
       "      <th>OCCUPATION_TYPE_Waiters/barmen staff</th>\n",
       "      <th>DEFAULT</th>\n",
       "    </tr>\n",
       "  </thead>\n",
       "  <tbody>\n",
       "    <tr>\n",
       "      <th>0</th>\n",
       "      <td>0</td>\n",
       "      <td>1</td>\n",
       "      <td>1</td>\n",
       "      <td>0</td>\n",
       "      <td>0</td>\n",
       "      <td>0</td>\n",
       "      <td>0</td>\n",
       "      <td>0</td>\n",
       "      <td>0</td>\n",
       "      <td>0</td>\n",
       "      <td>...</td>\n",
       "      <td>0</td>\n",
       "      <td>0</td>\n",
       "      <td>0</td>\n",
       "      <td>0</td>\n",
       "      <td>0</td>\n",
       "      <td>0</td>\n",
       "      <td>0</td>\n",
       "      <td>1</td>\n",
       "      <td>0</td>\n",
       "      <td>0</td>\n",
       "    </tr>\n",
       "    <tr>\n",
       "      <th>4</th>\n",
       "      <td>1</td>\n",
       "      <td>0</td>\n",
       "      <td>1</td>\n",
       "      <td>0</td>\n",
       "      <td>1</td>\n",
       "      <td>1</td>\n",
       "      <td>1</td>\n",
       "      <td>0</td>\n",
       "      <td>0</td>\n",
       "      <td>0</td>\n",
       "      <td>...</td>\n",
       "      <td>0</td>\n",
       "      <td>0</td>\n",
       "      <td>0</td>\n",
       "      <td>0</td>\n",
       "      <td>0</td>\n",
       "      <td>1</td>\n",
       "      <td>0</td>\n",
       "      <td>0</td>\n",
       "      <td>0</td>\n",
       "      <td>0</td>\n",
       "    </tr>\n",
       "    <tr>\n",
       "      <th>6</th>\n",
       "      <td>0</td>\n",
       "      <td>1</td>\n",
       "      <td>1</td>\n",
       "      <td>1</td>\n",
       "      <td>1</td>\n",
       "      <td>1</td>\n",
       "      <td>0</td>\n",
       "      <td>0</td>\n",
       "      <td>0</td>\n",
       "      <td>0</td>\n",
       "      <td>...</td>\n",
       "      <td>0</td>\n",
       "      <td>0</td>\n",
       "      <td>0</td>\n",
       "      <td>0</td>\n",
       "      <td>0</td>\n",
       "      <td>0</td>\n",
       "      <td>0</td>\n",
       "      <td>0</td>\n",
       "      <td>0</td>\n",
       "      <td>1</td>\n",
       "    </tr>\n",
       "    <tr>\n",
       "      <th>15</th>\n",
       "      <td>1</td>\n",
       "      <td>1</td>\n",
       "      <td>0</td>\n",
       "      <td>0</td>\n",
       "      <td>0</td>\n",
       "      <td>0</td>\n",
       "      <td>0</td>\n",
       "      <td>0</td>\n",
       "      <td>0</td>\n",
       "      <td>0</td>\n",
       "      <td>...</td>\n",
       "      <td>0</td>\n",
       "      <td>0</td>\n",
       "      <td>0</td>\n",
       "      <td>0</td>\n",
       "      <td>0</td>\n",
       "      <td>0</td>\n",
       "      <td>0</td>\n",
       "      <td>0</td>\n",
       "      <td>0</td>\n",
       "      <td>1</td>\n",
       "    </tr>\n",
       "    <tr>\n",
       "      <th>16</th>\n",
       "      <td>1</td>\n",
       "      <td>0</td>\n",
       "      <td>1</td>\n",
       "      <td>0</td>\n",
       "      <td>1</td>\n",
       "      <td>0</td>\n",
       "      <td>0</td>\n",
       "      <td>0</td>\n",
       "      <td>0</td>\n",
       "      <td>0</td>\n",
       "      <td>...</td>\n",
       "      <td>0</td>\n",
       "      <td>0</td>\n",
       "      <td>0</td>\n",
       "      <td>0</td>\n",
       "      <td>0</td>\n",
       "      <td>0</td>\n",
       "      <td>0</td>\n",
       "      <td>0</td>\n",
       "      <td>0</td>\n",
       "      <td>1</td>\n",
       "    </tr>\n",
       "    <tr>\n",
       "      <th>...</th>\n",
       "      <td>...</td>\n",
       "      <td>...</td>\n",
       "      <td>...</td>\n",
       "      <td>...</td>\n",
       "      <td>...</td>\n",
       "      <td>...</td>\n",
       "      <td>...</td>\n",
       "      <td>...</td>\n",
       "      <td>...</td>\n",
       "      <td>...</td>\n",
       "      <td>...</td>\n",
       "      <td>...</td>\n",
       "      <td>...</td>\n",
       "      <td>...</td>\n",
       "      <td>...</td>\n",
       "      <td>...</td>\n",
       "      <td>...</td>\n",
       "      <td>...</td>\n",
       "      <td>...</td>\n",
       "      <td>...</td>\n",
       "      <td>...</td>\n",
       "    </tr>\n",
       "    <tr>\n",
       "      <th>301680</th>\n",
       "      <td>0</td>\n",
       "      <td>0</td>\n",
       "      <td>0</td>\n",
       "      <td>0</td>\n",
       "      <td>0</td>\n",
       "      <td>1</td>\n",
       "      <td>0</td>\n",
       "      <td>0</td>\n",
       "      <td>0</td>\n",
       "      <td>0</td>\n",
       "      <td>...</td>\n",
       "      <td>0</td>\n",
       "      <td>0</td>\n",
       "      <td>0</td>\n",
       "      <td>0</td>\n",
       "      <td>0</td>\n",
       "      <td>0</td>\n",
       "      <td>0</td>\n",
       "      <td>0</td>\n",
       "      <td>0</td>\n",
       "      <td>1</td>\n",
       "    </tr>\n",
       "    <tr>\n",
       "      <th>301681</th>\n",
       "      <td>0</td>\n",
       "      <td>1</td>\n",
       "      <td>0</td>\n",
       "      <td>1</td>\n",
       "      <td>0</td>\n",
       "      <td>0</td>\n",
       "      <td>0</td>\n",
       "      <td>0</td>\n",
       "      <td>0</td>\n",
       "      <td>0</td>\n",
       "      <td>...</td>\n",
       "      <td>0</td>\n",
       "      <td>0</td>\n",
       "      <td>0</td>\n",
       "      <td>0</td>\n",
       "      <td>0</td>\n",
       "      <td>0</td>\n",
       "      <td>0</td>\n",
       "      <td>0</td>\n",
       "      <td>0</td>\n",
       "      <td>1</td>\n",
       "    </tr>\n",
       "    <tr>\n",
       "      <th>301685</th>\n",
       "      <td>0</td>\n",
       "      <td>1</td>\n",
       "      <td>0</td>\n",
       "      <td>1</td>\n",
       "      <td>0</td>\n",
       "      <td>0</td>\n",
       "      <td>0</td>\n",
       "      <td>0</td>\n",
       "      <td>0</td>\n",
       "      <td>0</td>\n",
       "      <td>...</td>\n",
       "      <td>0</td>\n",
       "      <td>0</td>\n",
       "      <td>0</td>\n",
       "      <td>0</td>\n",
       "      <td>0</td>\n",
       "      <td>0</td>\n",
       "      <td>0</td>\n",
       "      <td>0</td>\n",
       "      <td>0</td>\n",
       "      <td>1</td>\n",
       "    </tr>\n",
       "    <tr>\n",
       "      <th>301687</th>\n",
       "      <td>1</td>\n",
       "      <td>0</td>\n",
       "      <td>1</td>\n",
       "      <td>1</td>\n",
       "      <td>1</td>\n",
       "      <td>0</td>\n",
       "      <td>0</td>\n",
       "      <td>0</td>\n",
       "      <td>0</td>\n",
       "      <td>0</td>\n",
       "      <td>...</td>\n",
       "      <td>0</td>\n",
       "      <td>0</td>\n",
       "      <td>0</td>\n",
       "      <td>0</td>\n",
       "      <td>0</td>\n",
       "      <td>1</td>\n",
       "      <td>0</td>\n",
       "      <td>0</td>\n",
       "      <td>0</td>\n",
       "      <td>1</td>\n",
       "    </tr>\n",
       "    <tr>\n",
       "      <th>301700</th>\n",
       "      <td>1</td>\n",
       "      <td>0</td>\n",
       "      <td>1</td>\n",
       "      <td>0</td>\n",
       "      <td>1</td>\n",
       "      <td>1</td>\n",
       "      <td>0</td>\n",
       "      <td>1</td>\n",
       "      <td>0</td>\n",
       "      <td>0</td>\n",
       "      <td>...</td>\n",
       "      <td>0</td>\n",
       "      <td>0</td>\n",
       "      <td>1</td>\n",
       "      <td>0</td>\n",
       "      <td>0</td>\n",
       "      <td>0</td>\n",
       "      <td>0</td>\n",
       "      <td>0</td>\n",
       "      <td>0</td>\n",
       "      <td>1</td>\n",
       "    </tr>\n",
       "  </tbody>\n",
       "</table>\n",
       "<p>6332 rows × 46 columns</p>\n",
       "</div>"
      ],
      "text/plain": [
       "        CODE_GENDER  FLAG_OWN_CAR  FLAG_OWN_REALTY  FLAG_WORK_PHONE  \\\n",
       "0                 0             1                1                0   \n",
       "4                 1             0                1                0   \n",
       "6                 0             1                1                1   \n",
       "15                1             1                0                0   \n",
       "16                1             0                1                0   \n",
       "...             ...           ...              ...              ...   \n",
       "301680            0             0                0                0   \n",
       "301681            0             1                0                1   \n",
       "301685            0             1                0                1   \n",
       "301687            1             0                1                1   \n",
       "301700            1             0                1                0   \n",
       "\n",
       "        FLAG_PHONE  FLAG_EMAIL  NAME_INCOME_TYPE_Commercial associate  \\\n",
       "0                0           0                                      0   \n",
       "4                1           1                                      1   \n",
       "6                1           1                                      0   \n",
       "15               0           0                                      0   \n",
       "16               1           0                                      0   \n",
       "...            ...         ...                                    ...   \n",
       "301680           0           1                                      0   \n",
       "301681           0           0                                      0   \n",
       "301685           0           0                                      0   \n",
       "301687           1           0                                      0   \n",
       "301700           1           1                                      0   \n",
       "\n",
       "        NAME_INCOME_TYPE_Pensioner  NAME_INCOME_TYPE_State servant  \\\n",
       "0                                0                               0   \n",
       "4                                0                               0   \n",
       "6                                0                               0   \n",
       "15                               0                               0   \n",
       "16                               0                               0   \n",
       "...                            ...                             ...   \n",
       "301680                           0                               0   \n",
       "301681                           0                               0   \n",
       "301685                           0                               0   \n",
       "301687                           0                               0   \n",
       "301700                           1                               0   \n",
       "\n",
       "        NAME_INCOME_TYPE_Student  ...  OCCUPATION_TYPE_Low-skill Laborers  \\\n",
       "0                              0  ...                                   0   \n",
       "4                              0  ...                                   0   \n",
       "6                              0  ...                                   0   \n",
       "15                             0  ...                                   0   \n",
       "16                             0  ...                                   0   \n",
       "...                          ...  ...                                 ...   \n",
       "301680                         0  ...                                   0   \n",
       "301681                         0  ...                                   0   \n",
       "301685                         0  ...                                   0   \n",
       "301687                         0  ...                                   0   \n",
       "301700                         0  ...                                   0   \n",
       "\n",
       "        OCCUPATION_TYPE_Managers  OCCUPATION_TYPE_Medicine staff  \\\n",
       "0                              0                               0   \n",
       "4                              0                               0   \n",
       "6                              0                               0   \n",
       "15                             0                               0   \n",
       "16                             0                               0   \n",
       "...                          ...                             ...   \n",
       "301680                         0                               0   \n",
       "301681                         0                               0   \n",
       "301685                         0                               0   \n",
       "301687                         0                               0   \n",
       "301700                         0                               1   \n",
       "\n",
       "        OCCUPATION_TYPE_Private service staff  OCCUPATION_TYPE_Realty agents  \\\n",
       "0                                           0                              0   \n",
       "4                                           0                              0   \n",
       "6                                           0                              0   \n",
       "15                                          0                              0   \n",
       "16                                          0                              0   \n",
       "...                                       ...                            ...   \n",
       "301680                                      0                              0   \n",
       "301681                                      0                              0   \n",
       "301685                                      0                              0   \n",
       "301687                                      0                              0   \n",
       "301700                                      0                              0   \n",
       "\n",
       "        OCCUPATION_TYPE_Sales staff  OCCUPATION_TYPE_Secretaries  \\\n",
       "0                                 0                            0   \n",
       "4                                 1                            0   \n",
       "6                                 0                            0   \n",
       "15                                0                            0   \n",
       "16                                0                            0   \n",
       "...                             ...                          ...   \n",
       "301680                            0                            0   \n",
       "301681                            0                            0   \n",
       "301685                            0                            0   \n",
       "301687                            1                            0   \n",
       "301700                            0                            0   \n",
       "\n",
       "        OCCUPATION_TYPE_Security staff  OCCUPATION_TYPE_Waiters/barmen staff  \\\n",
       "0                                    1                                     0   \n",
       "4                                    0                                     0   \n",
       "6                                    0                                     0   \n",
       "15                                   0                                     0   \n",
       "16                                   0                                     0   \n",
       "...                                ...                                   ...   \n",
       "301680                               0                                     0   \n",
       "301681                               0                                     0   \n",
       "301685                               0                                     0   \n",
       "301687                               0                                     0   \n",
       "301700                               0                                     0   \n",
       "\n",
       "        DEFAULT  \n",
       "0             0  \n",
       "4             0  \n",
       "6             1  \n",
       "15            1  \n",
       "16            1  \n",
       "...         ...  \n",
       "301680        1  \n",
       "301681        1  \n",
       "301685        1  \n",
       "301687        1  \n",
       "301700        1  \n",
       "\n",
       "[6332 rows x 46 columns]"
      ]
     },
     "execution_count": 36,
     "metadata": {},
     "output_type": "execute_result"
    }
   ],
   "source": [
    "apr_d = apr.loc[:, apr[:].nunique() == 2]\n",
    "apr_d"
   ]
  },
  {
   "cell_type": "code",
   "execution_count": 37,
   "id": "be3a31f6",
   "metadata": {
    "execution": {
     "iopub.execute_input": "2024-04-30T14:36:17.486270Z",
     "iopub.status.busy": "2024-04-30T14:36:17.485849Z",
     "iopub.status.idle": "2024-04-30T14:36:19.157957Z",
     "shell.execute_reply": "2024-04-30T14:36:19.156706Z"
    },
    "papermill": {
     "duration": 1.711576,
     "end_time": "2024-04-30T14:36:19.161839",
     "exception": false,
     "start_time": "2024-04-30T14:36:17.450263",
     "status": "completed"
    },
    "tags": []
   },
   "outputs": [
    {
     "data": {
      "text/plain": [
       "[Text(0.5441176470588235, 0.9375, 'NAME_FAMILY_STATUS_Civil marriage <= 0.5\\ngini = 0.436\\nsamples = 4432\\nvalue = [3011, 1421]\\nclass = Aprovado'),\n",
       " Text(0.4852941176470588, 0.8125, 'FLAG_OWN_REALTY <= 0.5\\ngini = 0.439\\nsamples = 4067\\nvalue = [2744, 1323]\\nclass = Aprovado'),\n",
       " Text(0.23529411764705882, 0.6875, 'FLAG_WORK_PHONE <= 0.5\\ngini = 0.455\\nsamples = 1433\\nvalue = [931, 502]\\nclass = Aprovado'),\n",
       " Text(0.11764705882352941, 0.5625, 'NAME_FAMILY_STATUS_Married <= 0.5\\ngini = 0.469\\nsamples = 837\\nvalue = [523, 314]\\nclass = Aprovado'),\n",
       " Text(0.058823529411764705, 0.4375, 'gini = 0.423\\nsamples = 217\\nvalue = [151, 66]\\nclass = Aprovado'),\n",
       " Text(0.17647058823529413, 0.4375, 'NAME_INCOME_TYPE_Working <= 0.5\\ngini = 0.48\\nsamples = 620\\nvalue = [372, 248]\\nclass = Aprovado'),\n",
       " Text(0.11764705882352941, 0.3125, 'gini = 0.494\\nsamples = 229\\nvalue = [127, 102]\\nclass = Aprovado'),\n",
       " Text(0.23529411764705882, 0.3125, 'gini = 0.468\\nsamples = 391\\nvalue = [245, 146]\\nclass = Aprovado'),\n",
       " Text(0.35294117647058826, 0.5625, 'FLAG_OWN_CAR <= 0.5\\ngini = 0.432\\nsamples = 596\\nvalue = [408, 188]\\nclass = Aprovado'),\n",
       " Text(0.29411764705882354, 0.4375, 'gini = 0.438\\nsamples = 321\\nvalue = [217, 104]\\nclass = Aprovado'),\n",
       " Text(0.4117647058823529, 0.4375, 'gini = 0.424\\nsamples = 275\\nvalue = [191, 84]\\nclass = Aprovado'),\n",
       " Text(0.7352941176470589, 0.6875, 'OCCUPATION_TYPE_Sales staff <= 0.5\\ngini = 0.429\\nsamples = 2634\\nvalue = [1813, 821]\\nclass = Aprovado'),\n",
       " Text(0.6764705882352942, 0.5625, 'NAME_INCOME_TYPE_Working <= 0.5\\ngini = 0.434\\nsamples = 2303\\nvalue = [1569, 734]\\nclass = Aprovado'),\n",
       " Text(0.5294117647058824, 0.4375, 'FLAG_OWN_CAR <= 0.5\\ngini = 0.452\\nsamples = 957\\nvalue = [626, 331]\\nclass = Aprovado'),\n",
       " Text(0.4117647058823529, 0.3125, 'NAME_EDUCATION_TYPE_Higher education <= 0.5\\ngini = 0.463\\nsamples = 511\\nvalue = [325, 186]\\nclass = Aprovado'),\n",
       " Text(0.35294117647058826, 0.1875, 'gini = 0.468\\nsamples = 292\\nvalue = [183, 109]\\nclass = Aprovado'),\n",
       " Text(0.47058823529411764, 0.1875, 'gini = 0.456\\nsamples = 219\\nvalue = [142, 77]\\nclass = Aprovado'),\n",
       " Text(0.6470588235294118, 0.3125, 'CODE_GENDER <= 0.5\\ngini = 0.439\\nsamples = 446\\nvalue = [301, 145]\\nclass = Aprovado'),\n",
       " Text(0.5882352941176471, 0.1875, 'gini = 0.428\\nsamples = 213\\nvalue = [147, 66]\\nclass = Aprovado'),\n",
       " Text(0.7058823529411765, 0.1875, 'gini = 0.448\\nsamples = 233\\nvalue = [154, 79]\\nclass = Aprovado'),\n",
       " Text(0.8235294117647058, 0.4375, 'NAME_FAMILY_STATUS_Married <= 0.5\\ngini = 0.42\\nsamples = 1346\\nvalue = [943, 403]\\nclass = Aprovado'),\n",
       " Text(0.7647058823529411, 0.3125, 'gini = 0.459\\nsamples = 264\\nvalue = [170, 94]\\nclass = Aprovado'),\n",
       " Text(0.8823529411764706, 0.3125, 'OCCUPATION_TYPE_Laborers <= 0.5\\ngini = 0.408\\nsamples = 1082\\nvalue = [773, 309]\\nclass = Aprovado'),\n",
       " Text(0.8235294117647058, 0.1875, 'CODE_GENDER <= 0.5\\ngini = 0.422\\nsamples = 726\\nvalue = [506, 220]\\nclass = Aprovado'),\n",
       " Text(0.7647058823529411, 0.0625, 'gini = 0.401\\nsamples = 278\\nvalue = [201, 77]\\nclass = Aprovado'),\n",
       " Text(0.8823529411764706, 0.0625, 'gini = 0.435\\nsamples = 448\\nvalue = [305, 143]\\nclass = Aprovado'),\n",
       " Text(0.9411764705882353, 0.1875, 'gini = 0.375\\nsamples = 356\\nvalue = [267, 89]\\nclass = Aprovado'),\n",
       " Text(0.7941176470588235, 0.5625, 'gini = 0.388\\nsamples = 331\\nvalue = [244, 87]\\nclass = Aprovado'),\n",
       " Text(0.6029411764705882, 0.8125, 'gini = 0.393\\nsamples = 365\\nvalue = [267, 98]\\nclass = Aprovado')]"
      ]
     },
     "execution_count": 37,
     "metadata": {},
     "output_type": "execute_result"
    },
    {
     "data": {
      "image/png": "[encoded data removed]",
      "text/plain": [
       "<Figure size 640x480 with 1 Axes>"
      ]
     },
     "metadata": {},
     "output_type": "display_data"
    }
   ],
   "source": [
    "# Criando árvore de decisão\n",
    "clf = DecisionTreeClassifier(random_state=100, \n",
    "                             criterion=\"gini\", \n",
    "                             splitter=\"best\", \n",
    "                             max_depth=10, \n",
    "                             min_samples_split=150,\n",
    "                             min_samples_leaf=200)\n",
    "\n",
    "# Dividindo conjunto de dados em X e Y\n",
    "features = apr_d.loc[:, apr_d.columns != 'DEFAULT']\n",
    "target = apr_d['DEFAULT']\n",
    "\n",
    "# Subdividindo conjunto de dados em dados de treino e teste\n",
    "x_train, x_test, y_train, y_test = train_test_split(features, target, test_size=0.3)\n",
    "\n",
    "# Treinando modelo\n",
    "clf.fit(x_train, y_train)\n",
    "\n",
    "# Visualizando árvore\n",
    "plot_tree(clf, filled=True, feature_names=apr_d.columns, class_names=['Aprovado', 'Reprovado'])"
   ]
  },
  {
   "cell_type": "code",
   "execution_count": 38,
   "id": "3f3ed161",
   "metadata": {
    "execution": {
     "iopub.execute_input": "2024-04-30T14:36:19.234154Z",
     "iopub.status.busy": "2024-04-30T14:36:19.233488Z",
     "iopub.status.idle": "2024-04-30T14:36:19.577005Z",
     "shell.execute_reply": "2024-04-30T14:36:19.576066Z"
    },
    "papermill": {
     "duration": 0.381847,
     "end_time": "2024-04-30T14:36:19.579207",
     "exception": false,
     "start_time": "2024-04-30T14:36:19.197360",
     "status": "completed"
    },
    "tags": []
   },
   "outputs": [
    {
     "data": {
      "image/png": "[encoded data removed]",
      "text/plain": [
       "<Figure size 800x600 with 2 Axes>"
      ]
     },
     "metadata": {},
     "output_type": "display_data"
    }
   ],
   "source": [
    "# Criando previsões\n",
    "y_pred = clf.predict(x_test)\n",
    "\n",
    "# Criando matriz de confusão\n",
    "cm = confusion_matrix(y_test, y_pred)\n",
    "\n",
    "# Visualizando matriz de confusão\n",
    "classes = ['Aprovado \\n(DEFAULT=0)', 'Reprovado \\n(DEFAULT=1)']\n",
    "plt.figure(figsize=(8, 6))\n",
    "sns.heatmap(cm, annot=True, fmt='d', cmap='Blues', xticklabels=classes, yticklabels=classes)\n",
    "plt.xlabel('Valor Previsto')\n",
    "plt.ylabel('Valor Real')\n",
    "plt.title('Matriz de Confusão')\n",
    "plt.show()"
   ]
  },
  {
   "cell_type": "code",
   "execution_count": 39,
   "id": "c917b6dc",
   "metadata": {
    "execution": {
     "iopub.execute_input": "2024-04-30T14:36:19.655092Z",
     "iopub.status.busy": "2024-04-30T14:36:19.654268Z",
     "iopub.status.idle": "2024-04-30T14:36:19.662565Z",
     "shell.execute_reply": "2024-04-30T14:36:19.660852Z"
    },
    "papermill": {
     "duration": 0.04911,
     "end_time": "2024-04-30T14:36:19.664997",
     "exception": false,
     "start_time": "2024-04-30T14:36:19.615887",
     "status": "completed"
    },
    "tags": []
   },
   "outputs": [
    {
     "name": "stdout",
     "output_type": "stream",
     "text": [
      "A acurácia do modelo criado usando apenas valores discretos é de 66.53%\n"
     ]
    }
   ],
   "source": [
    "ac_disv = accuracy_score(y_test, y_pred) * 100\n",
    "print(f'A acurácia do modelo criado usando apenas valores discretos é de {ac_disv:.2f}%')"
   ]
  },
  {
   "cell_type": "markdown",
   "id": "2e706006",
   "metadata": {
    "papermill": {
     "duration": 0.035181,
     "end_time": "2024-04-30T14:36:19.735744",
     "exception": false,
     "start_time": "2024-04-30T14:36:19.700563",
     "status": "completed"
    },
    "tags": []
   },
   "source": [
    "## 4. Conclusão"
   ]
  },
  {
   "cell_type": "markdown",
   "id": "9b3a747b",
   "metadata": {
    "papermill": {
     "duration": 0.034954,
     "end_time": "2024-04-30T14:36:19.808465",
     "exception": false,
     "start_time": "2024-04-30T14:36:19.773511",
     "status": "completed"
    },
    "tags": []
   },
   "source": [
    "Através da manipulação do conjunto de dados foi criado uma variável de resposta e através da preparação dos dados três modelos diferentes foram treinados, abaixo segue a lista de acurácia de cada um:"
   ]
  },
  {
   "cell_type": "code",
   "execution_count": 40,
   "id": "a3900594",
   "metadata": {
    "execution": {
     "iopub.execute_input": "2024-04-30T14:36:19.881587Z",
     "iopub.status.busy": "2024-04-30T14:36:19.880914Z",
     "iopub.status.idle": "2024-04-30T14:36:19.888600Z",
     "shell.execute_reply": "2024-04-30T14:36:19.887005Z"
    },
    "papermill": {
     "duration": 0.047943,
     "end_time": "2024-04-30T14:36:19.891796",
     "exception": false,
     "start_time": "2024-04-30T14:36:19.843853",
     "status": "completed"
    },
    "tags": []
   },
   "outputs": [
    {
     "name": "stdout",
     "output_type": "stream",
     "text": [
      "Com todas as variáveis: 67.79%\n",
      "Com variáveis contínuas: 68.68%\n",
      "Com variáveis discretas: 66.53%\n"
     ]
    }
   ],
   "source": [
    "print(f'Com todas as variáveis: {ac_allv:.2f}%')\n",
    "print(f'Com variáveis contínuas: {ac_conv:.2f}%')\n",
    "print(f'Com variáveis discretas: {ac_disv:.2f}%')"
   ]
  }
 ],
 "metadata": {
  "kaggle": {
   "accelerator": "none",
   "dataSources": [
    {
     "datasetId": 426827,
     "sourceId": 1031720,
     "sourceType": "datasetVersion"
    }
   ],
   "dockerImageVersionId": 30698,
   "isGpuEnabled": false,
   "isInternetEnabled": true,
   "language": "python",
   "sourceType": "notebook"
  },
  "kernelspec": {
   "display_name": "Python 3",
   "language": "python",
   "name": "python3"
  },
  "language_info": {
   "codemirror_mode": {
    "name": "ipython",
    "version": 3
   },
   "file_extension": ".py",
   "mimetype": "text/x-python",
   "name": "python",
   "nbconvert_exporter": "python",
   "pygments_lexer": "ipython3",
   "version": "3.10.13"
  },
  "papermill": {
   "default_parameters": {},
   "duration": 23.397481,
   "end_time": "2024-04-30T14:36:20.649604",
   "environment_variables": {},
   "exception": null,
   "input_path": "__notebook__.ipynb",
   "output_path": "__notebook__.ipynb",
   "parameters": {},
   "start_time": "2024-04-30T14:35:57.252123",
   "version": "2.5.0"
  }
 },
 "nbformat": 4,
 "nbformat_minor": 5
}
