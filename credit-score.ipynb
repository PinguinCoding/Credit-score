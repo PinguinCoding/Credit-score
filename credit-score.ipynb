{
 "cells": [
  {
   "cell_type": "markdown",
   "id": "0dba908b",
   "metadata": {
    "_cell_guid": "b1076dfc-b9ad-4769-8c92-a6c4dae69d19",
    "_uuid": "8f2839f25d086af736a60e9eeb907d3b93b6e0e5",
    "papermill": {
     "duration": 0.02292,
     "end_time": "2024-04-30T14:30:14.067007",
     "exception": false,
     "start_time": "2024-04-30T14:30:14.044087",
     "status": "completed"
    },
    "tags": []
   },
   "source": [
    "# Classificação de Crédito\n",
    "\n",
    "Iremos trabalhar com duas base de dados e realizaremos as seguintes operações:\n",
    "- Tratamento de dados\n",
    "- Construir variável de resposta\n",
    "- Criar modelo de classificação\n",
    "\n",
    "\n",
    "## O Problema\n",
    "Uma empresa fictícia provedora de crédito deseja um modelo capaz de prever quais dos seus clientes serão bons ou maus pagadores, para isso eles forneceram duas base de dados. Uma com informações dos clientes e outra com informações dos pagamentos realizados dos créditos obtidos.\n",
    "\n",
    "## Objetivo\n",
    "Criar um modelo de classificação usando árvores de decisão"
   ]
  },
  {
   "cell_type": "markdown",
   "id": "bd691769",
   "metadata": {
    "papermill": {
     "duration": 0.024487,
     "end_time": "2024-04-30T14:30:14.113443",
     "exception": false,
     "start_time": "2024-04-30T14:30:14.088956",
     "status": "completed"
    },
    "tags": []
   },
   "source": [
    "# 1. Preparando Base de Treino"
   ]
  },
  {
   "cell_type": "code",
   "execution_count": 1,
   "id": "54c8ab82",
   "metadata": {
    "execution": {
     "iopub.execute_input": "2024-04-30T14:30:14.163192Z",
     "iopub.status.busy": "2024-04-30T14:30:14.162402Z",
     "iopub.status.idle": "2024-04-30T14:30:17.543197Z",
     "shell.execute_reply": "2024-04-30T14:30:17.541553Z"
    },
    "papermill": {
     "duration": 3.409203,
     "end_time": "2024-04-30T14:30:17.546983",
     "exception": false,
     "start_time": "2024-04-30T14:30:14.137780",
     "status": "completed"
    },
    "tags": []
   },
   "outputs": [],
   "source": [
    "# Importando bibliotecas\n",
    "import numpy as np\n",
    "import pandas as pd\n",
    "import seaborn as sns\n",
    "import matplotlib.pyplot as plt\n",
    "\n",
    "from sklearn.model_selection import train_test_split\n",
    "from sklearn.tree import DecisionTreeClassifier, plot_tree\n",
    "from sklearn.metrics import accuracy_score, confusion_matrix\n",
    "\n",
    "pd.options.mode.copy_on_write = True"
   ]
  },
  {
   "cell_type": "code",
   "execution_count": 2,
   "id": "cdd4be47",
   "metadata": {
    "execution": {
     "iopub.execute_input": "2024-04-30T14:30:17.595787Z",
     "iopub.status.busy": "2024-04-30T14:30:17.595174Z",
     "iopub.status.idle": "2024-04-30T14:30:19.683045Z",
     "shell.execute_reply": "2024-04-30T14:30:19.681547Z"
    },
    "papermill": {
     "duration": 2.118159,
     "end_time": "2024-04-30T14:30:19.686905",
     "exception": false,
     "start_time": "2024-04-30T14:30:17.568746",
     "status": "completed"
    },
    "tags": []
   },
   "outputs": [
    {
     "data": {
      "text/html": [
       "<div>\n",
       "<style scoped>\n",
       "    .dataframe tbody tr th:only-of-type {\n",
       "        vertical-align: middle;\n",
       "    }\n",
       "\n",
       "    .dataframe tbody tr th {\n",
       "        vertical-align: top;\n",
       "    }\n",
       "\n",
       "    .dataframe thead th {\n",
       "        text-align: right;\n",
       "    }\n",
       "</style>\n",
       "<table border=\"1\" class=\"dataframe\">\n",
       "  <thead>\n",
       "    <tr style=\"text-align: right;\">\n",
       "      <th></th>\n",
       "      <th>ID</th>\n",
       "      <th>CODE_GENDER</th>\n",
       "      <th>FLAG_OWN_CAR</th>\n",
       "      <th>FLAG_OWN_REALTY</th>\n",
       "      <th>CNT_CHILDREN</th>\n",
       "      <th>AMT_INCOME_TOTAL</th>\n",
       "      <th>NAME_INCOME_TYPE</th>\n",
       "      <th>NAME_EDUCATION_TYPE</th>\n",
       "      <th>NAME_FAMILY_STATUS</th>\n",
       "      <th>NAME_HOUSING_TYPE</th>\n",
       "      <th>DAYS_BIRTH</th>\n",
       "      <th>DAYS_EMPLOYED</th>\n",
       "      <th>FLAG_MOBIL</th>\n",
       "      <th>FLAG_WORK_PHONE</th>\n",
       "      <th>FLAG_PHONE</th>\n",
       "      <th>FLAG_EMAIL</th>\n",
       "      <th>OCCUPATION_TYPE</th>\n",
       "      <th>CNT_FAM_MEMBERS</th>\n",
       "    </tr>\n",
       "  </thead>\n",
       "  <tbody>\n",
       "    <tr>\n",
       "      <th>0</th>\n",
       "      <td>5008804</td>\n",
       "      <td>M</td>\n",
       "      <td>Y</td>\n",
       "      <td>Y</td>\n",
       "      <td>0</td>\n",
       "      <td>427500.0</td>\n",
       "      <td>Working</td>\n",
       "      <td>Higher education</td>\n",
       "      <td>Civil marriage</td>\n",
       "      <td>Rented apartment</td>\n",
       "      <td>-12005</td>\n",
       "      <td>-4542</td>\n",
       "      <td>1</td>\n",
       "      <td>1</td>\n",
       "      <td>0</td>\n",
       "      <td>0</td>\n",
       "      <td>NaN</td>\n",
       "      <td>2.0</td>\n",
       "    </tr>\n",
       "    <tr>\n",
       "      <th>1</th>\n",
       "      <td>5008805</td>\n",
       "      <td>M</td>\n",
       "      <td>Y</td>\n",
       "      <td>Y</td>\n",
       "      <td>0</td>\n",
       "      <td>427500.0</td>\n",
       "      <td>Working</td>\n",
       "      <td>Higher education</td>\n",
       "      <td>Civil marriage</td>\n",
       "      <td>Rented apartment</td>\n",
       "      <td>-12005</td>\n",
       "      <td>-4542</td>\n",
       "      <td>1</td>\n",
       "      <td>1</td>\n",
       "      <td>0</td>\n",
       "      <td>0</td>\n",
       "      <td>NaN</td>\n",
       "      <td>2.0</td>\n",
       "    </tr>\n",
       "    <tr>\n",
       "      <th>2</th>\n",
       "      <td>5008806</td>\n",
       "      <td>M</td>\n",
       "      <td>Y</td>\n",
       "      <td>Y</td>\n",
       "      <td>0</td>\n",
       "      <td>112500.0</td>\n",
       "      <td>Working</td>\n",
       "      <td>Secondary / secondary special</td>\n",
       "      <td>Married</td>\n",
       "      <td>House / apartment</td>\n",
       "      <td>-21474</td>\n",
       "      <td>-1134</td>\n",
       "      <td>1</td>\n",
       "      <td>0</td>\n",
       "      <td>0</td>\n",
       "      <td>0</td>\n",
       "      <td>Security staff</td>\n",
       "      <td>2.0</td>\n",
       "    </tr>\n",
       "    <tr>\n",
       "      <th>3</th>\n",
       "      <td>5008808</td>\n",
       "      <td>F</td>\n",
       "      <td>N</td>\n",
       "      <td>Y</td>\n",
       "      <td>0</td>\n",
       "      <td>270000.0</td>\n",
       "      <td>Commercial associate</td>\n",
       "      <td>Secondary / secondary special</td>\n",
       "      <td>Single / not married</td>\n",
       "      <td>House / apartment</td>\n",
       "      <td>-19110</td>\n",
       "      <td>-3051</td>\n",
       "      <td>1</td>\n",
       "      <td>0</td>\n",
       "      <td>1</td>\n",
       "      <td>1</td>\n",
       "      <td>Sales staff</td>\n",
       "      <td>1.0</td>\n",
       "    </tr>\n",
       "    <tr>\n",
       "      <th>4</th>\n",
       "      <td>5008809</td>\n",
       "      <td>F</td>\n",
       "      <td>N</td>\n",
       "      <td>Y</td>\n",
       "      <td>0</td>\n",
       "      <td>270000.0</td>\n",
       "      <td>Commercial associate</td>\n",
       "      <td>Secondary / secondary special</td>\n",
       "      <td>Single / not married</td>\n",
       "      <td>House / apartment</td>\n",
       "      <td>-19110</td>\n",
       "      <td>-3051</td>\n",
       "      <td>1</td>\n",
       "      <td>0</td>\n",
       "      <td>1</td>\n",
       "      <td>1</td>\n",
       "      <td>Sales staff</td>\n",
       "      <td>1.0</td>\n",
       "    </tr>\n",
       "  </tbody>\n",
       "</table>\n",
       "</div>"
      ],
      "text/plain": [
       "        ID CODE_GENDER FLAG_OWN_CAR FLAG_OWN_REALTY  CNT_CHILDREN  \\\n",
       "0  5008804           M            Y               Y             0   \n",
       "1  5008805           M            Y               Y             0   \n",
       "2  5008806           M            Y               Y             0   \n",
       "3  5008808           F            N               Y             0   \n",
       "4  5008809           F            N               Y             0   \n",
       "\n",
       "   AMT_INCOME_TOTAL      NAME_INCOME_TYPE            NAME_EDUCATION_TYPE  \\\n",
       "0          427500.0               Working               Higher education   \n",
       "1          427500.0               Working               Higher education   \n",
       "2          112500.0               Working  Secondary / secondary special   \n",
       "3          270000.0  Commercial associate  Secondary / secondary special   \n",
       "4          270000.0  Commercial associate  Secondary / secondary special   \n",
       "\n",
       "     NAME_FAMILY_STATUS  NAME_HOUSING_TYPE  DAYS_BIRTH  DAYS_EMPLOYED  \\\n",
       "0        Civil marriage   Rented apartment      -12005          -4542   \n",
       "1        Civil marriage   Rented apartment      -12005          -4542   \n",
       "2               Married  House / apartment      -21474          -1134   \n",
       "3  Single / not married  House / apartment      -19110          -3051   \n",
       "4  Single / not married  House / apartment      -19110          -3051   \n",
       "\n",
       "   FLAG_MOBIL  FLAG_WORK_PHONE  FLAG_PHONE  FLAG_EMAIL OCCUPATION_TYPE  \\\n",
       "0           1                1           0           0             NaN   \n",
       "1           1                1           0           0             NaN   \n",
       "2           1                0           0           0  Security staff   \n",
       "3           1                0           1           1     Sales staff   \n",
       "4           1                0           1           1     Sales staff   \n",
       "\n",
       "   CNT_FAM_MEMBERS  \n",
       "0              2.0  \n",
       "1              2.0  \n",
       "2              2.0  \n",
       "3              1.0  \n",
       "4              1.0  "
      ]
     },
     "execution_count": 2,
     "metadata": {},
     "output_type": "execute_result"
    }
   ],
   "source": [
    "# Coletando dados\n",
    "apr = pd.read_csv('/kaggle/input/credit-card-approval-prediction/application_record.csv')\n",
    "apr.head(5)"
   ]
  },
  {
   "cell_type": "markdown",
   "id": "18c2607c",
   "metadata": {
    "papermill": {
     "duration": 0.023843,
     "end_time": "2024-04-30T14:30:19.735092",
     "exception": false,
     "start_time": "2024-04-30T14:30:19.711249",
     "status": "completed"
    },
    "tags": []
   },
   "source": [
    "## 1.1 Preparando Dados"
   ]
  },
  {
   "cell_type": "code",
   "execution_count": 3,
   "id": "7bc9a7ce",
   "metadata": {
    "execution": {
     "iopub.execute_input": "2024-04-30T14:30:19.786967Z",
     "iopub.status.busy": "2024-04-30T14:30:19.786557Z",
     "iopub.status.idle": "2024-04-30T14:30:20.203737Z",
     "shell.execute_reply": "2024-04-30T14:30:20.201179Z"
    },
    "papermill": {
     "duration": 0.447173,
     "end_time": "2024-04-30T14:30:20.206903",
     "exception": false,
     "start_time": "2024-04-30T14:30:19.759730",
     "status": "completed"
    },
    "tags": []
   },
   "outputs": [
    {
     "name": "stdout",
     "output_type": "stream",
     "text": [
      "<class 'pandas.core.frame.DataFrame'>\n",
      "RangeIndex: 438557 entries, 0 to 438556\n",
      "Data columns (total 18 columns):\n",
      " #   Column               Non-Null Count   Dtype  \n",
      "---  ------               --------------   -----  \n",
      " 0   ID                   438557 non-null  int64  \n",
      " 1   CODE_GENDER          438557 non-null  object \n",
      " 2   FLAG_OWN_CAR         438557 non-null  object \n",
      " 3   FLAG_OWN_REALTY      438557 non-null  object \n",
      " 4   CNT_CHILDREN         438557 non-null  int64  \n",
      " 5   AMT_INCOME_TOTAL     438557 non-null  float64\n",
      " 6   NAME_INCOME_TYPE     438557 non-null  object \n",
      " 7   NAME_EDUCATION_TYPE  438557 non-null  object \n",
      " 8   NAME_FAMILY_STATUS   438557 non-null  object \n",
      " 9   NAME_HOUSING_TYPE    438557 non-null  object \n",
      " 10  DAYS_BIRTH           438557 non-null  int64  \n",
      " 11  DAYS_EMPLOYED        438557 non-null  int64  \n",
      " 12  FLAG_MOBIL           438557 non-null  int64  \n",
      " 13  FLAG_WORK_PHONE      438557 non-null  int64  \n",
      " 14  FLAG_PHONE           438557 non-null  int64  \n",
      " 15  FLAG_EMAIL           438557 non-null  int64  \n",
      " 16  OCCUPATION_TYPE      304354 non-null  object \n",
      " 17  CNT_FAM_MEMBERS      438557 non-null  float64\n",
      "dtypes: float64(2), int64(8), object(8)\n",
      "memory usage: 60.2+ MB\n"
     ]
    }
   ],
   "source": [
    "# Levantando informações sobre conjunto de dados\n",
    "apr.info()"
   ]
  },
  {
   "cell_type": "markdown",
   "id": "bd9a83b4",
   "metadata": {
    "papermill": {
     "duration": 0.025159,
     "end_time": "2024-04-30T14:30:20.255875",
     "exception": false,
     "start_time": "2024-04-30T14:30:20.230716",
     "status": "completed"
    },
    "tags": []
   },
   "source": [
    "### Observações\n",
    "A partir do leventamento de informações do conjunto de dados visto acima, é possível notar o seguinte:\n",
    "- CODE_GENDER, FLAG_OWN_CAR, FLAG_OWN_REALTY e CNT_FAM_MEMBERS podem ser convertidos para **int**\n",
    "- OCCUPATION_TYPE é a única coluna com dados faltantes"
   ]
  },
  {
   "cell_type": "markdown",
   "id": "d5b1ff34",
   "metadata": {
    "papermill": {
     "duration": 0.025273,
     "end_time": "2024-04-30T14:30:20.307075",
     "exception": false,
     "start_time": "2024-04-30T14:30:20.281802",
     "status": "completed"
    },
    "tags": []
   },
   "source": [
    "Para treinar o modelo usando o conjunto de dados, alguns ajustes são necessários, o primeiro desse é transformar as variáveis do tipo **object** para **int** através do método **map** e **astype** visto abaixo:"
   ]
  },
  {
   "cell_type": "code",
   "execution_count": 4,
   "id": "5581ae8b",
   "metadata": {
    "execution": {
     "iopub.execute_input": "2024-04-30T14:30:20.357039Z",
     "iopub.status.busy": "2024-04-30T14:30:20.356587Z",
     "iopub.status.idle": "2024-04-30T14:30:20.477187Z",
     "shell.execute_reply": "2024-04-30T14:30:20.475697Z"
    },
    "papermill": {
     "duration": 0.14849,
     "end_time": "2024-04-30T14:30:20.480125",
     "exception": false,
     "start_time": "2024-04-30T14:30:20.331635",
     "status": "completed"
    },
    "tags": []
   },
   "outputs": [
    {
     "data": {
      "text/html": [
       "<div>\n",
       "<style scoped>\n",
       "    .dataframe tbody tr th:only-of-type {\n",
       "        vertical-align: middle;\n",
       "    }\n",
       "\n",
       "    .dataframe tbody tr th {\n",
       "        vertical-align: top;\n",
       "    }\n",
       "\n",
       "    .dataframe thead th {\n",
       "        text-align: right;\n",
       "    }\n",
       "</style>\n",
       "<table border=\"1\" class=\"dataframe\">\n",
       "  <thead>\n",
       "    <tr style=\"text-align: right;\">\n",
       "      <th></th>\n",
       "      <th>ID</th>\n",
       "      <th>CODE_GENDER</th>\n",
       "      <th>FLAG_OWN_CAR</th>\n",
       "      <th>FLAG_OWN_REALTY</th>\n",
       "      <th>CNT_CHILDREN</th>\n",
       "      <th>AMT_INCOME_TOTAL</th>\n",
       "      <th>NAME_INCOME_TYPE</th>\n",
       "      <th>NAME_EDUCATION_TYPE</th>\n",
       "      <th>NAME_FAMILY_STATUS</th>\n",
       "      <th>NAME_HOUSING_TYPE</th>\n",
       "      <th>DAYS_BIRTH</th>\n",
       "      <th>DAYS_EMPLOYED</th>\n",
       "      <th>FLAG_MOBIL</th>\n",
       "      <th>FLAG_WORK_PHONE</th>\n",
       "      <th>FLAG_PHONE</th>\n",
       "      <th>FLAG_EMAIL</th>\n",
       "      <th>OCCUPATION_TYPE</th>\n",
       "      <th>CNT_FAM_MEMBERS</th>\n",
       "    </tr>\n",
       "  </thead>\n",
       "  <tbody>\n",
       "    <tr>\n",
       "      <th>0</th>\n",
       "      <td>5008804</td>\n",
       "      <td>0</td>\n",
       "      <td>1</td>\n",
       "      <td>1</td>\n",
       "      <td>0</td>\n",
       "      <td>427500.0</td>\n",
       "      <td>Working</td>\n",
       "      <td>Higher education</td>\n",
       "      <td>Civil marriage</td>\n",
       "      <td>Rented apartment</td>\n",
       "      <td>-12005</td>\n",
       "      <td>-4542</td>\n",
       "      <td>1</td>\n",
       "      <td>1</td>\n",
       "      <td>0</td>\n",
       "      <td>0</td>\n",
       "      <td>NaN</td>\n",
       "      <td>2</td>\n",
       "    </tr>\n",
       "    <tr>\n",
       "      <th>1</th>\n",
       "      <td>5008805</td>\n",
       "      <td>0</td>\n",
       "      <td>1</td>\n",
       "      <td>1</td>\n",
       "      <td>0</td>\n",
       "      <td>427500.0</td>\n",
       "      <td>Working</td>\n",
       "      <td>Higher education</td>\n",
       "      <td>Civil marriage</td>\n",
       "      <td>Rented apartment</td>\n",
       "      <td>-12005</td>\n",
       "      <td>-4542</td>\n",
       "      <td>1</td>\n",
       "      <td>1</td>\n",
       "      <td>0</td>\n",
       "      <td>0</td>\n",
       "      <td>NaN</td>\n",
       "      <td>2</td>\n",
       "    </tr>\n",
       "    <tr>\n",
       "      <th>2</th>\n",
       "      <td>5008806</td>\n",
       "      <td>0</td>\n",
       "      <td>1</td>\n",
       "      <td>1</td>\n",
       "      <td>0</td>\n",
       "      <td>112500.0</td>\n",
       "      <td>Working</td>\n",
       "      <td>Secondary / secondary special</td>\n",
       "      <td>Married</td>\n",
       "      <td>House / apartment</td>\n",
       "      <td>-21474</td>\n",
       "      <td>-1134</td>\n",
       "      <td>1</td>\n",
       "      <td>0</td>\n",
       "      <td>0</td>\n",
       "      <td>0</td>\n",
       "      <td>Security staff</td>\n",
       "      <td>2</td>\n",
       "    </tr>\n",
       "    <tr>\n",
       "      <th>3</th>\n",
       "      <td>5008808</td>\n",
       "      <td>1</td>\n",
       "      <td>0</td>\n",
       "      <td>1</td>\n",
       "      <td>0</td>\n",
       "      <td>270000.0</td>\n",
       "      <td>Commercial associate</td>\n",
       "      <td>Secondary / secondary special</td>\n",
       "      <td>Single / not married</td>\n",
       "      <td>House / apartment</td>\n",
       "      <td>-19110</td>\n",
       "      <td>-3051</td>\n",
       "      <td>1</td>\n",
       "      <td>0</td>\n",
       "      <td>1</td>\n",
       "      <td>1</td>\n",
       "      <td>Sales staff</td>\n",
       "      <td>1</td>\n",
       "    </tr>\n",
       "    <tr>\n",
       "      <th>4</th>\n",
       "      <td>5008809</td>\n",
       "      <td>1</td>\n",
       "      <td>0</td>\n",
       "      <td>1</td>\n",
       "      <td>0</td>\n",
       "      <td>270000.0</td>\n",
       "      <td>Commercial associate</td>\n",
       "      <td>Secondary / secondary special</td>\n",
       "      <td>Single / not married</td>\n",
       "      <td>House / apartment</td>\n",
       "      <td>-19110</td>\n",
       "      <td>-3051</td>\n",
       "      <td>1</td>\n",
       "      <td>0</td>\n",
       "      <td>1</td>\n",
       "      <td>1</td>\n",
       "      <td>Sales staff</td>\n",
       "      <td>1</td>\n",
       "    </tr>\n",
       "  </tbody>\n",
       "</table>\n",
       "</div>"
      ],
      "text/plain": [
       "        ID  CODE_GENDER  FLAG_OWN_CAR  FLAG_OWN_REALTY  CNT_CHILDREN  \\\n",
       "0  5008804            0             1                1             0   \n",
       "1  5008805            0             1                1             0   \n",
       "2  5008806            0             1                1             0   \n",
       "3  5008808            1             0                1             0   \n",
       "4  5008809            1             0                1             0   \n",
       "\n",
       "   AMT_INCOME_TOTAL      NAME_INCOME_TYPE            NAME_EDUCATION_TYPE  \\\n",
       "0          427500.0               Working               Higher education   \n",
       "1          427500.0               Working               Higher education   \n",
       "2          112500.0               Working  Secondary / secondary special   \n",
       "3          270000.0  Commercial associate  Secondary / secondary special   \n",
       "4          270000.0  Commercial associate  Secondary / secondary special   \n",
       "\n",
       "     NAME_FAMILY_STATUS  NAME_HOUSING_TYPE  DAYS_BIRTH  DAYS_EMPLOYED  \\\n",
       "0        Civil marriage   Rented apartment      -12005          -4542   \n",
       "1        Civil marriage   Rented apartment      -12005          -4542   \n",
       "2               Married  House / apartment      -21474          -1134   \n",
       "3  Single / not married  House / apartment      -19110          -3051   \n",
       "4  Single / not married  House / apartment      -19110          -3051   \n",
       "\n",
       "   FLAG_MOBIL  FLAG_WORK_PHONE  FLAG_PHONE  FLAG_EMAIL OCCUPATION_TYPE  \\\n",
       "0           1                1           0           0             NaN   \n",
       "1           1                1           0           0             NaN   \n",
       "2           1                0           0           0  Security staff   \n",
       "3           1                0           1           1     Sales staff   \n",
       "4           1                0           1           1     Sales staff   \n",
       "\n",
       "   CNT_FAM_MEMBERS  \n",
       "0                2  \n",
       "1                2  \n",
       "2                2  \n",
       "3                1  \n",
       "4                1  "
      ]
     },
     "execution_count": 4,
     "metadata": {},
     "output_type": "execute_result"
    }
   ],
   "source": [
    "# Transformando variáveis 'object' em 'int'\n",
    "apr['CODE_GENDER'] = apr['CODE_GENDER'].map({'F': 1, 'M': 0}) \n",
    "apr['FLAG_OWN_CAR'] = apr['FLAG_OWN_CAR'].map({'Y': 1, 'N': 0})\n",
    "apr['FLAG_OWN_REALTY'] = apr['FLAG_OWN_REALTY'].map({'Y': 1, 'N': 0})\n",
    "\n",
    "# Mudando do tipo 'float' para 'int'\n",
    "apr['CNT_FAM_MEMBERS'] = apr['CNT_FAM_MEMBERS'].astype(np.int64)\n",
    "apr.head(5)"
   ]
  },
  {
   "cell_type": "markdown",
   "id": "2cea2613",
   "metadata": {
    "papermill": {
     "duration": 0.022674,
     "end_time": "2024-04-30T14:30:20.526212",
     "exception": false,
     "start_time": "2024-04-30T14:30:20.503538",
     "status": "completed"
    },
    "tags": []
   },
   "source": [
    "O segundo ajuste necessário é remover linhas com alguma coluna com dados faltantes, uma vez que o **sklearn** não consegue processar dados nulos."
   ]
  },
  {
   "cell_type": "code",
   "execution_count": 5,
   "id": "873d32c7",
   "metadata": {
    "execution": {
     "iopub.execute_input": "2024-04-30T14:30:20.575331Z",
     "iopub.status.busy": "2024-04-30T14:30:20.574818Z",
     "iopub.status.idle": "2024-04-30T14:30:20.942836Z",
     "shell.execute_reply": "2024-04-30T14:30:20.941505Z"
    },
    "papermill": {
     "duration": 0.398057,
     "end_time": "2024-04-30T14:30:20.947020",
     "exception": false,
     "start_time": "2024-04-30T14:30:20.548963",
     "status": "completed"
    },
    "tags": []
   },
   "outputs": [
    {
     "name": "stdout",
     "output_type": "stream",
     "text": [
      "Foram eliminadas 134203 linhas com colunas vazias.\n",
      "(304354, 18)\n"
     ]
    },
    {
     "data": {
      "text/html": [
       "<div>\n",
       "<style scoped>\n",
       "    .dataframe tbody tr th:only-of-type {\n",
       "        vertical-align: middle;\n",
       "    }\n",
       "\n",
       "    .dataframe tbody tr th {\n",
       "        vertical-align: top;\n",
       "    }\n",
       "\n",
       "    .dataframe thead th {\n",
       "        text-align: right;\n",
       "    }\n",
       "</style>\n",
       "<table border=\"1\" class=\"dataframe\">\n",
       "  <thead>\n",
       "    <tr style=\"text-align: right;\">\n",
       "      <th></th>\n",
       "      <th>ID</th>\n",
       "      <th>CODE_GENDER</th>\n",
       "      <th>FLAG_OWN_CAR</th>\n",
       "      <th>FLAG_OWN_REALTY</th>\n",
       "      <th>CNT_CHILDREN</th>\n",
       "      <th>AMT_INCOME_TOTAL</th>\n",
       "      <th>NAME_INCOME_TYPE</th>\n",
       "      <th>NAME_EDUCATION_TYPE</th>\n",
       "      <th>NAME_FAMILY_STATUS</th>\n",
       "      <th>NAME_HOUSING_TYPE</th>\n",
       "      <th>DAYS_BIRTH</th>\n",
       "      <th>DAYS_EMPLOYED</th>\n",
       "      <th>FLAG_MOBIL</th>\n",
       "      <th>FLAG_WORK_PHONE</th>\n",
       "      <th>FLAG_PHONE</th>\n",
       "      <th>FLAG_EMAIL</th>\n",
       "      <th>OCCUPATION_TYPE</th>\n",
       "      <th>CNT_FAM_MEMBERS</th>\n",
       "    </tr>\n",
       "  </thead>\n",
       "  <tbody>\n",
       "    <tr>\n",
       "      <th>2</th>\n",
       "      <td>5008806</td>\n",
       "      <td>0</td>\n",
       "      <td>1</td>\n",
       "      <td>1</td>\n",
       "      <td>0</td>\n",
       "      <td>112500.0</td>\n",
       "      <td>Working</td>\n",
       "      <td>Secondary / secondary special</td>\n",
       "      <td>Married</td>\n",
       "      <td>House / apartment</td>\n",
       "      <td>-21474</td>\n",
       "      <td>-1134</td>\n",
       "      <td>1</td>\n",
       "      <td>0</td>\n",
       "      <td>0</td>\n",
       "      <td>0</td>\n",
       "      <td>Security staff</td>\n",
       "      <td>2</td>\n",
       "    </tr>\n",
       "    <tr>\n",
       "      <th>3</th>\n",
       "      <td>5008808</td>\n",
       "      <td>1</td>\n",
       "      <td>0</td>\n",
       "      <td>1</td>\n",
       "      <td>0</td>\n",
       "      <td>270000.0</td>\n",
       "      <td>Commercial associate</td>\n",
       "      <td>Secondary / secondary special</td>\n",
       "      <td>Single / not married</td>\n",
       "      <td>House / apartment</td>\n",
       "      <td>-19110</td>\n",
       "      <td>-3051</td>\n",
       "      <td>1</td>\n",
       "      <td>0</td>\n",
       "      <td>1</td>\n",
       "      <td>1</td>\n",
       "      <td>Sales staff</td>\n",
       "      <td>1</td>\n",
       "    </tr>\n",
       "    <tr>\n",
       "      <th>4</th>\n",
       "      <td>5008809</td>\n",
       "      <td>1</td>\n",
       "      <td>0</td>\n",
       "      <td>1</td>\n",
       "      <td>0</td>\n",
       "      <td>270000.0</td>\n",
       "      <td>Commercial associate</td>\n",
       "      <td>Secondary / secondary special</td>\n",
       "      <td>Single / not married</td>\n",
       "      <td>House / apartment</td>\n",
       "      <td>-19110</td>\n",
       "      <td>-3051</td>\n",
       "      <td>1</td>\n",
       "      <td>0</td>\n",
       "      <td>1</td>\n",
       "      <td>1</td>\n",
       "      <td>Sales staff</td>\n",
       "      <td>1</td>\n",
       "    </tr>\n",
       "    <tr>\n",
       "      <th>5</th>\n",
       "      <td>5008810</td>\n",
       "      <td>1</td>\n",
       "      <td>0</td>\n",
       "      <td>1</td>\n",
       "      <td>0</td>\n",
       "      <td>270000.0</td>\n",
       "      <td>Commercial associate</td>\n",
       "      <td>Secondary / secondary special</td>\n",
       "      <td>Single / not married</td>\n",
       "      <td>House / apartment</td>\n",
       "      <td>-19110</td>\n",
       "      <td>-3051</td>\n",
       "      <td>1</td>\n",
       "      <td>0</td>\n",
       "      <td>1</td>\n",
       "      <td>1</td>\n",
       "      <td>Sales staff</td>\n",
       "      <td>1</td>\n",
       "    </tr>\n",
       "    <tr>\n",
       "      <th>6</th>\n",
       "      <td>5008811</td>\n",
       "      <td>1</td>\n",
       "      <td>0</td>\n",
       "      <td>1</td>\n",
       "      <td>0</td>\n",
       "      <td>270000.0</td>\n",
       "      <td>Commercial associate</td>\n",
       "      <td>Secondary / secondary special</td>\n",
       "      <td>Single / not married</td>\n",
       "      <td>House / apartment</td>\n",
       "      <td>-19110</td>\n",
       "      <td>-3051</td>\n",
       "      <td>1</td>\n",
       "      <td>0</td>\n",
       "      <td>1</td>\n",
       "      <td>1</td>\n",
       "      <td>Sales staff</td>\n",
       "      <td>1</td>\n",
       "    </tr>\n",
       "  </tbody>\n",
       "</table>\n",
       "</div>"
      ],
      "text/plain": [
       "        ID  CODE_GENDER  FLAG_OWN_CAR  FLAG_OWN_REALTY  CNT_CHILDREN  \\\n",
       "2  5008806            0             1                1             0   \n",
       "3  5008808            1             0                1             0   \n",
       "4  5008809            1             0                1             0   \n",
       "5  5008810            1             0                1             0   \n",
       "6  5008811            1             0                1             0   \n",
       "\n",
       "   AMT_INCOME_TOTAL      NAME_INCOME_TYPE            NAME_EDUCATION_TYPE  \\\n",
       "2          112500.0               Working  Secondary / secondary special   \n",
       "3          270000.0  Commercial associate  Secondary / secondary special   \n",
       "4          270000.0  Commercial associate  Secondary / secondary special   \n",
       "5          270000.0  Commercial associate  Secondary / secondary special   \n",
       "6          270000.0  Commercial associate  Secondary / secondary special   \n",
       "\n",
       "     NAME_FAMILY_STATUS  NAME_HOUSING_TYPE  DAYS_BIRTH  DAYS_EMPLOYED  \\\n",
       "2               Married  House / apartment      -21474          -1134   \n",
       "3  Single / not married  House / apartment      -19110          -3051   \n",
       "4  Single / not married  House / apartment      -19110          -3051   \n",
       "5  Single / not married  House / apartment      -19110          -3051   \n",
       "6  Single / not married  House / apartment      -19110          -3051   \n",
       "\n",
       "   FLAG_MOBIL  FLAG_WORK_PHONE  FLAG_PHONE  FLAG_EMAIL OCCUPATION_TYPE  \\\n",
       "2           1                0           0           0  Security staff   \n",
       "3           1                0           1           1     Sales staff   \n",
       "4           1                0           1           1     Sales staff   \n",
       "5           1                0           1           1     Sales staff   \n",
       "6           1                0           1           1     Sales staff   \n",
       "\n",
       "   CNT_FAM_MEMBERS  \n",
       "2                2  \n",
       "3                1  \n",
       "4                1  \n",
       "5                1  \n",
       "6                1  "
      ]
     },
     "execution_count": 5,
     "metadata": {},
     "output_type": "execute_result"
    }
   ],
   "source": [
    "# Removendo dados nulos\n",
    "before, _ = apr.shape\n",
    "apr.dropna(inplace=True)\n",
    "after, _ = apr.shape\n",
    "print(f'Foram eliminadas {before-after} linhas com colunas vazias.')\n",
    "print(apr.shape)\n",
    "apr.head(5)"
   ]
  },
  {
   "cell_type": "markdown",
   "id": "05e3b473",
   "metadata": {
    "papermill": {
     "duration": 0.024849,
     "end_time": "2024-04-30T14:30:20.997948",
     "exception": false,
     "start_time": "2024-04-30T14:30:20.973099",
     "status": "completed"
    },
    "tags": []
   },
   "source": [
    "Um último ajusto, vamos verificar a existência de linhas duplicadas no conjunto de dados utilizando da coluna 'ID'."
   ]
  },
  {
   "cell_type": "code",
   "execution_count": 6,
   "id": "8a03e28a",
   "metadata": {
    "execution": {
     "iopub.execute_input": "2024-04-30T14:30:21.048402Z",
     "iopub.status.busy": "2024-04-30T14:30:21.048020Z",
     "iopub.status.idle": "2024-04-30T14:30:21.126989Z",
     "shell.execute_reply": "2024-04-30T14:30:21.125556Z"
    },
    "papermill": {
     "duration": 0.10801,
     "end_time": "2024-04-30T14:30:21.129673",
     "exception": false,
     "start_time": "2024-04-30T14:30:21.021663",
     "status": "completed"
    },
    "tags": []
   },
   "outputs": [
    {
     "name": "stdout",
     "output_type": "stream",
     "text": [
      "Existe um total de 23 linhas duplicadas.\n"
     ]
    }
   ],
   "source": [
    "# Verificando se existe linhas duplicadas e sua quantidade\n",
    "if apr['ID'].nunique() == apr.shape[0]:\n",
    "    print('Não existem linhas duplicadas.')\n",
    "else:\n",
    "    vector = apr['ID'].value_counts() > 1\n",
    "    print(f'Existe um total de {vector.value_counts().iloc[1]} linhas duplicadas.')"
   ]
  },
  {
   "cell_type": "code",
   "execution_count": 7,
   "id": "759df992",
   "metadata": {
    "execution": {
     "iopub.execute_input": "2024-04-30T14:30:21.181378Z",
     "iopub.status.busy": "2024-04-30T14:30:21.180257Z",
     "iopub.status.idle": "2024-04-30T14:30:21.278217Z",
     "shell.execute_reply": "2024-04-30T14:30:21.276981Z"
    },
    "papermill": {
     "duration": 0.127625,
     "end_time": "2024-04-30T14:30:21.280942",
     "exception": false,
     "start_time": "2024-04-30T14:30:21.153317",
     "status": "completed"
    },
    "tags": []
   },
   "outputs": [
    {
     "name": "stdout",
     "output_type": "stream",
     "text": [
      "Foi removido 23 linhas duplicadas.\n"
     ]
    }
   ],
   "source": [
    "# Removendo linhas duplicadas\n",
    "before, _ = apr.shape\n",
    "apr.drop_duplicates(subset='ID', inplace=True)\n",
    "after, _ = apr.shape\n",
    "print(f'Foi removido {before-after} linhas duplicadas.')"
   ]
  },
  {
   "cell_type": "markdown",
   "id": "af0d10fa",
   "metadata": {
    "papermill": {
     "duration": 0.025249,
     "end_time": "2024-04-30T14:30:21.331582",
     "exception": false,
     "start_time": "2024-04-30T14:30:21.306333",
     "status": "completed"
    },
    "tags": []
   },
   "source": [
    "Por fim, vamos reajustar o indíce do conjunto de dados."
   ]
  },
  {
   "cell_type": "code",
   "execution_count": 8,
   "id": "a5ed3bbe",
   "metadata": {
    "execution": {
     "iopub.execute_input": "2024-04-30T14:30:21.384234Z",
     "iopub.status.busy": "2024-04-30T14:30:21.383443Z",
     "iopub.status.idle": "2024-04-30T14:30:21.404416Z",
     "shell.execute_reply": "2024-04-30T14:30:21.403263Z"
    },
    "papermill": {
     "duration": 0.049097,
     "end_time": "2024-04-30T14:30:21.406926",
     "exception": false,
     "start_time": "2024-04-30T14:30:21.357829",
     "status": "completed"
    },
    "tags": []
   },
   "outputs": [
    {
     "data": {
      "text/html": [
       "<div>\n",
       "<style scoped>\n",
       "    .dataframe tbody tr th:only-of-type {\n",
       "        vertical-align: middle;\n",
       "    }\n",
       "\n",
       "    .dataframe tbody tr th {\n",
       "        vertical-align: top;\n",
       "    }\n",
       "\n",
       "    .dataframe thead th {\n",
       "        text-align: right;\n",
       "    }\n",
       "</style>\n",
       "<table border=\"1\" class=\"dataframe\">\n",
       "  <thead>\n",
       "    <tr style=\"text-align: right;\">\n",
       "      <th></th>\n",
       "      <th>ID</th>\n",
       "      <th>CODE_GENDER</th>\n",
       "      <th>FLAG_OWN_CAR</th>\n",
       "      <th>FLAG_OWN_REALTY</th>\n",
       "      <th>CNT_CHILDREN</th>\n",
       "      <th>AMT_INCOME_TOTAL</th>\n",
       "      <th>NAME_INCOME_TYPE</th>\n",
       "      <th>NAME_EDUCATION_TYPE</th>\n",
       "      <th>NAME_FAMILY_STATUS</th>\n",
       "      <th>NAME_HOUSING_TYPE</th>\n",
       "      <th>DAYS_BIRTH</th>\n",
       "      <th>DAYS_EMPLOYED</th>\n",
       "      <th>FLAG_MOBIL</th>\n",
       "      <th>FLAG_WORK_PHONE</th>\n",
       "      <th>FLAG_PHONE</th>\n",
       "      <th>FLAG_EMAIL</th>\n",
       "      <th>OCCUPATION_TYPE</th>\n",
       "      <th>CNT_FAM_MEMBERS</th>\n",
       "    </tr>\n",
       "  </thead>\n",
       "  <tbody>\n",
       "    <tr>\n",
       "      <th>0</th>\n",
       "      <td>5008806</td>\n",
       "      <td>0</td>\n",
       "      <td>1</td>\n",
       "      <td>1</td>\n",
       "      <td>0</td>\n",
       "      <td>112500.0</td>\n",
       "      <td>Working</td>\n",
       "      <td>Secondary / secondary special</td>\n",
       "      <td>Married</td>\n",
       "      <td>House / apartment</td>\n",
       "      <td>-21474</td>\n",
       "      <td>-1134</td>\n",
       "      <td>1</td>\n",
       "      <td>0</td>\n",
       "      <td>0</td>\n",
       "      <td>0</td>\n",
       "      <td>Security staff</td>\n",
       "      <td>2</td>\n",
       "    </tr>\n",
       "    <tr>\n",
       "      <th>1</th>\n",
       "      <td>5008808</td>\n",
       "      <td>1</td>\n",
       "      <td>0</td>\n",
       "      <td>1</td>\n",
       "      <td>0</td>\n",
       "      <td>270000.0</td>\n",
       "      <td>Commercial associate</td>\n",
       "      <td>Secondary / secondary special</td>\n",
       "      <td>Single / not married</td>\n",
       "      <td>House / apartment</td>\n",
       "      <td>-19110</td>\n",
       "      <td>-3051</td>\n",
       "      <td>1</td>\n",
       "      <td>0</td>\n",
       "      <td>1</td>\n",
       "      <td>1</td>\n",
       "      <td>Sales staff</td>\n",
       "      <td>1</td>\n",
       "    </tr>\n",
       "    <tr>\n",
       "      <th>2</th>\n",
       "      <td>5008809</td>\n",
       "      <td>1</td>\n",
       "      <td>0</td>\n",
       "      <td>1</td>\n",
       "      <td>0</td>\n",
       "      <td>270000.0</td>\n",
       "      <td>Commercial associate</td>\n",
       "      <td>Secondary / secondary special</td>\n",
       "      <td>Single / not married</td>\n",
       "      <td>House / apartment</td>\n",
       "      <td>-19110</td>\n",
       "      <td>-3051</td>\n",
       "      <td>1</td>\n",
       "      <td>0</td>\n",
       "      <td>1</td>\n",
       "      <td>1</td>\n",
       "      <td>Sales staff</td>\n",
       "      <td>1</td>\n",
       "    </tr>\n",
       "    <tr>\n",
       "      <th>3</th>\n",
       "      <td>5008810</td>\n",
       "      <td>1</td>\n",
       "      <td>0</td>\n",
       "      <td>1</td>\n",
       "      <td>0</td>\n",
       "      <td>270000.0</td>\n",
       "      <td>Commercial associate</td>\n",
       "      <td>Secondary / secondary special</td>\n",
       "      <td>Single / not married</td>\n",
       "      <td>House / apartment</td>\n",
       "      <td>-19110</td>\n",
       "      <td>-3051</td>\n",
       "      <td>1</td>\n",
       "      <td>0</td>\n",
       "      <td>1</td>\n",
       "      <td>1</td>\n",
       "      <td>Sales staff</td>\n",
       "      <td>1</td>\n",
       "    </tr>\n",
       "    <tr>\n",
       "      <th>4</th>\n",
       "      <td>5008811</td>\n",
       "      <td>1</td>\n",
       "      <td>0</td>\n",
       "      <td>1</td>\n",
       "      <td>0</td>\n",
       "      <td>270000.0</td>\n",
       "      <td>Commercial associate</td>\n",
       "      <td>Secondary / secondary special</td>\n",
       "      <td>Single / not married</td>\n",
       "      <td>House / apartment</td>\n",
       "      <td>-19110</td>\n",
       "      <td>-3051</td>\n",
       "      <td>1</td>\n",
       "      <td>0</td>\n",
       "      <td>1</td>\n",
       "      <td>1</td>\n",
       "      <td>Sales staff</td>\n",
       "      <td>1</td>\n",
       "    </tr>\n",
       "  </tbody>\n",
       "</table>\n",
       "</div>"
      ],
      "text/plain": [
       "        ID  CODE_GENDER  FLAG_OWN_CAR  FLAG_OWN_REALTY  CNT_CHILDREN  \\\n",
       "0  5008806            0             1                1             0   \n",
       "1  5008808            1             0                1             0   \n",
       "2  5008809            1             0                1             0   \n",
       "3  5008810            1             0                1             0   \n",
       "4  5008811            1             0                1             0   \n",
       "\n",
       "   AMT_INCOME_TOTAL      NAME_INCOME_TYPE            NAME_EDUCATION_TYPE  \\\n",
       "0          112500.0               Working  Secondary / secondary special   \n",
       "1          270000.0  Commercial associate  Secondary / secondary special   \n",
       "2          270000.0  Commercial associate  Secondary / secondary special   \n",
       "3          270000.0  Commercial associate  Secondary / secondary special   \n",
       "4          270000.0  Commercial associate  Secondary / secondary special   \n",
       "\n",
       "     NAME_FAMILY_STATUS  NAME_HOUSING_TYPE  DAYS_BIRTH  DAYS_EMPLOYED  \\\n",
       "0               Married  House / apartment      -21474          -1134   \n",
       "1  Single / not married  House / apartment      -19110          -3051   \n",
       "2  Single / not married  House / apartment      -19110          -3051   \n",
       "3  Single / not married  House / apartment      -19110          -3051   \n",
       "4  Single / not married  House / apartment      -19110          -3051   \n",
       "\n",
       "   FLAG_MOBIL  FLAG_WORK_PHONE  FLAG_PHONE  FLAG_EMAIL OCCUPATION_TYPE  \\\n",
       "0           1                0           0           0  Security staff   \n",
       "1           1                0           1           1     Sales staff   \n",
       "2           1                0           1           1     Sales staff   \n",
       "3           1                0           1           1     Sales staff   \n",
       "4           1                0           1           1     Sales staff   \n",
       "\n",
       "   CNT_FAM_MEMBERS  \n",
       "0                2  \n",
       "1                1  \n",
       "2                1  \n",
       "3                1  \n",
       "4                1  "
      ]
     },
     "execution_count": 8,
     "metadata": {},
     "output_type": "execute_result"
    }
   ],
   "source": [
    "apr.reset_index(drop=True, inplace=True)\n",
    "apr.head(5)"
   ]
  },
  {
   "cell_type": "markdown",
   "id": "3d6c8528",
   "metadata": {
    "papermill": {
     "duration": 0.024045,
     "end_time": "2024-04-30T14:30:21.455657",
     "exception": false,
     "start_time": "2024-04-30T14:30:21.431612",
     "status": "completed"
    },
    "tags": []
   },
   "source": [
    "Antes de rosseguirmos para a próxima etapa, vamos coletar os metadados do conjunto de dados atual e armazenar numa variável para comparação futura."
   ]
  },
  {
   "cell_type": "code",
   "execution_count": 9,
   "id": "610b605f",
   "metadata": {
    "execution": {
     "iopub.execute_input": "2024-04-30T14:30:21.507711Z",
     "iopub.status.busy": "2024-04-30T14:30:21.507262Z",
     "iopub.status.idle": "2024-04-30T14:30:21.525257Z",
     "shell.execute_reply": "2024-04-30T14:30:21.523806Z"
    },
    "papermill": {
     "duration": 0.047308,
     "end_time": "2024-04-30T14:30:21.528107",
     "exception": false,
     "start_time": "2024-04-30T14:30:21.480799",
     "status": "completed"
    },
    "tags": []
   },
   "outputs": [
    {
     "data": {
      "text/html": [
       "<div>\n",
       "<style scoped>\n",
       "    .dataframe tbody tr th:only-of-type {\n",
       "        vertical-align: middle;\n",
       "    }\n",
       "\n",
       "    .dataframe tbody tr th {\n",
       "        vertical-align: top;\n",
       "    }\n",
       "\n",
       "    .dataframe thead th {\n",
       "        text-align: right;\n",
       "    }\n",
       "</style>\n",
       "<table border=\"1\" class=\"dataframe\">\n",
       "  <thead>\n",
       "    <tr style=\"text-align: right;\">\n",
       "      <th></th>\n",
       "      <th>column</th>\n",
       "      <th>dtype</th>\n",
       "    </tr>\n",
       "  </thead>\n",
       "  <tbody>\n",
       "    <tr>\n",
       "      <th>0</th>\n",
       "      <td>ID</td>\n",
       "      <td>int64</td>\n",
       "    </tr>\n",
       "    <tr>\n",
       "      <th>1</th>\n",
       "      <td>CODE_GENDER</td>\n",
       "      <td>int64</td>\n",
       "    </tr>\n",
       "    <tr>\n",
       "      <th>2</th>\n",
       "      <td>FLAG_OWN_CAR</td>\n",
       "      <td>int64</td>\n",
       "    </tr>\n",
       "    <tr>\n",
       "      <th>3</th>\n",
       "      <td>FLAG_OWN_REALTY</td>\n",
       "      <td>int64</td>\n",
       "    </tr>\n",
       "    <tr>\n",
       "      <th>4</th>\n",
       "      <td>CNT_CHILDREN</td>\n",
       "      <td>int64</td>\n",
       "    </tr>\n",
       "    <tr>\n",
       "      <th>5</th>\n",
       "      <td>AMT_INCOME_TOTAL</td>\n",
       "      <td>float64</td>\n",
       "    </tr>\n",
       "    <tr>\n",
       "      <th>6</th>\n",
       "      <td>NAME_INCOME_TYPE</td>\n",
       "      <td>object</td>\n",
       "    </tr>\n",
       "    <tr>\n",
       "      <th>7</th>\n",
       "      <td>NAME_EDUCATION_TYPE</td>\n",
       "      <td>object</td>\n",
       "    </tr>\n",
       "    <tr>\n",
       "      <th>8</th>\n",
       "      <td>NAME_FAMILY_STATUS</td>\n",
       "      <td>object</td>\n",
       "    </tr>\n",
       "    <tr>\n",
       "      <th>9</th>\n",
       "      <td>NAME_HOUSING_TYPE</td>\n",
       "      <td>object</td>\n",
       "    </tr>\n",
       "    <tr>\n",
       "      <th>10</th>\n",
       "      <td>DAYS_BIRTH</td>\n",
       "      <td>int64</td>\n",
       "    </tr>\n",
       "    <tr>\n",
       "      <th>11</th>\n",
       "      <td>DAYS_EMPLOYED</td>\n",
       "      <td>int64</td>\n",
       "    </tr>\n",
       "    <tr>\n",
       "      <th>12</th>\n",
       "      <td>FLAG_MOBIL</td>\n",
       "      <td>int64</td>\n",
       "    </tr>\n",
       "    <tr>\n",
       "      <th>13</th>\n",
       "      <td>FLAG_WORK_PHONE</td>\n",
       "      <td>int64</td>\n",
       "    </tr>\n",
       "    <tr>\n",
       "      <th>14</th>\n",
       "      <td>FLAG_PHONE</td>\n",
       "      <td>int64</td>\n",
       "    </tr>\n",
       "    <tr>\n",
       "      <th>15</th>\n",
       "      <td>FLAG_EMAIL</td>\n",
       "      <td>int64</td>\n",
       "    </tr>\n",
       "    <tr>\n",
       "      <th>16</th>\n",
       "      <td>OCCUPATION_TYPE</td>\n",
       "      <td>object</td>\n",
       "    </tr>\n",
       "    <tr>\n",
       "      <th>17</th>\n",
       "      <td>CNT_FAM_MEMBERS</td>\n",
       "      <td>int64</td>\n",
       "    </tr>\n",
       "  </tbody>\n",
       "</table>\n",
       "</div>"
      ],
      "text/plain": [
       "                 column    dtype\n",
       "0                    ID    int64\n",
       "1           CODE_GENDER    int64\n",
       "2          FLAG_OWN_CAR    int64\n",
       "3       FLAG_OWN_REALTY    int64\n",
       "4          CNT_CHILDREN    int64\n",
       "5      AMT_INCOME_TOTAL  float64\n",
       "6      NAME_INCOME_TYPE   object\n",
       "7   NAME_EDUCATION_TYPE   object\n",
       "8    NAME_FAMILY_STATUS   object\n",
       "9     NAME_HOUSING_TYPE   object\n",
       "10           DAYS_BIRTH    int64\n",
       "11        DAYS_EMPLOYED    int64\n",
       "12           FLAG_MOBIL    int64\n",
       "13      FLAG_WORK_PHONE    int64\n",
       "14           FLAG_PHONE    int64\n",
       "15           FLAG_EMAIL    int64\n",
       "16      OCCUPATION_TYPE   object\n",
       "17      CNT_FAM_MEMBERS    int64"
      ]
     },
     "execution_count": 9,
     "metadata": {},
     "output_type": "execute_result"
    }
   ],
   "source": [
    "def metadata(df):\n",
    "    return pd.DataFrame({'column': [col for col in df.columns], 'dtype': [df[col].dtype for col in df.columns]})\n",
    "\n",
    "apr_before = metadata(apr)\n",
    "apr_before"
   ]
  },
  {
   "cell_type": "markdown",
   "id": "08a76fea",
   "metadata": {
    "papermill": {
     "duration": 0.023633,
     "end_time": "2024-04-30T14:30:21.578378",
     "exception": false,
     "start_time": "2024-04-30T14:30:21.554745",
     "status": "completed"
    },
    "tags": []
   },
   "source": [
    "Através desse podemos notar que ainda existe transformações a serem feitas no conjunto de dados. "
   ]
  },
  {
   "cell_type": "markdown",
   "id": "6265dc40",
   "metadata": {
    "papermill": {
     "duration": 0.08815,
     "end_time": "2024-04-30T14:30:21.691883",
     "exception": false,
     "start_time": "2024-04-30T14:30:21.603733",
     "status": "completed"
    },
    "tags": []
   },
   "source": [
    "## 1.2 Transformando Variáveis Qualitativas\n",
    "Para que os dados sejam processados pelo modelo, é necessário transformar as variáveis **qualitativas** em **quantitativas discretas**, em outras palavras, transformar **variáveis categóricas** em **flags/dummies** para que o algoritmo de árvore de decisão consiga processar adequadamente esses dados.\n",
    "\n",
    "Observando os metadados do conjunto, existem cinco colunas que devem passar por esse processo de transformação, são elas:\n",
    "- NAME_INCOME_TYPE\n",
    "- NAME_EDUCATION_TYPE\n",
    "- NAME_FAMILY_STATUS\n",
    "- NAME_HOUSING_TYPE\n",
    "- OCCUPATION_TYPE"
   ]
  },
  {
   "cell_type": "code",
   "execution_count": 10,
   "id": "6226656f",
   "metadata": {
    "execution": {
     "iopub.execute_input": "2024-04-30T14:30:21.743953Z",
     "iopub.status.busy": "2024-04-30T14:30:21.743522Z",
     "iopub.status.idle": "2024-04-30T14:30:21.992741Z",
     "shell.execute_reply": "2024-04-30T14:30:21.991555Z"
    },
    "papermill": {
     "duration": 0.27848,
     "end_time": "2024-04-30T14:30:21.995375",
     "exception": false,
     "start_time": "2024-04-30T14:30:21.716895",
     "status": "completed"
    },
    "tags": []
   },
   "outputs": [
    {
     "data": {
      "text/html": [
       "<div>\n",
       "<style scoped>\n",
       "    .dataframe tbody tr th:only-of-type {\n",
       "        vertical-align: middle;\n",
       "    }\n",
       "\n",
       "    .dataframe tbody tr th {\n",
       "        vertical-align: top;\n",
       "    }\n",
       "\n",
       "    .dataframe thead th {\n",
       "        text-align: right;\n",
       "    }\n",
       "</style>\n",
       "<table border=\"1\" class=\"dataframe\">\n",
       "  <thead>\n",
       "    <tr style=\"text-align: right;\">\n",
       "      <th></th>\n",
       "      <th>NAME_INCOME_TYPE_Commercial associate</th>\n",
       "      <th>NAME_INCOME_TYPE_Pensioner</th>\n",
       "      <th>NAME_INCOME_TYPE_State servant</th>\n",
       "      <th>NAME_INCOME_TYPE_Student</th>\n",
       "      <th>NAME_INCOME_TYPE_Working</th>\n",
       "      <th>NAME_EDUCATION_TYPE_Academic degree</th>\n",
       "      <th>NAME_EDUCATION_TYPE_Higher education</th>\n",
       "      <th>NAME_EDUCATION_TYPE_Incomplete higher</th>\n",
       "      <th>NAME_EDUCATION_TYPE_Lower secondary</th>\n",
       "      <th>NAME_EDUCATION_TYPE_Secondary / secondary special</th>\n",
       "      <th>...</th>\n",
       "      <th>OCCUPATION_TYPE_Laborers</th>\n",
       "      <th>OCCUPATION_TYPE_Low-skill Laborers</th>\n",
       "      <th>OCCUPATION_TYPE_Managers</th>\n",
       "      <th>OCCUPATION_TYPE_Medicine staff</th>\n",
       "      <th>OCCUPATION_TYPE_Private service staff</th>\n",
       "      <th>OCCUPATION_TYPE_Realty agents</th>\n",
       "      <th>OCCUPATION_TYPE_Sales staff</th>\n",
       "      <th>OCCUPATION_TYPE_Secretaries</th>\n",
       "      <th>OCCUPATION_TYPE_Security staff</th>\n",
       "      <th>OCCUPATION_TYPE_Waiters/barmen staff</th>\n",
       "    </tr>\n",
       "  </thead>\n",
       "  <tbody>\n",
       "    <tr>\n",
       "      <th>0</th>\n",
       "      <td>0</td>\n",
       "      <td>0</td>\n",
       "      <td>0</td>\n",
       "      <td>0</td>\n",
       "      <td>1</td>\n",
       "      <td>0</td>\n",
       "      <td>0</td>\n",
       "      <td>0</td>\n",
       "      <td>0</td>\n",
       "      <td>1</td>\n",
       "      <td>...</td>\n",
       "      <td>0</td>\n",
       "      <td>0</td>\n",
       "      <td>0</td>\n",
       "      <td>0</td>\n",
       "      <td>0</td>\n",
       "      <td>0</td>\n",
       "      <td>0</td>\n",
       "      <td>0</td>\n",
       "      <td>1</td>\n",
       "      <td>0</td>\n",
       "    </tr>\n",
       "    <tr>\n",
       "      <th>1</th>\n",
       "      <td>1</td>\n",
       "      <td>0</td>\n",
       "      <td>0</td>\n",
       "      <td>0</td>\n",
       "      <td>0</td>\n",
       "      <td>0</td>\n",
       "      <td>0</td>\n",
       "      <td>0</td>\n",
       "      <td>0</td>\n",
       "      <td>1</td>\n",
       "      <td>...</td>\n",
       "      <td>0</td>\n",
       "      <td>0</td>\n",
       "      <td>0</td>\n",
       "      <td>0</td>\n",
       "      <td>0</td>\n",
       "      <td>0</td>\n",
       "      <td>1</td>\n",
       "      <td>0</td>\n",
       "      <td>0</td>\n",
       "      <td>0</td>\n",
       "    </tr>\n",
       "    <tr>\n",
       "      <th>2</th>\n",
       "      <td>1</td>\n",
       "      <td>0</td>\n",
       "      <td>0</td>\n",
       "      <td>0</td>\n",
       "      <td>0</td>\n",
       "      <td>0</td>\n",
       "      <td>0</td>\n",
       "      <td>0</td>\n",
       "      <td>0</td>\n",
       "      <td>1</td>\n",
       "      <td>...</td>\n",
       "      <td>0</td>\n",
       "      <td>0</td>\n",
       "      <td>0</td>\n",
       "      <td>0</td>\n",
       "      <td>0</td>\n",
       "      <td>0</td>\n",
       "      <td>1</td>\n",
       "      <td>0</td>\n",
       "      <td>0</td>\n",
       "      <td>0</td>\n",
       "    </tr>\n",
       "    <tr>\n",
       "      <th>3</th>\n",
       "      <td>1</td>\n",
       "      <td>0</td>\n",
       "      <td>0</td>\n",
       "      <td>0</td>\n",
       "      <td>0</td>\n",
       "      <td>0</td>\n",
       "      <td>0</td>\n",
       "      <td>0</td>\n",
       "      <td>0</td>\n",
       "      <td>1</td>\n",
       "      <td>...</td>\n",
       "      <td>0</td>\n",
       "      <td>0</td>\n",
       "      <td>0</td>\n",
       "      <td>0</td>\n",
       "      <td>0</td>\n",
       "      <td>0</td>\n",
       "      <td>1</td>\n",
       "      <td>0</td>\n",
       "      <td>0</td>\n",
       "      <td>0</td>\n",
       "    </tr>\n",
       "    <tr>\n",
       "      <th>4</th>\n",
       "      <td>1</td>\n",
       "      <td>0</td>\n",
       "      <td>0</td>\n",
       "      <td>0</td>\n",
       "      <td>0</td>\n",
       "      <td>0</td>\n",
       "      <td>0</td>\n",
       "      <td>0</td>\n",
       "      <td>0</td>\n",
       "      <td>1</td>\n",
       "      <td>...</td>\n",
       "      <td>0</td>\n",
       "      <td>0</td>\n",
       "      <td>0</td>\n",
       "      <td>0</td>\n",
       "      <td>0</td>\n",
       "      <td>0</td>\n",
       "      <td>1</td>\n",
       "      <td>0</td>\n",
       "      <td>0</td>\n",
       "      <td>0</td>\n",
       "    </tr>\n",
       "  </tbody>\n",
       "</table>\n",
       "<p>5 rows × 39 columns</p>\n",
       "</div>"
      ],
      "text/plain": [
       "   NAME_INCOME_TYPE_Commercial associate  NAME_INCOME_TYPE_Pensioner  \\\n",
       "0                                      0                           0   \n",
       "1                                      1                           0   \n",
       "2                                      1                           0   \n",
       "3                                      1                           0   \n",
       "4                                      1                           0   \n",
       "\n",
       "   NAME_INCOME_TYPE_State servant  NAME_INCOME_TYPE_Student  \\\n",
       "0                               0                         0   \n",
       "1                               0                         0   \n",
       "2                               0                         0   \n",
       "3                               0                         0   \n",
       "4                               0                         0   \n",
       "\n",
       "   NAME_INCOME_TYPE_Working  NAME_EDUCATION_TYPE_Academic degree  \\\n",
       "0                         1                                    0   \n",
       "1                         0                                    0   \n",
       "2                         0                                    0   \n",
       "3                         0                                    0   \n",
       "4                         0                                    0   \n",
       "\n",
       "   NAME_EDUCATION_TYPE_Higher education  \\\n",
       "0                                     0   \n",
       "1                                     0   \n",
       "2                                     0   \n",
       "3                                     0   \n",
       "4                                     0   \n",
       "\n",
       "   NAME_EDUCATION_TYPE_Incomplete higher  NAME_EDUCATION_TYPE_Lower secondary  \\\n",
       "0                                      0                                    0   \n",
       "1                                      0                                    0   \n",
       "2                                      0                                    0   \n",
       "3                                      0                                    0   \n",
       "4                                      0                                    0   \n",
       "\n",
       "   NAME_EDUCATION_TYPE_Secondary / secondary special  ...  \\\n",
       "0                                                  1  ...   \n",
       "1                                                  1  ...   \n",
       "2                                                  1  ...   \n",
       "3                                                  1  ...   \n",
       "4                                                  1  ...   \n",
       "\n",
       "   OCCUPATION_TYPE_Laborers  OCCUPATION_TYPE_Low-skill Laborers  \\\n",
       "0                         0                                   0   \n",
       "1                         0                                   0   \n",
       "2                         0                                   0   \n",
       "3                         0                                   0   \n",
       "4                         0                                   0   \n",
       "\n",
       "   OCCUPATION_TYPE_Managers  OCCUPATION_TYPE_Medicine staff  \\\n",
       "0                         0                               0   \n",
       "1                         0                               0   \n",
       "2                         0                               0   \n",
       "3                         0                               0   \n",
       "4                         0                               0   \n",
       "\n",
       "   OCCUPATION_TYPE_Private service staff  OCCUPATION_TYPE_Realty agents  \\\n",
       "0                                      0                              0   \n",
       "1                                      0                              0   \n",
       "2                                      0                              0   \n",
       "3                                      0                              0   \n",
       "4                                      0                              0   \n",
       "\n",
       "   OCCUPATION_TYPE_Sales staff  OCCUPATION_TYPE_Secretaries  \\\n",
       "0                            0                            0   \n",
       "1                            1                            0   \n",
       "2                            1                            0   \n",
       "3                            1                            0   \n",
       "4                            1                            0   \n",
       "\n",
       "   OCCUPATION_TYPE_Security staff  OCCUPATION_TYPE_Waiters/barmen staff  \n",
       "0                               1                                     0  \n",
       "1                               0                                     0  \n",
       "2                               0                                     0  \n",
       "3                               0                                     0  \n",
       "4                               0                                     0  \n",
       "\n",
       "[5 rows x 39 columns]"
      ]
     },
     "execution_count": 10,
     "metadata": {},
     "output_type": "execute_result"
    }
   ],
   "source": [
    "# Criando dummies (v. quantitativas discretas)\n",
    "v_qual = apr.loc[:, apr.dtypes == object]\n",
    "dummies = pd.get_dummies(data=v_qual)\n",
    "dummies = dummies.astype(np.int64)\n",
    "dummies.head(5)"
   ]
  },
  {
   "cell_type": "markdown",
   "id": "74444ac8",
   "metadata": {
    "papermill": {
     "duration": 0.02817,
     "end_time": "2024-04-30T14:30:22.050615",
     "exception": false,
     "start_time": "2024-04-30T14:30:22.022445",
     "status": "completed"
    },
    "tags": []
   },
   "source": [
    "Agora que temos um conjunto de dados com todas as flags necessárias, podemos substituir elas no conjunto de dados inicial."
   ]
  },
  {
   "cell_type": "code",
   "execution_count": 11,
   "id": "87845486",
   "metadata": {
    "execution": {
     "iopub.execute_input": "2024-04-30T14:30:22.107258Z",
     "iopub.status.busy": "2024-04-30T14:30:22.106543Z",
     "iopub.status.idle": "2024-04-30T14:30:22.129647Z",
     "shell.execute_reply": "2024-04-30T14:30:22.128170Z"
    },
    "papermill": {
     "duration": 0.057105,
     "end_time": "2024-04-30T14:30:22.133655",
     "exception": false,
     "start_time": "2024-04-30T14:30:22.076550",
     "status": "completed"
    },
    "tags": []
   },
   "outputs": [
    {
     "data": {
      "text/html": [
       "<div>\n",
       "<style scoped>\n",
       "    .dataframe tbody tr th:only-of-type {\n",
       "        vertical-align: middle;\n",
       "    }\n",
       "\n",
       "    .dataframe tbody tr th {\n",
       "        vertical-align: top;\n",
       "    }\n",
       "\n",
       "    .dataframe thead th {\n",
       "        text-align: right;\n",
       "    }\n",
       "</style>\n",
       "<table border=\"1\" class=\"dataframe\">\n",
       "  <thead>\n",
       "    <tr style=\"text-align: right;\">\n",
       "      <th></th>\n",
       "      <th>ID</th>\n",
       "      <th>CODE_GENDER</th>\n",
       "      <th>FLAG_OWN_CAR</th>\n",
       "      <th>FLAG_OWN_REALTY</th>\n",
       "      <th>CNT_CHILDREN</th>\n",
       "      <th>AMT_INCOME_TOTAL</th>\n",
       "      <th>DAYS_BIRTH</th>\n",
       "      <th>DAYS_EMPLOYED</th>\n",
       "      <th>FLAG_MOBIL</th>\n",
       "      <th>FLAG_WORK_PHONE</th>\n",
       "      <th>...</th>\n",
       "      <th>OCCUPATION_TYPE_Laborers</th>\n",
       "      <th>OCCUPATION_TYPE_Low-skill Laborers</th>\n",
       "      <th>OCCUPATION_TYPE_Managers</th>\n",
       "      <th>OCCUPATION_TYPE_Medicine staff</th>\n",
       "      <th>OCCUPATION_TYPE_Private service staff</th>\n",
       "      <th>OCCUPATION_TYPE_Realty agents</th>\n",
       "      <th>OCCUPATION_TYPE_Sales staff</th>\n",
       "      <th>OCCUPATION_TYPE_Secretaries</th>\n",
       "      <th>OCCUPATION_TYPE_Security staff</th>\n",
       "      <th>OCCUPATION_TYPE_Waiters/barmen staff</th>\n",
       "    </tr>\n",
       "  </thead>\n",
       "  <tbody>\n",
       "    <tr>\n",
       "      <th>0</th>\n",
       "      <td>5008806</td>\n",
       "      <td>0</td>\n",
       "      <td>1</td>\n",
       "      <td>1</td>\n",
       "      <td>0</td>\n",
       "      <td>112500.0</td>\n",
       "      <td>-21474</td>\n",
       "      <td>-1134</td>\n",
       "      <td>1</td>\n",
       "      <td>0</td>\n",
       "      <td>...</td>\n",
       "      <td>0</td>\n",
       "      <td>0</td>\n",
       "      <td>0</td>\n",
       "      <td>0</td>\n",
       "      <td>0</td>\n",
       "      <td>0</td>\n",
       "      <td>0</td>\n",
       "      <td>0</td>\n",
       "      <td>1</td>\n",
       "      <td>0</td>\n",
       "    </tr>\n",
       "    <tr>\n",
       "      <th>1</th>\n",
       "      <td>5008808</td>\n",
       "      <td>1</td>\n",
       "      <td>0</td>\n",
       "      <td>1</td>\n",
       "      <td>0</td>\n",
       "      <td>270000.0</td>\n",
       "      <td>-19110</td>\n",
       "      <td>-3051</td>\n",
       "      <td>1</td>\n",
       "      <td>0</td>\n",
       "      <td>...</td>\n",
       "      <td>0</td>\n",
       "      <td>0</td>\n",
       "      <td>0</td>\n",
       "      <td>0</td>\n",
       "      <td>0</td>\n",
       "      <td>0</td>\n",
       "      <td>1</td>\n",
       "      <td>0</td>\n",
       "      <td>0</td>\n",
       "      <td>0</td>\n",
       "    </tr>\n",
       "    <tr>\n",
       "      <th>2</th>\n",
       "      <td>5008809</td>\n",
       "      <td>1</td>\n",
       "      <td>0</td>\n",
       "      <td>1</td>\n",
       "      <td>0</td>\n",
       "      <td>270000.0</td>\n",
       "      <td>-19110</td>\n",
       "      <td>-3051</td>\n",
       "      <td>1</td>\n",
       "      <td>0</td>\n",
       "      <td>...</td>\n",
       "      <td>0</td>\n",
       "      <td>0</td>\n",
       "      <td>0</td>\n",
       "      <td>0</td>\n",
       "      <td>0</td>\n",
       "      <td>0</td>\n",
       "      <td>1</td>\n",
       "      <td>0</td>\n",
       "      <td>0</td>\n",
       "      <td>0</td>\n",
       "    </tr>\n",
       "    <tr>\n",
       "      <th>3</th>\n",
       "      <td>5008810</td>\n",
       "      <td>1</td>\n",
       "      <td>0</td>\n",
       "      <td>1</td>\n",
       "      <td>0</td>\n",
       "      <td>270000.0</td>\n",
       "      <td>-19110</td>\n",
       "      <td>-3051</td>\n",
       "      <td>1</td>\n",
       "      <td>0</td>\n",
       "      <td>...</td>\n",
       "      <td>0</td>\n",
       "      <td>0</td>\n",
       "      <td>0</td>\n",
       "      <td>0</td>\n",
       "      <td>0</td>\n",
       "      <td>0</td>\n",
       "      <td>1</td>\n",
       "      <td>0</td>\n",
       "      <td>0</td>\n",
       "      <td>0</td>\n",
       "    </tr>\n",
       "    <tr>\n",
       "      <th>4</th>\n",
       "      <td>5008811</td>\n",
       "      <td>1</td>\n",
       "      <td>0</td>\n",
       "      <td>1</td>\n",
       "      <td>0</td>\n",
       "      <td>270000.0</td>\n",
       "      <td>-19110</td>\n",
       "      <td>-3051</td>\n",
       "      <td>1</td>\n",
       "      <td>0</td>\n",
       "      <td>...</td>\n",
       "      <td>0</td>\n",
       "      <td>0</td>\n",
       "      <td>0</td>\n",
       "      <td>0</td>\n",
       "      <td>0</td>\n",
       "      <td>0</td>\n",
       "      <td>1</td>\n",
       "      <td>0</td>\n",
       "      <td>0</td>\n",
       "      <td>0</td>\n",
       "    </tr>\n",
       "  </tbody>\n",
       "</table>\n",
       "<p>5 rows × 52 columns</p>\n",
       "</div>"
      ],
      "text/plain": [
       "        ID  CODE_GENDER  FLAG_OWN_CAR  FLAG_OWN_REALTY  CNT_CHILDREN  \\\n",
       "0  5008806            0             1                1             0   \n",
       "1  5008808            1             0                1             0   \n",
       "2  5008809            1             0                1             0   \n",
       "3  5008810            1             0                1             0   \n",
       "4  5008811            1             0                1             0   \n",
       "\n",
       "   AMT_INCOME_TOTAL  DAYS_BIRTH  DAYS_EMPLOYED  FLAG_MOBIL  FLAG_WORK_PHONE  \\\n",
       "0          112500.0      -21474          -1134           1                0   \n",
       "1          270000.0      -19110          -3051           1                0   \n",
       "2          270000.0      -19110          -3051           1                0   \n",
       "3          270000.0      -19110          -3051           1                0   \n",
       "4          270000.0      -19110          -3051           1                0   \n",
       "\n",
       "   ...  OCCUPATION_TYPE_Laborers  OCCUPATION_TYPE_Low-skill Laborers  \\\n",
       "0  ...                         0                                   0   \n",
       "1  ...                         0                                   0   \n",
       "2  ...                         0                                   0   \n",
       "3  ...                         0                                   0   \n",
       "4  ...                         0                                   0   \n",
       "\n",
       "   OCCUPATION_TYPE_Managers  OCCUPATION_TYPE_Medicine staff  \\\n",
       "0                         0                               0   \n",
       "1                         0                               0   \n",
       "2                         0                               0   \n",
       "3                         0                               0   \n",
       "4                         0                               0   \n",
       "\n",
       "   OCCUPATION_TYPE_Private service staff  OCCUPATION_TYPE_Realty agents  \\\n",
       "0                                      0                              0   \n",
       "1                                      0                              0   \n",
       "2                                      0                              0   \n",
       "3                                      0                              0   \n",
       "4                                      0                              0   \n",
       "\n",
       "   OCCUPATION_TYPE_Sales staff  OCCUPATION_TYPE_Secretaries  \\\n",
       "0                            0                            0   \n",
       "1                            1                            0   \n",
       "2                            1                            0   \n",
       "3                            1                            0   \n",
       "4                            1                            0   \n",
       "\n",
       "   OCCUPATION_TYPE_Security staff  OCCUPATION_TYPE_Waiters/barmen staff  \n",
       "0                               1                                     0  \n",
       "1                               0                                     0  \n",
       "2                               0                                     0  \n",
       "3                               0                                     0  \n",
       "4                               0                                     0  \n",
       "\n",
       "[5 rows x 52 columns]"
      ]
     },
     "execution_count": 11,
     "metadata": {},
     "output_type": "execute_result"
    }
   ],
   "source": [
    "# Substituindo v. qualitativas por dummies\n",
    "apr.drop(labels=v_qual, axis=1, inplace=True)\n",
    "apr = pd.concat([apr, dummies], axis=1)\n",
    "apr.head(5)"
   ]
  },
  {
   "cell_type": "markdown",
   "id": "f0ab2e71",
   "metadata": {
    "papermill": {
     "duration": 0.024402,
     "end_time": "2024-04-30T14:30:22.184009",
     "exception": false,
     "start_time": "2024-04-30T14:30:22.159607",
     "status": "completed"
    },
    "tags": []
   },
   "source": [
    "Para conferir as mudanças realizadas, vamos novamente retirar os metadados do conjunto de dados."
   ]
  },
  {
   "cell_type": "code",
   "execution_count": 12,
   "id": "9da58cc3",
   "metadata": {
    "execution": {
     "iopub.execute_input": "2024-04-30T14:30:22.239674Z",
     "iopub.status.busy": "2024-04-30T14:30:22.239260Z",
     "iopub.status.idle": "2024-04-30T14:30:22.258358Z",
     "shell.execute_reply": "2024-04-30T14:30:22.257210Z"
    },
    "papermill": {
     "duration": 0.048651,
     "end_time": "2024-04-30T14:30:22.260815",
     "exception": false,
     "start_time": "2024-04-30T14:30:22.212164",
     "status": "completed"
    },
    "tags": []
   },
   "outputs": [
    {
     "data": {
      "text/html": [
       "<div>\n",
       "<style scoped>\n",
       "    .dataframe tbody tr th:only-of-type {\n",
       "        vertical-align: middle;\n",
       "    }\n",
       "\n",
       "    .dataframe tbody tr th {\n",
       "        vertical-align: top;\n",
       "    }\n",
       "\n",
       "    .dataframe thead th {\n",
       "        text-align: right;\n",
       "    }\n",
       "</style>\n",
       "<table border=\"1\" class=\"dataframe\">\n",
       "  <thead>\n",
       "    <tr style=\"text-align: right;\">\n",
       "      <th></th>\n",
       "      <th>column</th>\n",
       "      <th>dtype</th>\n",
       "    </tr>\n",
       "  </thead>\n",
       "  <tbody>\n",
       "    <tr>\n",
       "      <th>0</th>\n",
       "      <td>ID</td>\n",
       "      <td>int64</td>\n",
       "    </tr>\n",
       "    <tr>\n",
       "      <th>1</th>\n",
       "      <td>CODE_GENDER</td>\n",
       "      <td>int64</td>\n",
       "    </tr>\n",
       "    <tr>\n",
       "      <th>2</th>\n",
       "      <td>FLAG_OWN_CAR</td>\n",
       "      <td>int64</td>\n",
       "    </tr>\n",
       "    <tr>\n",
       "      <th>3</th>\n",
       "      <td>FLAG_OWN_REALTY</td>\n",
       "      <td>int64</td>\n",
       "    </tr>\n",
       "    <tr>\n",
       "      <th>4</th>\n",
       "      <td>CNT_CHILDREN</td>\n",
       "      <td>int64</td>\n",
       "    </tr>\n",
       "    <tr>\n",
       "      <th>5</th>\n",
       "      <td>AMT_INCOME_TOTAL</td>\n",
       "      <td>float64</td>\n",
       "    </tr>\n",
       "    <tr>\n",
       "      <th>6</th>\n",
       "      <td>DAYS_BIRTH</td>\n",
       "      <td>int64</td>\n",
       "    </tr>\n",
       "    <tr>\n",
       "      <th>7</th>\n",
       "      <td>DAYS_EMPLOYED</td>\n",
       "      <td>int64</td>\n",
       "    </tr>\n",
       "    <tr>\n",
       "      <th>8</th>\n",
       "      <td>FLAG_MOBIL</td>\n",
       "      <td>int64</td>\n",
       "    </tr>\n",
       "    <tr>\n",
       "      <th>9</th>\n",
       "      <td>FLAG_WORK_PHONE</td>\n",
       "      <td>int64</td>\n",
       "    </tr>\n",
       "    <tr>\n",
       "      <th>10</th>\n",
       "      <td>FLAG_PHONE</td>\n",
       "      <td>int64</td>\n",
       "    </tr>\n",
       "    <tr>\n",
       "      <th>11</th>\n",
       "      <td>FLAG_EMAIL</td>\n",
       "      <td>int64</td>\n",
       "    </tr>\n",
       "    <tr>\n",
       "      <th>12</th>\n",
       "      <td>CNT_FAM_MEMBERS</td>\n",
       "      <td>int64</td>\n",
       "    </tr>\n",
       "    <tr>\n",
       "      <th>13</th>\n",
       "      <td>NAME_INCOME_TYPE_Commercial associate</td>\n",
       "      <td>int64</td>\n",
       "    </tr>\n",
       "    <tr>\n",
       "      <th>14</th>\n",
       "      <td>NAME_INCOME_TYPE_Pensioner</td>\n",
       "      <td>int64</td>\n",
       "    </tr>\n",
       "    <tr>\n",
       "      <th>15</th>\n",
       "      <td>NAME_INCOME_TYPE_State servant</td>\n",
       "      <td>int64</td>\n",
       "    </tr>\n",
       "    <tr>\n",
       "      <th>16</th>\n",
       "      <td>NAME_INCOME_TYPE_Student</td>\n",
       "      <td>int64</td>\n",
       "    </tr>\n",
       "    <tr>\n",
       "      <th>17</th>\n",
       "      <td>NAME_INCOME_TYPE_Working</td>\n",
       "      <td>int64</td>\n",
       "    </tr>\n",
       "    <tr>\n",
       "      <th>18</th>\n",
       "      <td>NAME_EDUCATION_TYPE_Academic degree</td>\n",
       "      <td>int64</td>\n",
       "    </tr>\n",
       "    <tr>\n",
       "      <th>19</th>\n",
       "      <td>NAME_EDUCATION_TYPE_Higher education</td>\n",
       "      <td>int64</td>\n",
       "    </tr>\n",
       "    <tr>\n",
       "      <th>20</th>\n",
       "      <td>NAME_EDUCATION_TYPE_Incomplete higher</td>\n",
       "      <td>int64</td>\n",
       "    </tr>\n",
       "    <tr>\n",
       "      <th>21</th>\n",
       "      <td>NAME_EDUCATION_TYPE_Lower secondary</td>\n",
       "      <td>int64</td>\n",
       "    </tr>\n",
       "    <tr>\n",
       "      <th>22</th>\n",
       "      <td>NAME_EDUCATION_TYPE_Secondary / secondary special</td>\n",
       "      <td>int64</td>\n",
       "    </tr>\n",
       "    <tr>\n",
       "      <th>23</th>\n",
       "      <td>NAME_FAMILY_STATUS_Civil marriage</td>\n",
       "      <td>int64</td>\n",
       "    </tr>\n",
       "    <tr>\n",
       "      <th>24</th>\n",
       "      <td>NAME_FAMILY_STATUS_Married</td>\n",
       "      <td>int64</td>\n",
       "    </tr>\n",
       "    <tr>\n",
       "      <th>25</th>\n",
       "      <td>NAME_FAMILY_STATUS_Separated</td>\n",
       "      <td>int64</td>\n",
       "    </tr>\n",
       "    <tr>\n",
       "      <th>26</th>\n",
       "      <td>NAME_FAMILY_STATUS_Single / not married</td>\n",
       "      <td>int64</td>\n",
       "    </tr>\n",
       "    <tr>\n",
       "      <th>27</th>\n",
       "      <td>NAME_FAMILY_STATUS_Widow</td>\n",
       "      <td>int64</td>\n",
       "    </tr>\n",
       "    <tr>\n",
       "      <th>28</th>\n",
       "      <td>NAME_HOUSING_TYPE_Co-op apartment</td>\n",
       "      <td>int64</td>\n",
       "    </tr>\n",
       "    <tr>\n",
       "      <th>29</th>\n",
       "      <td>NAME_HOUSING_TYPE_House / apartment</td>\n",
       "      <td>int64</td>\n",
       "    </tr>\n",
       "    <tr>\n",
       "      <th>30</th>\n",
       "      <td>NAME_HOUSING_TYPE_Municipal apartment</td>\n",
       "      <td>int64</td>\n",
       "    </tr>\n",
       "    <tr>\n",
       "      <th>31</th>\n",
       "      <td>NAME_HOUSING_TYPE_Office apartment</td>\n",
       "      <td>int64</td>\n",
       "    </tr>\n",
       "    <tr>\n",
       "      <th>32</th>\n",
       "      <td>NAME_HOUSING_TYPE_Rented apartment</td>\n",
       "      <td>int64</td>\n",
       "    </tr>\n",
       "    <tr>\n",
       "      <th>33</th>\n",
       "      <td>NAME_HOUSING_TYPE_With parents</td>\n",
       "      <td>int64</td>\n",
       "    </tr>\n",
       "    <tr>\n",
       "      <th>34</th>\n",
       "      <td>OCCUPATION_TYPE_Accountants</td>\n",
       "      <td>int64</td>\n",
       "    </tr>\n",
       "    <tr>\n",
       "      <th>35</th>\n",
       "      <td>OCCUPATION_TYPE_Cleaning staff</td>\n",
       "      <td>int64</td>\n",
       "    </tr>\n",
       "    <tr>\n",
       "      <th>36</th>\n",
       "      <td>OCCUPATION_TYPE_Cooking staff</td>\n",
       "      <td>int64</td>\n",
       "    </tr>\n",
       "    <tr>\n",
       "      <th>37</th>\n",
       "      <td>OCCUPATION_TYPE_Core staff</td>\n",
       "      <td>int64</td>\n",
       "    </tr>\n",
       "    <tr>\n",
       "      <th>38</th>\n",
       "      <td>OCCUPATION_TYPE_Drivers</td>\n",
       "      <td>int64</td>\n",
       "    </tr>\n",
       "    <tr>\n",
       "      <th>39</th>\n",
       "      <td>OCCUPATION_TYPE_HR staff</td>\n",
       "      <td>int64</td>\n",
       "    </tr>\n",
       "    <tr>\n",
       "      <th>40</th>\n",
       "      <td>OCCUPATION_TYPE_High skill tech staff</td>\n",
       "      <td>int64</td>\n",
       "    </tr>\n",
       "    <tr>\n",
       "      <th>41</th>\n",
       "      <td>OCCUPATION_TYPE_IT staff</td>\n",
       "      <td>int64</td>\n",
       "    </tr>\n",
       "    <tr>\n",
       "      <th>42</th>\n",
       "      <td>OCCUPATION_TYPE_Laborers</td>\n",
       "      <td>int64</td>\n",
       "    </tr>\n",
       "    <tr>\n",
       "      <th>43</th>\n",
       "      <td>OCCUPATION_TYPE_Low-skill Laborers</td>\n",
       "      <td>int64</td>\n",
       "    </tr>\n",
       "    <tr>\n",
       "      <th>44</th>\n",
       "      <td>OCCUPATION_TYPE_Managers</td>\n",
       "      <td>int64</td>\n",
       "    </tr>\n",
       "    <tr>\n",
       "      <th>45</th>\n",
       "      <td>OCCUPATION_TYPE_Medicine staff</td>\n",
       "      <td>int64</td>\n",
       "    </tr>\n",
       "    <tr>\n",
       "      <th>46</th>\n",
       "      <td>OCCUPATION_TYPE_Private service staff</td>\n",
       "      <td>int64</td>\n",
       "    </tr>\n",
       "    <tr>\n",
       "      <th>47</th>\n",
       "      <td>OCCUPATION_TYPE_Realty agents</td>\n",
       "      <td>int64</td>\n",
       "    </tr>\n",
       "    <tr>\n",
       "      <th>48</th>\n",
       "      <td>OCCUPATION_TYPE_Sales staff</td>\n",
       "      <td>int64</td>\n",
       "    </tr>\n",
       "    <tr>\n",
       "      <th>49</th>\n",
       "      <td>OCCUPATION_TYPE_Secretaries</td>\n",
       "      <td>int64</td>\n",
       "    </tr>\n",
       "    <tr>\n",
       "      <th>50</th>\n",
       "      <td>OCCUPATION_TYPE_Security staff</td>\n",
       "      <td>int64</td>\n",
       "    </tr>\n",
       "    <tr>\n",
       "      <th>51</th>\n",
       "      <td>OCCUPATION_TYPE_Waiters/barmen staff</td>\n",
       "      <td>int64</td>\n",
       "    </tr>\n",
       "  </tbody>\n",
       "</table>\n",
       "</div>"
      ],
      "text/plain": [
       "                                               column    dtype\n",
       "0                                                  ID    int64\n",
       "1                                         CODE_GENDER    int64\n",
       "2                                        FLAG_OWN_CAR    int64\n",
       "3                                     FLAG_OWN_REALTY    int64\n",
       "4                                        CNT_CHILDREN    int64\n",
       "5                                    AMT_INCOME_TOTAL  float64\n",
       "6                                          DAYS_BIRTH    int64\n",
       "7                                       DAYS_EMPLOYED    int64\n",
       "8                                          FLAG_MOBIL    int64\n",
       "9                                     FLAG_WORK_PHONE    int64\n",
       "10                                         FLAG_PHONE    int64\n",
       "11                                         FLAG_EMAIL    int64\n",
       "12                                    CNT_FAM_MEMBERS    int64\n",
       "13              NAME_INCOME_TYPE_Commercial associate    int64\n",
       "14                         NAME_INCOME_TYPE_Pensioner    int64\n",
       "15                     NAME_INCOME_TYPE_State servant    int64\n",
       "16                           NAME_INCOME_TYPE_Student    int64\n",
       "17                           NAME_INCOME_TYPE_Working    int64\n",
       "18                NAME_EDUCATION_TYPE_Academic degree    int64\n",
       "19               NAME_EDUCATION_TYPE_Higher education    int64\n",
       "20              NAME_EDUCATION_TYPE_Incomplete higher    int64\n",
       "21                NAME_EDUCATION_TYPE_Lower secondary    int64\n",
       "22  NAME_EDUCATION_TYPE_Secondary / secondary special    int64\n",
       "23                  NAME_FAMILY_STATUS_Civil marriage    int64\n",
       "24                         NAME_FAMILY_STATUS_Married    int64\n",
       "25                       NAME_FAMILY_STATUS_Separated    int64\n",
       "26            NAME_FAMILY_STATUS_Single / not married    int64\n",
       "27                           NAME_FAMILY_STATUS_Widow    int64\n",
       "28                  NAME_HOUSING_TYPE_Co-op apartment    int64\n",
       "29                NAME_HOUSING_TYPE_House / apartment    int64\n",
       "30              NAME_HOUSING_TYPE_Municipal apartment    int64\n",
       "31                 NAME_HOUSING_TYPE_Office apartment    int64\n",
       "32                 NAME_HOUSING_TYPE_Rented apartment    int64\n",
       "33                     NAME_HOUSING_TYPE_With parents    int64\n",
       "34                        OCCUPATION_TYPE_Accountants    int64\n",
       "35                     OCCUPATION_TYPE_Cleaning staff    int64\n",
       "36                      OCCUPATION_TYPE_Cooking staff    int64\n",
       "37                         OCCUPATION_TYPE_Core staff    int64\n",
       "38                            OCCUPATION_TYPE_Drivers    int64\n",
       "39                           OCCUPATION_TYPE_HR staff    int64\n",
       "40              OCCUPATION_TYPE_High skill tech staff    int64\n",
       "41                           OCCUPATION_TYPE_IT staff    int64\n",
       "42                           OCCUPATION_TYPE_Laborers    int64\n",
       "43                 OCCUPATION_TYPE_Low-skill Laborers    int64\n",
       "44                           OCCUPATION_TYPE_Managers    int64\n",
       "45                     OCCUPATION_TYPE_Medicine staff    int64\n",
       "46              OCCUPATION_TYPE_Private service staff    int64\n",
       "47                      OCCUPATION_TYPE_Realty agents    int64\n",
       "48                        OCCUPATION_TYPE_Sales staff    int64\n",
       "49                        OCCUPATION_TYPE_Secretaries    int64\n",
       "50                     OCCUPATION_TYPE_Security staff    int64\n",
       "51               OCCUPATION_TYPE_Waiters/barmen staff    int64"
      ]
     },
     "execution_count": 12,
     "metadata": {},
     "output_type": "execute_result"
    }
   ],
   "source": [
    "apr_after = metadata(apr)\n",
    "apr_after"
   ]
  },
  {
   "cell_type": "markdown",
   "id": "c935c266",
   "metadata": {
    "papermill": {
     "duration": 0.025646,
     "end_time": "2024-04-30T14:30:22.312334",
     "exception": false,
     "start_time": "2024-04-30T14:30:22.286688",
     "status": "completed"
    },
    "tags": []
   },
   "source": [
    "Se comparado com os metados de antes, fica claro que o número de colunas aumentou e existem apenas tipos númericos (int e float) no conjunto de dados atual."
   ]
  },
  {
   "cell_type": "code",
   "execution_count": 13,
   "id": "210e831f",
   "metadata": {
    "execution": {
     "iopub.execute_input": "2024-04-30T14:30:22.366521Z",
     "iopub.status.busy": "2024-04-30T14:30:22.365480Z",
     "iopub.status.idle": "2024-04-30T14:30:22.372758Z",
     "shell.execute_reply": "2024-04-30T14:30:22.371765Z"
    },
    "papermill": {
     "duration": 0.038251,
     "end_time": "2024-04-30T14:30:22.376893",
     "exception": false,
     "start_time": "2024-04-30T14:30:22.338642",
     "status": "completed"
    },
    "tags": []
   },
   "outputs": [
    {
     "name": "stdout",
     "output_type": "stream",
     "text": [
      "Colunas do conjunto de dados antes da categorização: 18\n",
      "Colunas do conjunto de dados após a categorização: 52\n",
      "\n",
      "Tipos de dados do conjunto de dados antes da categorização: [dtype('int64') dtype('float64') dtype('O')]\n",
      "Tipos de dados do conjunto de dados após a categorização: [dtype('int64') dtype('float64')]\n"
     ]
    }
   ],
   "source": [
    "print(f\"Colunas do conjunto de dados antes da categorização: {apr_before.shape[0]}\")\n",
    "print(f\"Colunas do conjunto de dados após a categorização: {apr_after.shape[0]}\\n\")\n",
    "print(f\"Tipos de dados do conjunto de dados antes da categorização: {apr_before['dtype'].unique()}\")\n",
    "print(f\"Tipos de dados do conjunto de dados após a categorização: {apr_after['dtype'].unique()}\")"
   ]
  },
  {
   "cell_type": "markdown",
   "id": "3a3c1195",
   "metadata": {
    "papermill": {
     "duration": 0.026037,
     "end_time": "2024-04-30T14:30:22.431422",
     "exception": false,
     "start_time": "2024-04-30T14:30:22.405385",
     "status": "completed"
    },
    "tags": []
   },
   "source": [
    "# 2. Construindo Variável De Resposta\n"
   ]
  },
  {
   "cell_type": "markdown",
   "id": "d9f23e4c",
   "metadata": {
    "papermill": {
     "duration": 0.025932,
     "end_time": "2024-04-30T14:30:22.482840",
     "exception": false,
     "start_time": "2024-04-30T14:30:22.456908",
     "status": "completed"
    },
    "tags": []
   },
   "source": [
    "Agora que conjunto de dados está adequado, vamos para a próxima etapa que é a construção da variável de resposta. Faremos isso através da manipulação do segundo conjunto de dados disponível, o registro de crédito dos clientes."
   ]
  },
  {
   "cell_type": "markdown",
   "id": "32bd4e9d",
   "metadata": {
    "papermill": {
     "duration": 0.026953,
     "end_time": "2024-04-30T14:30:22.538497",
     "exception": false,
     "start_time": "2024-04-30T14:30:22.511544",
     "status": "completed"
    },
    "tags": []
   },
   "source": [
    "## 2.1 Preparando Dados"
   ]
  },
  {
   "cell_type": "code",
   "execution_count": 14,
   "id": "f48d640c",
   "metadata": {
    "execution": {
     "iopub.execute_input": "2024-04-30T14:30:22.594518Z",
     "iopub.status.busy": "2024-04-30T14:30:22.593735Z",
     "iopub.status.idle": "2024-04-30T14:30:23.185484Z",
     "shell.execute_reply": "2024-04-30T14:30:23.184042Z"
    },
    "papermill": {
     "duration": 0.623228,
     "end_time": "2024-04-30T14:30:23.188523",
     "exception": false,
     "start_time": "2024-04-30T14:30:22.565295",
     "status": "completed"
    },
    "tags": []
   },
   "outputs": [
    {
     "data": {
      "text/html": [
       "<div>\n",
       "<style scoped>\n",
       "    .dataframe tbody tr th:only-of-type {\n",
       "        vertical-align: middle;\n",
       "    }\n",
       "\n",
       "    .dataframe tbody tr th {\n",
       "        vertical-align: top;\n",
       "    }\n",
       "\n",
       "    .dataframe thead th {\n",
       "        text-align: right;\n",
       "    }\n",
       "</style>\n",
       "<table border=\"1\" class=\"dataframe\">\n",
       "  <thead>\n",
       "    <tr style=\"text-align: right;\">\n",
       "      <th></th>\n",
       "      <th>ID</th>\n",
       "      <th>MONTHS_BALANCE</th>\n",
       "      <th>STATUS</th>\n",
       "    </tr>\n",
       "  </thead>\n",
       "  <tbody>\n",
       "    <tr>\n",
       "      <th>0</th>\n",
       "      <td>5001711</td>\n",
       "      <td>0</td>\n",
       "      <td>X</td>\n",
       "    </tr>\n",
       "    <tr>\n",
       "      <th>1</th>\n",
       "      <td>5001711</td>\n",
       "      <td>-1</td>\n",
       "      <td>0</td>\n",
       "    </tr>\n",
       "    <tr>\n",
       "      <th>2</th>\n",
       "      <td>5001711</td>\n",
       "      <td>-2</td>\n",
       "      <td>0</td>\n",
       "    </tr>\n",
       "    <tr>\n",
       "      <th>3</th>\n",
       "      <td>5001711</td>\n",
       "      <td>-3</td>\n",
       "      <td>0</td>\n",
       "    </tr>\n",
       "    <tr>\n",
       "      <th>4</th>\n",
       "      <td>5001712</td>\n",
       "      <td>0</td>\n",
       "      <td>C</td>\n",
       "    </tr>\n",
       "  </tbody>\n",
       "</table>\n",
       "</div>"
      ],
      "text/plain": [
       "        ID  MONTHS_BALANCE STATUS\n",
       "0  5001711               0      X\n",
       "1  5001711              -1      0\n",
       "2  5001711              -2      0\n",
       "3  5001711              -3      0\n",
       "4  5001712               0      C"
      ]
     },
     "execution_count": 14,
     "metadata": {},
     "output_type": "execute_result"
    }
   ],
   "source": [
    "# Coletando dados\n",
    "cr = pd.read_csv('/kaggle/input/credit-card-approval-prediction/credit_record.csv')\n",
    "cr.head(5)"
   ]
  },
  {
   "cell_type": "markdown",
   "id": "f358fe01",
   "metadata": {
    "papermill": {
     "duration": 0.025835,
     "end_time": "2024-04-30T14:30:23.242687",
     "exception": false,
     "start_time": "2024-04-30T14:30:23.216852",
     "status": "completed"
    },
    "tags": []
   },
   "source": [
    "Para melhor compreender o conjunto de dados, temos a variável **STATUS** que representa o quão atrasado foi efetuado o pagamento do crédito cedido, nesse caso temos:\n",
    "- X - sem crédito cedido no mês\n",
    "- C - pago dentro do prazo\n",
    "- 0 - pago 1 dia após o prazo\n",
    "- 1 - pago 30 dias após o prazo\n",
    "- 2 - pago 60 dias após o prazo\n",
    "- 3 - pago 90 dias após o prazo\n",
    "- 4 - pago 120 dias após o prazo\n",
    "- 5 - pago 150 dias após o prazo\n",
    "\n",
    "Com base nisso, vamos classificar um cliente como **mau pagador** e vamos utilizar STATUS >= 1 como nossa threshold.\n",
    "\n",
    "Mas antes, vamos agrupar os dados para que cada conjunto de variáveis corresponda a um único cliente."
   ]
  },
  {
   "cell_type": "code",
   "execution_count": 15,
   "id": "75efb3a6",
   "metadata": {
    "execution": {
     "iopub.execute_input": "2024-04-30T14:30:23.297705Z",
     "iopub.status.busy": "2024-04-30T14:30:23.297285Z",
     "iopub.status.idle": "2024-04-30T14:30:26.448479Z",
     "shell.execute_reply": "2024-04-30T14:30:26.447108Z"
    },
    "papermill": {
     "duration": 3.183655,
     "end_time": "2024-04-30T14:30:26.452187",
     "exception": false,
     "start_time": "2024-04-30T14:30:23.268532",
     "status": "completed"
    },
    "tags": []
   },
   "outputs": [
    {
     "data": {
      "text/html": [
       "<div>\n",
       "<style scoped>\n",
       "    .dataframe tbody tr th:only-of-type {\n",
       "        vertical-align: middle;\n",
       "    }\n",
       "\n",
       "    .dataframe tbody tr th {\n",
       "        vertical-align: top;\n",
       "    }\n",
       "\n",
       "    .dataframe thead th {\n",
       "        text-align: right;\n",
       "    }\n",
       "</style>\n",
       "<table border=\"1\" class=\"dataframe\">\n",
       "  <thead>\n",
       "    <tr style=\"text-align: right;\">\n",
       "      <th></th>\n",
       "      <th>MONTHS_BALANCE</th>\n",
       "      <th>STATUS</th>\n",
       "    </tr>\n",
       "    <tr>\n",
       "      <th>ID</th>\n",
       "      <th></th>\n",
       "      <th></th>\n",
       "    </tr>\n",
       "  </thead>\n",
       "  <tbody>\n",
       "    <tr>\n",
       "      <th>5001711</th>\n",
       "      <td>[0, -1, -2, -3]</td>\n",
       "      <td>[X, 0, 0, 0]</td>\n",
       "    </tr>\n",
       "    <tr>\n",
       "      <th>5001712</th>\n",
       "      <td>[0, -1, -2, -3, -4, -5, -6, -7, -8, -9, -10, -...</td>\n",
       "      <td>[C, C, C, C, C, C, C, C, C, 0, 0, 0, 0, 0, 0, ...</td>\n",
       "    </tr>\n",
       "    <tr>\n",
       "      <th>5001713</th>\n",
       "      <td>[0, -1, -2, -3, -4, -5, -6, -7, -8, -9, -10, -...</td>\n",
       "      <td>[X, X, X, X, X, X, X, X, X, X, X, X, X, X, X, ...</td>\n",
       "    </tr>\n",
       "    <tr>\n",
       "      <th>5001714</th>\n",
       "      <td>[0, -1, -2, -3, -4, -5, -6, -7, -8, -9, -10, -...</td>\n",
       "      <td>[X, X, X, X, X, X, X, X, X, X, X, X, X, X, X]</td>\n",
       "    </tr>\n",
       "    <tr>\n",
       "      <th>5001715</th>\n",
       "      <td>[0, -1, -2, -3, -4, -5, -6, -7, -8, -9, -10, -...</td>\n",
       "      <td>[X, X, X, X, X, X, X, X, X, X, X, X, X, X, X, ...</td>\n",
       "    </tr>\n",
       "  </tbody>\n",
       "</table>\n",
       "</div>"
      ],
      "text/plain": [
       "                                            MONTHS_BALANCE  \\\n",
       "ID                                                           \n",
       "5001711                                    [0, -1, -2, -3]   \n",
       "5001712  [0, -1, -2, -3, -4, -5, -6, -7, -8, -9, -10, -...   \n",
       "5001713  [0, -1, -2, -3, -4, -5, -6, -7, -8, -9, -10, -...   \n",
       "5001714  [0, -1, -2, -3, -4, -5, -6, -7, -8, -9, -10, -...   \n",
       "5001715  [0, -1, -2, -3, -4, -5, -6, -7, -8, -9, -10, -...   \n",
       "\n",
       "                                                    STATUS  \n",
       "ID                                                          \n",
       "5001711                                       [X, 0, 0, 0]  \n",
       "5001712  [C, C, C, C, C, C, C, C, C, 0, 0, 0, 0, 0, 0, ...  \n",
       "5001713  [X, X, X, X, X, X, X, X, X, X, X, X, X, X, X, ...  \n",
       "5001714      [X, X, X, X, X, X, X, X, X, X, X, X, X, X, X]  \n",
       "5001715  [X, X, X, X, X, X, X, X, X, X, X, X, X, X, X, ...  "
      ]
     },
     "execution_count": 15,
     "metadata": {},
     "output_type": "execute_result"
    }
   ],
   "source": [
    "grouped = cr.groupby('ID')[['MONTHS_BALANCE', 'STATUS']].agg(list)\n",
    "grouped.head(5)"
   ]
  },
  {
   "cell_type": "markdown",
   "id": "9998a86b",
   "metadata": {
    "papermill": {
     "duration": 0.026858,
     "end_time": "2024-04-30T14:30:26.507530",
     "exception": false,
     "start_time": "2024-04-30T14:30:26.480672",
     "status": "completed"
    },
    "tags": []
   },
   "source": [
    "Para nosso treinamento, clientes que nunca receberam crédito são irrelevantes, por isso iremos removê-los do conjunto de dados."
   ]
  },
  {
   "cell_type": "code",
   "execution_count": 16,
   "id": "07c18df8",
   "metadata": {
    "execution": {
     "iopub.execute_input": "2024-04-30T14:30:26.563395Z",
     "iopub.status.busy": "2024-04-30T14:30:26.562616Z",
     "iopub.status.idle": "2024-04-30T14:30:26.633873Z",
     "shell.execute_reply": "2024-04-30T14:30:26.632764Z"
    },
    "papermill": {
     "duration": 0.102108,
     "end_time": "2024-04-30T14:30:26.636693",
     "exception": false,
     "start_time": "2024-04-30T14:30:26.534585",
     "status": "completed"
    },
    "tags": []
   },
   "outputs": [
    {
     "name": "stdout",
     "output_type": "stream",
     "text": [
      "Foi removido 4536 linhas com clientes sem crédito cedido.\n"
     ]
    }
   ],
   "source": [
    "# Removendo linhas com apenas registros 'X' em STATUS\n",
    "vector = list(map(lambda row: row.count('X') == len(row), grouped.loc[:, 'STATUS']))\n",
    "before, _ = grouped.shape\n",
    "grouped.drop(grouped[vector].index, inplace=True)\n",
    "after, _ = grouped.shape\n",
    "print(f'Foi removido {before-after} linhas com clientes sem crédito cedido.')"
   ]
  },
  {
   "cell_type": "markdown",
   "id": "6cf3739e",
   "metadata": {
    "papermill": {
     "duration": 0.026101,
     "end_time": "2024-04-30T14:30:26.689156",
     "exception": false,
     "start_time": "2024-04-30T14:30:26.663055",
     "status": "completed"
    },
    "tags": []
   },
   "source": [
    "Também vamos remover clientes que não estejam dentro da janela temporal mínima de 30 dias ou mais."
   ]
  },
  {
   "cell_type": "code",
   "execution_count": 17,
   "id": "f6c03998",
   "metadata": {
    "execution": {
     "iopub.execute_input": "2024-04-30T14:30:26.748833Z",
     "iopub.status.busy": "2024-04-30T14:30:26.748098Z",
     "iopub.status.idle": "2024-04-30T14:30:26.791318Z",
     "shell.execute_reply": "2024-04-30T14:30:26.789619Z"
    },
    "papermill": {
     "duration": 0.076409,
     "end_time": "2024-04-30T14:30:26.795047",
     "exception": false,
     "start_time": "2024-04-30T14:30:26.718638",
     "status": "completed"
    },
    "tags": []
   },
   "outputs": [
    {
     "name": "stdout",
     "output_type": "stream",
     "text": [
      "Foi removido 28499 linhas com clientes com menos de 30 registros.\n"
     ]
    }
   ],
   "source": [
    "# Removendo linhas com menos de 30 registros em STATUS\n",
    "vector = list(map(lambda row: len(row) < 30, grouped.loc[:, 'STATUS']))\n",
    "before, _ = grouped.shape\n",
    "grouped.drop(grouped[vector].index, inplace=True)\n",
    "after, _ = grouped.shape\n",
    "print(f'Foi removido {before-after} linhas com clientes com menos de 30 registros.')"
   ]
  },
  {
   "cell_type": "code",
   "execution_count": 18,
   "id": "0b82ba11",
   "metadata": {
    "execution": {
     "iopub.execute_input": "2024-04-30T14:30:26.853734Z",
     "iopub.status.busy": "2024-04-30T14:30:26.853328Z",
     "iopub.status.idle": "2024-04-30T14:30:26.875280Z",
     "shell.execute_reply": "2024-04-30T14:30:26.873733Z"
    },
    "papermill": {
     "duration": 0.055009,
     "end_time": "2024-04-30T14:30:26.877758",
     "exception": false,
     "start_time": "2024-04-30T14:30:26.822749",
     "status": "completed"
    },
    "tags": []
   },
   "outputs": [
    {
     "data": {
      "text/html": [
       "<div>\n",
       "<style scoped>\n",
       "    .dataframe tbody tr th:only-of-type {\n",
       "        vertical-align: middle;\n",
       "    }\n",
       "\n",
       "    .dataframe tbody tr th {\n",
       "        vertical-align: top;\n",
       "    }\n",
       "\n",
       "    .dataframe thead th {\n",
       "        text-align: right;\n",
       "    }\n",
       "</style>\n",
       "<table border=\"1\" class=\"dataframe\">\n",
       "  <thead>\n",
       "    <tr style=\"text-align: right;\">\n",
       "      <th></th>\n",
       "      <th>MONTHS_BALANCE</th>\n",
       "      <th>STATUS</th>\n",
       "    </tr>\n",
       "    <tr>\n",
       "      <th>ID</th>\n",
       "      <th></th>\n",
       "      <th></th>\n",
       "    </tr>\n",
       "  </thead>\n",
       "  <tbody>\n",
       "    <tr>\n",
       "      <th>5001718</th>\n",
       "      <td>[0, -1, -2, -3, -4, -5, -6, -7, -8, -9, -10, -...</td>\n",
       "      <td>[C, C, C, 0, 0, 0, 0, 0, 1, X, 0, X, 1, X, 0, ...</td>\n",
       "    </tr>\n",
       "    <tr>\n",
       "      <th>5001719</th>\n",
       "      <td>[0, -1, -2, -3, -4, -5, -6, -7, -8, -9, -10, -...</td>\n",
       "      <td>[C, C, C, C, C, C, C, C, C, C, C, C, C, C, C, ...</td>\n",
       "    </tr>\n",
       "    <tr>\n",
       "      <th>5001720</th>\n",
       "      <td>[0, -1, -2, -3, -4, -5, -6, -7, -8, -9, -10, -...</td>\n",
       "      <td>[1, 0, 0, 1, 1, 0, 1, 1, 0, 0, 0, 0, 0, 1, 0, ...</td>\n",
       "    </tr>\n",
       "    <tr>\n",
       "      <th>5001723</th>\n",
       "      <td>[0, -1, -2, -3, -4, -5, -6, -7, -8, -9, -10, -...</td>\n",
       "      <td>[X, X, X, X, X, X, X, X, X, X, X, X, X, X, X, ...</td>\n",
       "    </tr>\n",
       "    <tr>\n",
       "      <th>5001724</th>\n",
       "      <td>[0, -1, -2, -3, -4, -5, -6, -7, -8, -9, -10, -...</td>\n",
       "      <td>[C, C, C, C, C, C, C, C, C, C, C, C, C, C, C, ...</td>\n",
       "    </tr>\n",
       "  </tbody>\n",
       "</table>\n",
       "</div>"
      ],
      "text/plain": [
       "                                            MONTHS_BALANCE  \\\n",
       "ID                                                           \n",
       "5001718  [0, -1, -2, -3, -4, -5, -6, -7, -8, -9, -10, -...   \n",
       "5001719  [0, -1, -2, -3, -4, -5, -6, -7, -8, -9, -10, -...   \n",
       "5001720  [0, -1, -2, -3, -4, -5, -6, -7, -8, -9, -10, -...   \n",
       "5001723  [0, -1, -2, -3, -4, -5, -6, -7, -8, -9, -10, -...   \n",
       "5001724  [0, -1, -2, -3, -4, -5, -6, -7, -8, -9, -10, -...   \n",
       "\n",
       "                                                    STATUS  \n",
       "ID                                                          \n",
       "5001718  [C, C, C, 0, 0, 0, 0, 0, 1, X, 0, X, 1, X, 0, ...  \n",
       "5001719  [C, C, C, C, C, C, C, C, C, C, C, C, C, C, C, ...  \n",
       "5001720  [1, 0, 0, 1, 1, 0, 1, 1, 0, 0, 0, 0, 0, 1, 0, ...  \n",
       "5001723  [X, X, X, X, X, X, X, X, X, X, X, X, X, X, X, ...  \n",
       "5001724  [C, C, C, C, C, C, C, C, C, C, C, C, C, C, C, ...  "
      ]
     },
     "execution_count": 18,
     "metadata": {},
     "output_type": "execute_result"
    }
   ],
   "source": [
    "# Visualizando resultado final\n",
    "grouped.head(5)"
   ]
  },
  {
   "cell_type": "markdown",
   "id": "b0382f15",
   "metadata": {
    "papermill": {
     "duration": 0.027192,
     "end_time": "2024-04-30T14:30:26.932340",
     "exception": false,
     "start_time": "2024-04-30T14:30:26.905148",
     "status": "completed"
    },
    "tags": []
   },
   "source": [
    "Agora nosso conjunto de dados está pronto para ser usado para criar a variável de resposta."
   ]
  },
  {
   "cell_type": "markdown",
   "id": "2ade9202",
   "metadata": {
    "papermill": {
     "duration": 0.027913,
     "end_time": "2024-04-30T14:30:26.988224",
     "exception": false,
     "start_time": "2024-04-30T14:30:26.960311",
     "status": "completed"
    },
    "tags": []
   },
   "source": [
    "## 2.2 Criando Variável"
   ]
  },
  {
   "cell_type": "markdown",
   "id": "f606afe4",
   "metadata": {
    "papermill": {
     "duration": 0.028665,
     "end_time": "2024-04-30T14:30:27.048238",
     "exception": false,
     "start_time": "2024-04-30T14:30:27.019573",
     "status": "completed"
    },
    "tags": []
   },
   "source": [
    "Para a criação da variável de resposta, primeiro foi considerada a frequêcia geral de atrasos de cada cliente ao longo de todo o período, clientes com uma frequência superior a média do conjunto irão atender a primeira condição para serem classificados como **maus pagadores**."
   ]
  },
  {
   "cell_type": "code",
   "execution_count": 19,
   "id": "76352f47",
   "metadata": {
    "execution": {
     "iopub.execute_input": "2024-04-30T14:30:27.104177Z",
     "iopub.status.busy": "2024-04-30T14:30:27.103775Z",
     "iopub.status.idle": "2024-04-30T14:30:27.249650Z",
     "shell.execute_reply": "2024-04-30T14:30:27.248492Z"
    },
    "papermill": {
     "duration": 0.176998,
     "end_time": "2024-04-30T14:30:27.252402",
     "exception": false,
     "start_time": "2024-04-30T14:30:27.075404",
     "status": "completed"
    },
    "tags": []
   },
   "outputs": [
    {
     "data": {
      "text/html": [
       "<div>\n",
       "<style scoped>\n",
       "    .dataframe tbody tr th:only-of-type {\n",
       "        vertical-align: middle;\n",
       "    }\n",
       "\n",
       "    .dataframe tbody tr th {\n",
       "        vertical-align: top;\n",
       "    }\n",
       "\n",
       "    .dataframe thead th {\n",
       "        text-align: right;\n",
       "    }\n",
       "</style>\n",
       "<table border=\"1\" class=\"dataframe\">\n",
       "  <thead>\n",
       "    <tr style=\"text-align: right;\">\n",
       "      <th></th>\n",
       "      <th>MONTHS_BALANCE</th>\n",
       "      <th>STATUS</th>\n",
       "      <th>FREQUENCY</th>\n",
       "    </tr>\n",
       "    <tr>\n",
       "      <th>ID</th>\n",
       "      <th></th>\n",
       "      <th></th>\n",
       "      <th></th>\n",
       "    </tr>\n",
       "  </thead>\n",
       "  <tbody>\n",
       "    <tr>\n",
       "      <th>5001718</th>\n",
       "      <td>[0, -1, -2, -3, -4, -5, -6, -7, -8, -9, -10, -...</td>\n",
       "      <td>[C, C, C, 0, 0, 0, 0, 0, 1, X, 0, X, 1, X, 0, ...</td>\n",
       "      <td>0.666667</td>\n",
       "    </tr>\n",
       "    <tr>\n",
       "      <th>5001719</th>\n",
       "      <td>[0, -1, -2, -3, -4, -5, -6, -7, -8, -9, -10, -...</td>\n",
       "      <td>[C, C, C, C, C, C, C, C, C, C, C, C, C, C, C, ...</td>\n",
       "      <td>0.046512</td>\n",
       "    </tr>\n",
       "    <tr>\n",
       "      <th>5001720</th>\n",
       "      <td>[0, -1, -2, -3, -4, -5, -6, -7, -8, -9, -10, -...</td>\n",
       "      <td>[1, 0, 0, 1, 1, 0, 1, 1, 0, 0, 0, 0, 0, 1, 0, ...</td>\n",
       "      <td>1.000000</td>\n",
       "    </tr>\n",
       "    <tr>\n",
       "      <th>5001723</th>\n",
       "      <td>[0, -1, -2, -3, -4, -5, -6, -7, -8, -9, -10, -...</td>\n",
       "      <td>[X, X, X, X, X, X, X, X, X, X, X, X, X, X, X, ...</td>\n",
       "      <td>0.258065</td>\n",
       "    </tr>\n",
       "    <tr>\n",
       "      <th>5001724</th>\n",
       "      <td>[0, -1, -2, -3, -4, -5, -6, -7, -8, -9, -10, -...</td>\n",
       "      <td>[C, C, C, C, C, C, C, C, C, C, C, C, C, C, C, ...</td>\n",
       "      <td>0.000000</td>\n",
       "    </tr>\n",
       "  </tbody>\n",
       "</table>\n",
       "</div>"
      ],
      "text/plain": [
       "                                            MONTHS_BALANCE  \\\n",
       "ID                                                           \n",
       "5001718  [0, -1, -2, -3, -4, -5, -6, -7, -8, -9, -10, -...   \n",
       "5001719  [0, -1, -2, -3, -4, -5, -6, -7, -8, -9, -10, -...   \n",
       "5001720  [0, -1, -2, -3, -4, -5, -6, -7, -8, -9, -10, -...   \n",
       "5001723  [0, -1, -2, -3, -4, -5, -6, -7, -8, -9, -10, -...   \n",
       "5001724  [0, -1, -2, -3, -4, -5, -6, -7, -8, -9, -10, -...   \n",
       "\n",
       "                                                    STATUS  FREQUENCY  \n",
       "ID                                                                     \n",
       "5001718  [C, C, C, 0, 0, 0, 0, 0, 1, X, 0, X, 1, X, 0, ...   0.666667  \n",
       "5001719  [C, C, C, C, C, C, C, C, C, C, C, C, C, C, C, ...   0.046512  \n",
       "5001720  [1, 0, 0, 1, 1, 0, 1, 1, 0, 0, 0, 0, 0, 1, 0, ...   1.000000  \n",
       "5001723  [X, X, X, X, X, X, X, X, X, X, X, X, X, X, X, ...   0.258065  \n",
       "5001724  [C, C, C, C, C, C, C, C, C, C, C, C, C, C, C, ...   0.000000  "
      ]
     },
     "execution_count": 19,
     "metadata": {},
     "output_type": "execute_result"
    }
   ],
   "source": [
    "# Coletando a frequência de defaults ao longo de todo o período para cada cliente\n",
    "def frequency(lst: list) -> float:\n",
    "    acum = lst.count('0') + lst.count('1') + lst.count('2') + lst.count('3') + lst.count('4') + lst.count('5')\n",
    "    freq = acum / len(lst)\n",
    "    return freq\n",
    "\n",
    "grouped['FREQUENCY'] = list(map(lambda row: frequency(row), grouped.loc[:, 'STATUS']))\n",
    "grouped.head(5)"
   ]
  },
  {
   "cell_type": "markdown",
   "id": "4033c0d7",
   "metadata": {
    "papermill": {
     "duration": 0.026489,
     "end_time": "2024-04-30T14:30:27.306245",
     "exception": false,
     "start_time": "2024-04-30T14:30:27.279756",
     "status": "completed"
    },
    "tags": []
   },
   "source": [
    "Para levar em conta a **gravidade** de cada atraso, uma segunda variável foi criada para representar a tendência de inadimplência do cliente, os clientes que estejam acima da média nesse valor atenderam a segunda condição para serem classificados como **maus pagadores**."
   ]
  },
  {
   "cell_type": "code",
   "execution_count": 20,
   "id": "9c5f1e1e",
   "metadata": {
    "execution": {
     "iopub.execute_input": "2024-04-30T14:30:27.363623Z",
     "iopub.status.busy": "2024-04-30T14:30:27.363224Z",
     "iopub.status.idle": "2024-04-30T14:30:27.908410Z",
     "shell.execute_reply": "2024-04-30T14:30:27.906678Z"
    },
    "papermill": {
     "duration": 0.57556,
     "end_time": "2024-04-30T14:30:27.910260",
     "exception": true,
     "start_time": "2024-04-30T14:30:27.334700",
     "status": "failed"
    },
    "tags": []
   },
   "outputs": [
    {
     "ename": "NameError",
     "evalue": "name 'weighted_frequency' is not defined",
     "output_type": "error",
     "traceback": [
      "\u001b[0;31m---------------------------------------------------------------------------\u001b[0m",
      "\u001b[0;31mNameError\u001b[0m                                 Traceback (most recent call last)",
      "Cell \u001b[0;32mIn[20], line 6\u001b[0m\n\u001b[1;32m      3\u001b[0m     risk \u001b[38;5;241m=\u001b[39m acum \u001b[38;5;241m/\u001b[39m \u001b[38;5;28mlen\u001b[39m(lst)\n\u001b[1;32m      4\u001b[0m     \u001b[38;5;28;01mreturn\u001b[39;00m risk\n\u001b[0;32m----> 6\u001b[0m grouped[\u001b[38;5;124m'\u001b[39m\u001b[38;5;124mRISK_FACTOR\u001b[39m\u001b[38;5;124m'\u001b[39m] \u001b[38;5;241m=\u001b[39m \u001b[38;5;28;43mlist\u001b[39;49m\u001b[43m(\u001b[49m\u001b[38;5;28;43mmap\u001b[39;49m\u001b[43m(\u001b[49m\u001b[38;5;28;43;01mlambda\u001b[39;49;00m\u001b[43m \u001b[49m\u001b[43mrow\u001b[49m\u001b[43m:\u001b[49m\u001b[43m \u001b[49m\u001b[43mweighted_frequency\u001b[49m\u001b[43m(\u001b[49m\u001b[43mrow\u001b[49m\u001b[43m)\u001b[49m\u001b[43m,\u001b[49m\u001b[43m \u001b[49m\u001b[43mgrouped\u001b[49m\u001b[38;5;241;43m.\u001b[39;49m\u001b[43mloc\u001b[49m\u001b[43m[\u001b[49m\u001b[43m:\u001b[49m\u001b[43m,\u001b[49m\u001b[43m \u001b[49m\u001b[38;5;124;43m'\u001b[39;49m\u001b[38;5;124;43mSTATUS\u001b[39;49m\u001b[38;5;124;43m'\u001b[39;49m\u001b[43m]\u001b[49m\u001b[43m)\u001b[49m\u001b[43m)\u001b[49m\n\u001b[1;32m      7\u001b[0m grouped\u001b[38;5;241m.\u001b[39mhead(\u001b[38;5;241m5\u001b[39m)\n",
      "Cell \u001b[0;32mIn[20], line 6\u001b[0m, in \u001b[0;36m<lambda>\u001b[0;34m(row)\u001b[0m\n\u001b[1;32m      3\u001b[0m     risk \u001b[38;5;241m=\u001b[39m acum \u001b[38;5;241m/\u001b[39m \u001b[38;5;28mlen\u001b[39m(lst)\n\u001b[1;32m      4\u001b[0m     \u001b[38;5;28;01mreturn\u001b[39;00m risk\n\u001b[0;32m----> 6\u001b[0m grouped[\u001b[38;5;124m'\u001b[39m\u001b[38;5;124mRISK_FACTOR\u001b[39m\u001b[38;5;124m'\u001b[39m] \u001b[38;5;241m=\u001b[39m \u001b[38;5;28mlist\u001b[39m(\u001b[38;5;28mmap\u001b[39m(\u001b[38;5;28;01mlambda\u001b[39;00m row: \u001b[43mweighted_frequency\u001b[49m(row), grouped\u001b[38;5;241m.\u001b[39mloc[:, \u001b[38;5;124m'\u001b[39m\u001b[38;5;124mSTATUS\u001b[39m\u001b[38;5;124m'\u001b[39m]))\n\u001b[1;32m      7\u001b[0m grouped\u001b[38;5;241m.\u001b[39mhead(\u001b[38;5;241m5\u001b[39m)\n",
      "\u001b[0;31mNameError\u001b[0m: name 'weighted_frequency' is not defined"
     ]
    }
   ],
   "source": [
    "def risk_factor(lst: list) -> float:\n",
    "    acum = lst.count('0') * 1 + lst.count('1') * 2 + lst.count('2') * 3 + lst.count('3') * 4 + lst.count('4') * 5 + lst.count('5') * 6\n",
    "    risk = acum / len(lst)\n",
    "    return risk\n",
    "\n",
    "grouped['RISK_FACTOR'] = list(map(lambda row: weighted_frequency(row), grouped.loc[:, 'STATUS']))\n",
    "grouped.head(5)"
   ]
  },
  {
   "cell_type": "markdown",
   "id": "98a4a547",
   "metadata": {
    "papermill": {
     "duration": null,
     "end_time": null,
     "exception": null,
     "start_time": null,
     "status": "pending"
    },
    "tags": []
   },
   "source": [
    "Agora vamos verificar quais clientes atendem as duas condições pré-estabelecidas:\n",
    "- Frequência de inadimplência maior que a média do grupo\n",
    "- Fator de risco maior que a média do grupo"
   ]
  },
  {
   "cell_type": "code",
   "execution_count": null,
   "id": "1e93c070",
   "metadata": {
    "execution": {
     "iopub.execute_input": "2024-04-30T13:43:33.405682Z",
     "iopub.status.busy": "2024-04-30T13:43:33.404306Z",
     "iopub.status.idle": "2024-04-30T13:43:33.417509Z",
     "shell.execute_reply": "2024-04-30T13:43:33.416126Z",
     "shell.execute_reply.started": "2024-04-30T13:43:33.405636Z"
    },
    "papermill": {
     "duration": null,
     "end_time": null,
     "exception": null,
     "start_time": null,
     "status": "pending"
    },
    "tags": []
   },
   "outputs": [],
   "source": [
    "index_default = grouped[(grouped['FREQUENCY'] > grouped['FREQUENCY'].mean()) & (grouped['RISK_FACTOR'] > grouped['RISK_FACTOR'].mean())].index\n",
    "print(f'Existem {len(index_default)} clientes que atendem as condições.')"
   ]
  },
  {
   "cell_type": "markdown",
   "id": "0ba0bee2",
   "metadata": {
    "papermill": {
     "duration": null,
     "end_time": null,
     "exception": null,
     "start_time": null,
     "status": "pending"
    },
    "tags": []
   },
   "source": [
    "Para armazenar quais clientes atendem essas condições e são **maus pagadores** vamos criar a variável DEFAULT e preencher ela de acordo com os ID que atendem as condições."
   ]
  },
  {
   "cell_type": "code",
   "execution_count": null,
   "id": "d6339b9a",
   "metadata": {
    "execution": {
     "iopub.execute_input": "2024-04-30T13:44:42.925083Z",
     "iopub.status.busy": "2024-04-30T13:44:42.924510Z",
     "iopub.status.idle": "2024-04-30T13:44:42.953996Z",
     "shell.execute_reply": "2024-04-30T13:44:42.952346Z",
     "shell.execute_reply.started": "2024-04-30T13:44:42.925045Z"
    },
    "papermill": {
     "duration": null,
     "end_time": null,
     "exception": null,
     "start_time": null,
     "status": "pending"
    },
    "tags": []
   },
   "outputs": [],
   "source": [
    "grouped['DEFAULT'] = 0\n",
    "grouped.loc[index_default, 'DEFAULT'] = 1\n",
    "grouped.head(5)"
   ]
  },
  {
   "cell_type": "markdown",
   "id": "e4bd0149",
   "metadata": {
    "papermill": {
     "duration": null,
     "end_time": null,
     "exception": null,
     "start_time": null,
     "status": "pending"
    },
    "tags": []
   },
   "source": [
    "## 2.3 Integrando Base de Dados"
   ]
  },
  {
   "cell_type": "markdown",
   "id": "d6e505f2",
   "metadata": {
    "papermill": {
     "duration": null,
     "end_time": null,
     "exception": null,
     "start_time": null,
     "status": "pending"
    },
    "tags": []
   },
   "source": [
    "Agora que a variável de resposta foi criada, vamos integrar os dois conjuntos de dados em um só para começar o treinamento do modelo."
   ]
  },
  {
   "cell_type": "code",
   "execution_count": null,
   "id": "430d8a85",
   "metadata": {
    "execution": {
     "iopub.execute_input": "2024-04-30T13:45:40.151828Z",
     "iopub.status.busy": "2024-04-30T13:45:40.151357Z",
     "iopub.status.idle": "2024-04-30T13:45:40.179791Z",
     "shell.execute_reply": "2024-04-30T13:45:40.178093Z",
     "shell.execute_reply.started": "2024-04-30T13:45:40.151796Z"
    },
    "papermill": {
     "duration": null,
     "end_time": null,
     "exception": null,
     "start_time": null,
     "status": "pending"
    },
    "tags": []
   },
   "outputs": [],
   "source": [
    "# Cria uma nova coluna DEFAULT com valores vazios\n",
    "apr['DEFAULT'] = np.nan\n",
    "\n",
    "# Cria um vetor booleano com os indíces que pertencem ao dataframe 'grouped' dentro de 'apr'\n",
    "vector = apr['ID'].isin(grouped.index)\n",
    "\n",
    "# Preenche a coluna DEFAULT com o valor 0 para todos os valores no vetor booleano\n",
    "apr.loc[vector, 'DEFAULT'] = 0\n",
    "\n",
    "# Visualiza\n",
    "apr[['DEFAULT', 'ID']].head(5)"
   ]
  },
  {
   "cell_type": "code",
   "execution_count": null,
   "id": "41e80c4e",
   "metadata": {
    "execution": {
     "iopub.execute_input": "2024-04-30T13:45:46.044864Z",
     "iopub.status.busy": "2024-04-30T13:45:46.044190Z",
     "iopub.status.idle": "2024-04-30T13:45:46.072669Z",
     "shell.execute_reply": "2024-04-30T13:45:46.071089Z",
     "shell.execute_reply.started": "2024-04-30T13:45:46.044819Z"
    },
    "papermill": {
     "duration": null,
     "end_time": null,
     "exception": null,
     "start_time": null,
     "status": "pending"
    },
    "tags": []
   },
   "outputs": [],
   "source": [
    "# Cria um subconjunto com os valores de DEFAULT não nulos de 'apr' e pega apenas as colunas DEFAULT e ID\n",
    "subset = apr[apr['DEFAULT'] == 0.0][['DEFAULT', 'ID']]\n",
    "\n",
    "# Cria uma serie com os valores DEFAULT de 'grouped' dos indíces correspondentes\n",
    "defaults = grouped.loc[subset['ID'], 'DEFAULT']\n",
    "\n",
    "# Mapeia o subconjunto com os valores de defaults correspondentes aos ID de 'grouped'\n",
    "subset['DEFAULT'] = subset['ID'].map(defaults)\n",
    "subset.head(5)"
   ]
  },
  {
   "cell_type": "code",
   "execution_count": null,
   "id": "8a2b4d61",
   "metadata": {
    "execution": {
     "iopub.execute_input": "2024-04-30T13:45:48.519704Z",
     "iopub.status.busy": "2024-04-30T13:45:48.519183Z",
     "iopub.status.idle": "2024-04-30T13:45:48.538402Z",
     "shell.execute_reply": "2024-04-30T13:45:48.536567Z",
     "shell.execute_reply.started": "2024-04-30T13:45:48.519668Z"
    },
    "papermill": {
     "duration": null,
     "end_time": null,
     "exception": null,
     "start_time": null,
     "status": "pending"
    },
    "tags": []
   },
   "outputs": [],
   "source": [
    "# Integra o subconjunto de volta ao dataframe original\n",
    "apr.loc[subset.index, 'DEFAULT'] = subset['DEFAULT']\n",
    "apr['DEFAULT'] = apr['DEFAULT'].astype(np.int64)\n",
    "apr['DEFAULT'].value_counts()"
   ]
  },
  {
   "cell_type": "markdown",
   "id": "8d2753be",
   "metadata": {
    "papermill": {
     "duration": null,
     "end_time": null,
     "exception": null,
     "start_time": null,
     "status": "pending"
    },
    "tags": []
   },
   "source": [
    "# 3. Treinando o Modelo"
   ]
  },
  {
   "cell_type": "markdown",
   "id": "149e4eb4",
   "metadata": {
    "papermill": {
     "duration": null,
     "end_time": null,
     "exception": null,
     "start_time": null,
     "status": "pending"
    },
    "tags": []
   },
   "source": [
    "Com todas as etapas de preparação concluídas, vamos dar inicio ao treinamento do modelo de árvore de decisão."
   ]
  },
  {
   "cell_type": "markdown",
   "id": "a3d266f8",
   "metadata": {
    "papermill": {
     "duration": null,
     "end_time": null,
     "exception": null,
     "start_time": null,
     "status": "pending"
    },
    "tags": []
   },
   "source": [
    "## 3.1 Preparando Dados"
   ]
  },
  {
   "cell_type": "markdown",
   "id": "8850df4e",
   "metadata": {
    "papermill": {
     "duration": null,
     "end_time": null,
     "exception": null,
     "start_time": null,
     "status": "pending"
    },
    "tags": []
   },
   "source": [
    "Vamos eliminar quaisquer linhas vazias, nesse caso, linhas no conjunto de dados original que não possuí uma correspondência dentro do conjunto de dados de registro de crédito."
   ]
  },
  {
   "cell_type": "code",
   "execution_count": null,
   "id": "60410632",
   "metadata": {
    "execution": {
     "iopub.execute_input": "2024-04-30T13:47:53.173279Z",
     "iopub.status.busy": "2024-04-30T13:47:53.172725Z",
     "iopub.status.idle": "2024-04-30T13:47:53.207596Z",
     "shell.execute_reply": "2024-04-30T13:47:53.206048Z",
     "shell.execute_reply.started": "2024-04-30T13:47:53.173244Z"
    },
    "papermill": {
     "duration": null,
     "end_time": null,
     "exception": null,
     "start_time": null,
     "status": "pending"
    },
    "tags": []
   },
   "outputs": [],
   "source": [
    "before, _ = apr.shape\n",
    "apr.dropna(inplace=True)\n",
    "after, _ = apr.shape\n",
    "print(f'Foi removido {before-after} linhas vazias.')"
   ]
  },
  {
   "cell_type": "markdown",
   "id": "8cc90577",
   "metadata": {
    "papermill": {
     "duration": null,
     "end_time": null,
     "exception": null,
     "start_time": null,
     "status": "pending"
    },
    "tags": []
   },
   "source": [
    "Como a coluna ID não é uma informação útil para o treinamento do modelo, vamos nos livrar dela."
   ]
  },
  {
   "cell_type": "code",
   "execution_count": null,
   "id": "5f0457e0",
   "metadata": {
    "execution": {
     "iopub.execute_input": "2024-04-30T13:48:23.624370Z",
     "iopub.status.busy": "2024-04-30T13:48:23.623889Z",
     "iopub.status.idle": "2024-04-30T13:48:23.651291Z",
     "shell.execute_reply": "2024-04-30T13:48:23.650390Z",
     "shell.execute_reply.started": "2024-04-30T13:48:23.624334Z"
    },
    "papermill": {
     "duration": null,
     "end_time": null,
     "exception": null,
     "start_time": null,
     "status": "pending"
    },
    "tags": []
   },
   "outputs": [],
   "source": [
    "apr.drop('ID', inplace=True, axis=1)\n",
    "apr.head(5)"
   ]
  },
  {
   "cell_type": "markdown",
   "id": "53a95351",
   "metadata": {
    "papermill": {
     "duration": null,
     "end_time": null,
     "exception": null,
     "start_time": null,
     "status": "pending"
    },
    "tags": []
   },
   "source": [
    "Antes de treinar o modelo, vamos observar a distribuição das observações de **maus pagadores** e **bons pagadores** dentro do conjunto de dados."
   ]
  },
  {
   "cell_type": "code",
   "execution_count": null,
   "id": "c937f8f3",
   "metadata": {
    "execution": {
     "iopub.execute_input": "2024-04-30T13:49:28.155854Z",
     "iopub.status.busy": "2024-04-30T13:49:28.155391Z",
     "iopub.status.idle": "2024-04-30T13:49:28.170331Z",
     "shell.execute_reply": "2024-04-30T13:49:28.168817Z",
     "shell.execute_reply.started": "2024-04-30T13:49:28.155823Z"
    },
    "papermill": {
     "duration": null,
     "end_time": null,
     "exception": null,
     "start_time": null,
     "status": "pending"
    },
    "tags": []
   },
   "outputs": [],
   "source": [
    "apr['DEFAULT'].value_counts() / apr['DEFAULT'].shape * 100"
   ]
  },
  {
   "cell_type": "markdown",
   "id": "21c3fbee",
   "metadata": {
    "papermill": {
     "duration": null,
     "end_time": null,
     "exception": null,
     "start_time": null,
     "status": "pending"
    },
    "tags": []
   },
   "source": [
    "É possível notar que existem mais **bons pagadores** no nosso conjunto de dados do que **maus pagadores**."
   ]
  },
  {
   "cell_type": "markdown",
   "id": "b3e22898",
   "metadata": {
    "papermill": {
     "duration": null,
     "end_time": null,
     "exception": null,
     "start_time": null,
     "status": "pending"
    },
    "tags": []
   },
   "source": [
    "## 3.2 Treinamento com Todas as Variáveis"
   ]
  },
  {
   "cell_type": "markdown",
   "id": "a832b2d1",
   "metadata": {
    "papermill": {
     "duration": null,
     "end_time": null,
     "exception": null,
     "start_time": null,
     "status": "pending"
    },
    "tags": []
   },
   "source": [
    "Primeiro, vamos tentar criar um modelo utilizando todas as variáveis do conjunto de dados."
   ]
  },
  {
   "cell_type": "code",
   "execution_count": null,
   "id": "fed30eca",
   "metadata": {
    "_kg_hide-input": false,
    "execution": {
     "iopub.execute_input": "2024-04-30T13:51:13.779629Z",
     "iopub.status.busy": "2024-04-30T13:51:13.775596Z",
     "iopub.status.idle": "2024-04-30T13:51:14.424190Z",
     "shell.execute_reply": "2024-04-30T13:51:14.422691Z",
     "shell.execute_reply.started": "2024-04-30T13:51:13.779582Z"
    },
    "papermill": {
     "duration": null,
     "end_time": null,
     "exception": null,
     "start_time": null,
     "status": "pending"
    },
    "tags": []
   },
   "outputs": [],
   "source": [
    "# Criando árvore de decisão\n",
    "clf = DecisionTreeClassifier(random_state=100, \n",
    "                             criterion=\"gini\", \n",
    "                             splitter=\"best\", \n",
    "                             max_depth=5, \n",
    "                             min_samples_split=600,\n",
    "                             min_samples_leaf=800)\n",
    "\n",
    "# Dividindo conjunto de dados em X e Y\n",
    "features = apr.loc[:, apr.columns != 'DEFAULT']\n",
    "target = apr['DEFAULT']\n",
    "\n",
    "# Subdividindo conjunto de dados em dados para treino e teste\n",
    "x_train, x_test, y_train, y_test = train_test_split(features, target, test_size=0.3)\n",
    "\n",
    "# Treinando o modelo\n",
    "clf.fit(x_train, y_train)\n",
    "\n",
    "# Visualizando a árvore\n",
    "plot_tree(clf, filled=True, feature_names=apr.columns, class_names=['Aprovado', 'Reprovado'])"
   ]
  },
  {
   "cell_type": "code",
   "execution_count": null,
   "id": "b692fcc0",
   "metadata": {
    "execution": {
     "iopub.execute_input": "2024-04-30T13:51:27.944025Z",
     "iopub.status.busy": "2024-04-30T13:51:27.943559Z",
     "iopub.status.idle": "2024-04-30T13:51:28.313891Z",
     "shell.execute_reply": "2024-04-30T13:51:28.312555Z",
     "shell.execute_reply.started": "2024-04-30T13:51:27.943991Z"
    },
    "papermill": {
     "duration": null,
     "end_time": null,
     "exception": null,
     "start_time": null,
     "status": "pending"
    },
    "tags": []
   },
   "outputs": [],
   "source": [
    "# Criando previsões\n",
    "y_pred = clf.predict(x_test)\n",
    "\n",
    "# Criando matriz de confusão\n",
    "cm = confusion_matrix(y_test, y_pred)\n",
    "\n",
    "# Visualizando matriz de confusão\n",
    "classes = ['Aprovado \\n(DEFAULT=0)', 'Reprovado \\n(DEFAULT=1)']\n",
    "plt.figure(figsize=(8, 6))\n",
    "sns.heatmap(cm, annot=True, fmt='d', cmap='Blues', xticklabels=classes, yticklabels=classes)\n",
    "plt.xlabel('Valor Previsto')\n",
    "plt.ylabel('Valor Real')\n",
    "plt.title('Matriz de Confusão')\n",
    "plt.show()"
   ]
  },
  {
   "cell_type": "code",
   "execution_count": null,
   "id": "4f3b3720",
   "metadata": {
    "execution": {
     "iopub.execute_input": "2024-04-30T13:53:44.899240Z",
     "iopub.status.busy": "2024-04-30T13:53:44.898353Z",
     "iopub.status.idle": "2024-04-30T13:53:44.911795Z",
     "shell.execute_reply": "2024-04-30T13:53:44.910348Z",
     "shell.execute_reply.started": "2024-04-30T13:53:44.899199Z"
    },
    "papermill": {
     "duration": null,
     "end_time": null,
     "exception": null,
     "start_time": null,
     "status": "pending"
    },
    "tags": []
   },
   "outputs": [],
   "source": [
    "ac_allv = accuracy_score(y_test, y_pred) * 100\n",
    "print(f'A acurácia do modelo treinado com todas as variáveis é de {ac_allv:.2f}%')"
   ]
  },
  {
   "cell_type": "markdown",
   "id": "9691686b",
   "metadata": {
    "papermill": {
     "duration": null,
     "end_time": null,
     "exception": null,
     "start_time": null,
     "status": "pending"
    },
    "tags": []
   },
   "source": [
    "## 3.3 Treinando o Modelo com Apenas Variáveis Contínuas"
   ]
  },
  {
   "cell_type": "markdown",
   "id": "f2a89dac",
   "metadata": {
    "papermill": {
     "duration": null,
     "end_time": null,
     "exception": null,
     "start_time": null,
     "status": "pending"
    },
    "tags": []
   },
   "source": [
    "Agora vamos tentar criar um modelo que utiliza apenas valores contínuos."
   ]
  },
  {
   "cell_type": "code",
   "execution_count": null,
   "id": "1d844d3e",
   "metadata": {
    "execution": {
     "iopub.execute_input": "2024-04-30T13:54:31.792835Z",
     "iopub.status.busy": "2024-04-30T13:54:31.792330Z",
     "iopub.status.idle": "2024-04-30T13:54:31.823134Z",
     "shell.execute_reply": "2024-04-30T13:54:31.821504Z",
     "shell.execute_reply.started": "2024-04-30T13:54:31.792802Z"
    },
    "papermill": {
     "duration": null,
     "end_time": null,
     "exception": null,
     "start_time": null,
     "status": "pending"
    },
    "tags": []
   },
   "outputs": [],
   "source": [
    "apr_c = apr.loc[:, apr[:].nunique() > 2]\n",
    "apr_c['DEFAULT'] = apr['DEFAULT']\n",
    "apr_c.head(5)"
   ]
  },
  {
   "cell_type": "code",
   "execution_count": null,
   "id": "87af872c",
   "metadata": {
    "execution": {
     "iopub.execute_input": "2024-04-30T13:55:23.796500Z",
     "iopub.status.busy": "2024-04-30T13:55:23.796067Z",
     "iopub.status.idle": "2024-04-30T13:55:24.341168Z",
     "shell.execute_reply": "2024-04-30T13:55:24.339935Z",
     "shell.execute_reply.started": "2024-04-30T13:55:23.796470Z"
    },
    "papermill": {
     "duration": null,
     "end_time": null,
     "exception": null,
     "start_time": null,
     "status": "pending"
    },
    "tags": []
   },
   "outputs": [],
   "source": [
    "# Criando árvore\n",
    "clf = DecisionTreeClassifier(random_state=100, \n",
    "                             criterion=\"gini\", \n",
    "                             splitter=\"best\", \n",
    "                             max_depth=5, \n",
    "                             min_samples_split=600,\n",
    "                             min_samples_leaf=800)\n",
    "\n",
    "# Dividindo conjunto de dados em X e Y\n",
    "features = apr_c.loc[:, apr_c.columns != 'DEFAULT']\n",
    "target = apr_c['DEFAULT']\n",
    "\n",
    "# Subdividindo conjunto de dados em dados de treino e teste\n",
    "x_train, x_test, y_train, y_test = train_test_split(features, target, test_size=0.3)\n",
    "\n",
    "# Treinando modelo\n",
    "clf.fit(x_train, y_train)\n",
    "\n",
    "# Visualizando árvore\n",
    "plot_tree(clf, filled=True, feature_names=apr_c.columns, class_names=['Aprovado', 'Reprovado'])"
   ]
  },
  {
   "cell_type": "code",
   "execution_count": null,
   "id": "80038504",
   "metadata": {
    "execution": {
     "iopub.execute_input": "2024-04-30T13:55:55.799947Z",
     "iopub.status.busy": "2024-04-30T13:55:55.799462Z",
     "iopub.status.idle": "2024-04-30T13:55:56.147986Z",
     "shell.execute_reply": "2024-04-30T13:55:56.146759Z",
     "shell.execute_reply.started": "2024-04-30T13:55:55.799914Z"
    },
    "papermill": {
     "duration": null,
     "end_time": null,
     "exception": null,
     "start_time": null,
     "status": "pending"
    },
    "tags": []
   },
   "outputs": [],
   "source": [
    "# Criando previsões\n",
    "y_pred = clf.predict(x_test)\n",
    "\n",
    "# Criando matriz de confusão\n",
    "cm = confusion_matrix(y_test, y_pred)\n",
    "\n",
    "# Visualizando matriz de confusão\n",
    "classes = ['Aprovado \\n(DEFAULT=0)', 'Reprovado \\n(DEFAULT=1)']\n",
    "plt.figure(figsize=(8, 6))\n",
    "sns.heatmap(cm, annot=True, fmt='d', cmap='Blues', xticklabels=classes, yticklabels=classes)\n",
    "plt.xlabel('Valor Previsto')\n",
    "plt.ylabel('Valor Real')\n",
    "plt.title('Matriz de Confusão')\n",
    "plt.show()"
   ]
  },
  {
   "cell_type": "code",
   "execution_count": null,
   "id": "ec08ddbf",
   "metadata": {
    "execution": {
     "iopub.execute_input": "2024-04-30T13:56:26.000321Z",
     "iopub.status.busy": "2024-04-30T13:56:25.999814Z",
     "iopub.status.idle": "2024-04-30T13:56:26.010600Z",
     "shell.execute_reply": "2024-04-30T13:56:26.008630Z",
     "shell.execute_reply.started": "2024-04-30T13:56:26.000286Z"
    },
    "papermill": {
     "duration": null,
     "end_time": null,
     "exception": null,
     "start_time": null,
     "status": "pending"
    },
    "tags": []
   },
   "outputs": [],
   "source": [
    "ac_conv = accuracy_score(y_test, y_pred) * 100\n",
    "print(f'A acurácia do modelo usando apenas valores contínuos é de {ac_conv:.2f}%')"
   ]
  },
  {
   "cell_type": "markdown",
   "id": "40e957a5",
   "metadata": {
    "papermill": {
     "duration": null,
     "end_time": null,
     "exception": null,
     "start_time": null,
     "status": "pending"
    },
    "tags": []
   },
   "source": [
    "## 3.4 Treinando Modelo com Apenas Variáveis Discretas"
   ]
  },
  {
   "cell_type": "markdown",
   "id": "ed5e79f8",
   "metadata": {
    "papermill": {
     "duration": null,
     "end_time": null,
     "exception": null,
     "start_time": null,
     "status": "pending"
    },
    "tags": []
   },
   "source": [
    "Por fim, vamos criar um terceiro modelo usando apenas valores discretos."
   ]
  },
  {
   "cell_type": "code",
   "execution_count": null,
   "id": "23bb5aac",
   "metadata": {
    "execution": {
     "iopub.execute_input": "2024-04-30T13:57:16.760467Z",
     "iopub.status.busy": "2024-04-30T13:57:16.759976Z",
     "iopub.status.idle": "2024-04-30T13:57:16.804400Z",
     "shell.execute_reply": "2024-04-30T13:57:16.802308Z",
     "shell.execute_reply.started": "2024-04-30T13:57:16.760433Z"
    },
    "papermill": {
     "duration": null,
     "end_time": null,
     "exception": null,
     "start_time": null,
     "status": "pending"
    },
    "tags": []
   },
   "outputs": [],
   "source": [
    "apr_d = apr.loc[:, apr[:].nunique() == 2]\n",
    "apr_d"
   ]
  },
  {
   "cell_type": "code",
   "execution_count": null,
   "id": "aef4e2b3",
   "metadata": {
    "execution": {
     "iopub.execute_input": "2024-04-30T13:58:10.423141Z",
     "iopub.status.busy": "2024-04-30T13:58:10.422566Z",
     "iopub.status.idle": "2024-04-30T13:58:12.313448Z",
     "shell.execute_reply": "2024-04-30T13:58:12.312304Z",
     "shell.execute_reply.started": "2024-04-30T13:58:10.423105Z"
    },
    "papermill": {
     "duration": null,
     "end_time": null,
     "exception": null,
     "start_time": null,
     "status": "pending"
    },
    "tags": []
   },
   "outputs": [],
   "source": [
    "# Criando árvore de decisão\n",
    "clf = DecisionTreeClassifier(random_state=100, \n",
    "                             criterion=\"gini\", \n",
    "                             splitter=\"best\", \n",
    "                             max_depth=10, \n",
    "                             min_samples_split=150,\n",
    "                             min_samples_leaf=200)\n",
    "\n",
    "# Dividindo conjunto de dados em X e Y\n",
    "features = apr_d.loc[:, apr_d.columns != 'DEFAULT']\n",
    "target = apr_d['DEFAULT']\n",
    "\n",
    "# Subdividindo conjunto de dados em dados de treino e teste\n",
    "x_train, x_test, y_train, y_test = train_test_split(features, target, test_size=0.3)\n",
    "\n",
    "# Treinando modelo\n",
    "clf.fit(x_train, y_train)\n",
    "\n",
    "# Visualizando árvore\n",
    "plot_tree(clf, filled=True, feature_names=apr_d.columns, class_names=['Aprovado', 'Reprovado'])"
   ]
  },
  {
   "cell_type": "code",
   "execution_count": null,
   "id": "741c8d84",
   "metadata": {
    "execution": {
     "iopub.execute_input": "2024-04-30T13:58:41.401940Z",
     "iopub.status.busy": "2024-04-30T13:58:41.401509Z",
     "iopub.status.idle": "2024-04-30T13:58:41.748415Z",
     "shell.execute_reply": "2024-04-30T13:58:41.747383Z",
     "shell.execute_reply.started": "2024-04-30T13:58:41.401910Z"
    },
    "papermill": {
     "duration": null,
     "end_time": null,
     "exception": null,
     "start_time": null,
     "status": "pending"
    },
    "tags": []
   },
   "outputs": [],
   "source": [
    "# Criando previsões\n",
    "y_pred = clf.predict(x_test)\n",
    "\n",
    "# Criando matriz de confusão\n",
    "cm = confusion_matrix(y_test, y_pred)\n",
    "\n",
    "# Visualizando matriz de confusão\n",
    "classes = ['Aprovado \\n(DEFAULT=0)', 'Reprovado \\n(DEFAULT=1)']\n",
    "plt.figure(figsize=(8, 6))\n",
    "sns.heatmap(cm, annot=True, fmt='d', cmap='Blues', xticklabels=classes, yticklabels=classes)\n",
    "plt.xlabel('Valor Previsto')\n",
    "plt.ylabel('Valor Real')\n",
    "plt.title('Matriz de Confusão')\n",
    "plt.show()"
   ]
  },
  {
   "cell_type": "code",
   "execution_count": null,
   "id": "7a04f99c",
   "metadata": {
    "execution": {
     "iopub.execute_input": "2024-04-30T13:59:17.172257Z",
     "iopub.status.busy": "2024-04-30T13:59:17.171775Z",
     "iopub.status.idle": "2024-04-30T13:59:17.182576Z",
     "shell.execute_reply": "2024-04-30T13:59:17.180860Z",
     "shell.execute_reply.started": "2024-04-30T13:59:17.172223Z"
    },
    "papermill": {
     "duration": null,
     "end_time": null,
     "exception": null,
     "start_time": null,
     "status": "pending"
    },
    "tags": []
   },
   "outputs": [],
   "source": [
    "ac_disv = accuracy_score(y_test, y_pred) * 100\n",
    "print(f'A acurácia do modelo criado usando apenas valores discretos é de {ac_disv:.2f}%')"
   ]
  },
  {
   "cell_type": "markdown",
   "id": "b652cb7b",
   "metadata": {
    "papermill": {
     "duration": null,
     "end_time": null,
     "exception": null,
     "start_time": null,
     "status": "pending"
    },
    "tags": []
   },
   "source": [
    "## 4. Conclusão"
   ]
  },
  {
   "cell_type": "markdown",
   "id": "14cfb5ca",
   "metadata": {
    "papermill": {
     "duration": null,
     "end_time": null,
     "exception": null,
     "start_time": null,
     "status": "pending"
    },
    "tags": []
   },
   "source": [
    "Através da manipulação do conjunto de dados foi criado uma variável de resposta e através da preparação dos dados três modelos diferentes foram treinados, abaixo segue a lista de acurácia de cada um:"
   ]
  },
  {
   "cell_type": "code",
   "execution_count": null,
   "id": "937ad3cc",
   "metadata": {
    "execution": {
     "iopub.execute_input": "2024-04-30T14:17:55.463995Z",
     "iopub.status.busy": "2024-04-30T14:17:55.460907Z",
     "iopub.status.idle": "2024-04-30T14:17:55.471748Z",
     "shell.execute_reply": "2024-04-30T14:17:55.469922Z",
     "shell.execute_reply.started": "2024-04-30T14:17:55.463927Z"
    },
    "papermill": {
     "duration": null,
     "end_time": null,
     "exception": null,
     "start_time": null,
     "status": "pending"
    },
    "tags": []
   },
   "outputs": [],
   "source": [
    "print(f'Com todas as variáveis: {ac_allv:.2f}%')\n",
    "print(f'Com variáveis contínuas: {ac_conv:.2f}%')\n",
    "print(f'Com variáveis discretas: {ac_disv:.2f}%')"
   ]
  }
 ],
 "metadata": {
  "kaggle": {
   "accelerator": "none",
   "dataSources": [
    {
     "datasetId": 426827,
     "sourceId": 1031720,
     "sourceType": "datasetVersion"
    }
   ],
   "dockerImageVersionId": 30698,
   "isGpuEnabled": false,
   "isInternetEnabled": true,
   "language": "python",
   "sourceType": "notebook"
  },
  "kernelspec": {
   "display_name": "Python 3",
   "language": "python",
   "name": "python3"
  },
  "language_info": {
   "codemirror_mode": {
    "name": "ipython",
    "version": 3
   },
   "file_extension": ".py",
   "mimetype": "text/x-python",
   "name": "python",
   "nbconvert_exporter": "python",
   "pygments_lexer": "ipython3",
   "version": "3.10.13"
  },
  "papermill": {
   "default_parameters": {},
   "duration": 18.042812,
   "end_time": "2024-04-30T14:30:28.761252",
   "environment_variables": {},
   "exception": true,
   "input_path": "__notebook__.ipynb",
   "output_path": "__notebook__.ipynb",
   "parameters": {},
   "start_time": "2024-04-30T14:30:10.718440",
   "version": "2.5.0"
  }
 },
 "nbformat": 4,
 "nbformat_minor": 5
}
